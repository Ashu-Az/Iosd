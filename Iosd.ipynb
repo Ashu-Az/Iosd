{
  "cells": [
    {
      "cell_type": "markdown",
      "metadata": {
        "id": "view-in-github",
        "colab_type": "text"
      },
      "source": [
        "<a href=\"https://colab.research.google.com/github/Ashu-Az/Iosd/blob/main/Iosd.ipynb\" target=\"_parent\"><img src=\"https://colab.research.google.com/assets/colab-badge.svg\" alt=\"Open In Colab\"/></a>"
      ]
    },
    {
      "cell_type": "markdown",
      "source": [
        "# TASK 1\n",
        "* Implement kernel SVM for classification and provide a comparative study using different kernels(linear, polynomial, gaussian, sigmoid, RBF etc) using precision and f1-scores."
      ],
      "metadata": {
        "id": "kcgCNtVyDw2-"
      },
      "id": "kcgCNtVyDw2-"
    },
    {
      "cell_type": "markdown",
      "source": [
        "# Importing necesassary libraries"
      ],
      "metadata": {
        "id": "Pjja3CxyENuV"
      },
      "id": "Pjja3CxyENuV"
    },
    {
      "cell_type": "code",
      "execution_count": 31,
      "id": "e31f7525",
      "metadata": {
        "id": "e31f7525"
      },
      "outputs": [],
      "source": [
        "import pandas as p\n",
        "import numpy as n\n",
        "import seaborn as s\n",
        "import matplotlib.pyplot as m\n",
        "from pandas.plotting import scatter_matrix\n",
        "from sklearn.model_selection import train_test_split\n",
        "from sklearn.linear_model import LogisticRegression\n",
        "from sklearn.metrics import accuracy_score\n",
        "%matplotlib inline"
      ]
    },
    {
      "cell_type": "code",
      "execution_count": 32,
      "id": "4fccbb56",
      "metadata": {
        "colab": {
          "base_uri": "https://localhost:8080/",
          "height": 713
        },
        "id": "4fccbb56",
        "outputId": "40d073ee-e870-4868-a0bf-b60e015c230e"
      },
      "outputs": [
        {
          "output_type": "execute_result",
          "data": {
            "text/plain": [
              "             id                 name  est_diameter_min  est_diameter_max  \\\n",
              "0       2162635  162635 (2000 SS164)          1.198271          2.679415   \n",
              "1       2277475    277475 (2005 WK4)          0.265800          0.594347   \n",
              "2       2512244   512244 (2015 YE18)          0.722030          1.614507   \n",
              "3       3596030          (2012 BV13)          0.096506          0.215794   \n",
              "4       3667127          (2014 GE35)          0.255009          0.570217   \n",
              "...         ...                  ...               ...               ...   \n",
              "90831   3763337           (2016 VX1)          0.026580          0.059435   \n",
              "90832   3837603           (2019 AD3)          0.016771          0.037501   \n",
              "90833  54017201           (2020 JP3)          0.031956          0.071456   \n",
              "90834  54115824           (2021 CN5)          0.007321          0.016370   \n",
              "90835  54205447           (2021 TW7)          0.039862          0.089133   \n",
              "\n",
              "       relative_velocity  miss_distance orbiting_body  sentry_object  \\\n",
              "0           13569.249224   5.483974e+07         Earth          False   \n",
              "1           73588.726663   6.143813e+07         Earth          False   \n",
              "2          114258.692129   4.979872e+07         Earth          False   \n",
              "3           24764.303138   2.543497e+07         Earth          False   \n",
              "4           42737.733765   4.627557e+07         Earth          False   \n",
              "...                  ...            ...           ...            ...   \n",
              "90831       52078.886692   1.230039e+07         Earth          False   \n",
              "90832       46114.605073   5.432121e+07         Earth          False   \n",
              "90833        7566.807732   2.840077e+07         Earth          False   \n",
              "90834       69199.154484   6.869206e+07         Earth          False   \n",
              "90835       27024.455553   5.977213e+07         Earth          False   \n",
              "\n",
              "       absolute_magnitude  hazardous  \n",
              "0                   16.73      False  \n",
              "1                   20.00       True  \n",
              "2                   17.83      False  \n",
              "3                   22.20      False  \n",
              "4                   20.09       True  \n",
              "...                   ...        ...  \n",
              "90831               25.00      False  \n",
              "90832               26.00      False  \n",
              "90833               24.60      False  \n",
              "90834               27.80      False  \n",
              "90835               24.12      False  \n",
              "\n",
              "[90836 rows x 10 columns]"
            ],
            "text/html": [
              "\n",
              "  <div id=\"df-617cd627-b6cd-41e3-b51b-610395905676\">\n",
              "    <div class=\"colab-df-container\">\n",
              "      <div>\n",
              "<style scoped>\n",
              "    .dataframe tbody tr th:only-of-type {\n",
              "        vertical-align: middle;\n",
              "    }\n",
              "\n",
              "    .dataframe tbody tr th {\n",
              "        vertical-align: top;\n",
              "    }\n",
              "\n",
              "    .dataframe thead th {\n",
              "        text-align: right;\n",
              "    }\n",
              "</style>\n",
              "<table border=\"1\" class=\"dataframe\">\n",
              "  <thead>\n",
              "    <tr style=\"text-align: right;\">\n",
              "      <th></th>\n",
              "      <th>id</th>\n",
              "      <th>name</th>\n",
              "      <th>est_diameter_min</th>\n",
              "      <th>est_diameter_max</th>\n",
              "      <th>relative_velocity</th>\n",
              "      <th>miss_distance</th>\n",
              "      <th>orbiting_body</th>\n",
              "      <th>sentry_object</th>\n",
              "      <th>absolute_magnitude</th>\n",
              "      <th>hazardous</th>\n",
              "    </tr>\n",
              "  </thead>\n",
              "  <tbody>\n",
              "    <tr>\n",
              "      <th>0</th>\n",
              "      <td>2162635</td>\n",
              "      <td>162635 (2000 SS164)</td>\n",
              "      <td>1.198271</td>\n",
              "      <td>2.679415</td>\n",
              "      <td>13569.249224</td>\n",
              "      <td>5.483974e+07</td>\n",
              "      <td>Earth</td>\n",
              "      <td>False</td>\n",
              "      <td>16.73</td>\n",
              "      <td>False</td>\n",
              "    </tr>\n",
              "    <tr>\n",
              "      <th>1</th>\n",
              "      <td>2277475</td>\n",
              "      <td>277475 (2005 WK4)</td>\n",
              "      <td>0.265800</td>\n",
              "      <td>0.594347</td>\n",
              "      <td>73588.726663</td>\n",
              "      <td>6.143813e+07</td>\n",
              "      <td>Earth</td>\n",
              "      <td>False</td>\n",
              "      <td>20.00</td>\n",
              "      <td>True</td>\n",
              "    </tr>\n",
              "    <tr>\n",
              "      <th>2</th>\n",
              "      <td>2512244</td>\n",
              "      <td>512244 (2015 YE18)</td>\n",
              "      <td>0.722030</td>\n",
              "      <td>1.614507</td>\n",
              "      <td>114258.692129</td>\n",
              "      <td>4.979872e+07</td>\n",
              "      <td>Earth</td>\n",
              "      <td>False</td>\n",
              "      <td>17.83</td>\n",
              "      <td>False</td>\n",
              "    </tr>\n",
              "    <tr>\n",
              "      <th>3</th>\n",
              "      <td>3596030</td>\n",
              "      <td>(2012 BV13)</td>\n",
              "      <td>0.096506</td>\n",
              "      <td>0.215794</td>\n",
              "      <td>24764.303138</td>\n",
              "      <td>2.543497e+07</td>\n",
              "      <td>Earth</td>\n",
              "      <td>False</td>\n",
              "      <td>22.20</td>\n",
              "      <td>False</td>\n",
              "    </tr>\n",
              "    <tr>\n",
              "      <th>4</th>\n",
              "      <td>3667127</td>\n",
              "      <td>(2014 GE35)</td>\n",
              "      <td>0.255009</td>\n",
              "      <td>0.570217</td>\n",
              "      <td>42737.733765</td>\n",
              "      <td>4.627557e+07</td>\n",
              "      <td>Earth</td>\n",
              "      <td>False</td>\n",
              "      <td>20.09</td>\n",
              "      <td>True</td>\n",
              "    </tr>\n",
              "    <tr>\n",
              "      <th>...</th>\n",
              "      <td>...</td>\n",
              "      <td>...</td>\n",
              "      <td>...</td>\n",
              "      <td>...</td>\n",
              "      <td>...</td>\n",
              "      <td>...</td>\n",
              "      <td>...</td>\n",
              "      <td>...</td>\n",
              "      <td>...</td>\n",
              "      <td>...</td>\n",
              "    </tr>\n",
              "    <tr>\n",
              "      <th>90831</th>\n",
              "      <td>3763337</td>\n",
              "      <td>(2016 VX1)</td>\n",
              "      <td>0.026580</td>\n",
              "      <td>0.059435</td>\n",
              "      <td>52078.886692</td>\n",
              "      <td>1.230039e+07</td>\n",
              "      <td>Earth</td>\n",
              "      <td>False</td>\n",
              "      <td>25.00</td>\n",
              "      <td>False</td>\n",
              "    </tr>\n",
              "    <tr>\n",
              "      <th>90832</th>\n",
              "      <td>3837603</td>\n",
              "      <td>(2019 AD3)</td>\n",
              "      <td>0.016771</td>\n",
              "      <td>0.037501</td>\n",
              "      <td>46114.605073</td>\n",
              "      <td>5.432121e+07</td>\n",
              "      <td>Earth</td>\n",
              "      <td>False</td>\n",
              "      <td>26.00</td>\n",
              "      <td>False</td>\n",
              "    </tr>\n",
              "    <tr>\n",
              "      <th>90833</th>\n",
              "      <td>54017201</td>\n",
              "      <td>(2020 JP3)</td>\n",
              "      <td>0.031956</td>\n",
              "      <td>0.071456</td>\n",
              "      <td>7566.807732</td>\n",
              "      <td>2.840077e+07</td>\n",
              "      <td>Earth</td>\n",
              "      <td>False</td>\n",
              "      <td>24.60</td>\n",
              "      <td>False</td>\n",
              "    </tr>\n",
              "    <tr>\n",
              "      <th>90834</th>\n",
              "      <td>54115824</td>\n",
              "      <td>(2021 CN5)</td>\n",
              "      <td>0.007321</td>\n",
              "      <td>0.016370</td>\n",
              "      <td>69199.154484</td>\n",
              "      <td>6.869206e+07</td>\n",
              "      <td>Earth</td>\n",
              "      <td>False</td>\n",
              "      <td>27.80</td>\n",
              "      <td>False</td>\n",
              "    </tr>\n",
              "    <tr>\n",
              "      <th>90835</th>\n",
              "      <td>54205447</td>\n",
              "      <td>(2021 TW7)</td>\n",
              "      <td>0.039862</td>\n",
              "      <td>0.089133</td>\n",
              "      <td>27024.455553</td>\n",
              "      <td>5.977213e+07</td>\n",
              "      <td>Earth</td>\n",
              "      <td>False</td>\n",
              "      <td>24.12</td>\n",
              "      <td>False</td>\n",
              "    </tr>\n",
              "  </tbody>\n",
              "</table>\n",
              "<p>90836 rows × 10 columns</p>\n",
              "</div>\n",
              "      <button class=\"colab-df-convert\" onclick=\"convertToInteractive('df-617cd627-b6cd-41e3-b51b-610395905676')\"\n",
              "              title=\"Convert this dataframe to an interactive table.\"\n",
              "              style=\"display:none;\">\n",
              "        \n",
              "  <svg xmlns=\"http://www.w3.org/2000/svg\" height=\"24px\"viewBox=\"0 0 24 24\"\n",
              "       width=\"24px\">\n",
              "    <path d=\"M0 0h24v24H0V0z\" fill=\"none\"/>\n",
              "    <path d=\"M18.56 5.44l.94 2.06.94-2.06 2.06-.94-2.06-.94-.94-2.06-.94 2.06-2.06.94zm-11 1L8.5 8.5l.94-2.06 2.06-.94-2.06-.94L8.5 2.5l-.94 2.06-2.06.94zm10 10l.94 2.06.94-2.06 2.06-.94-2.06-.94-.94-2.06-.94 2.06-2.06.94z\"/><path d=\"M17.41 7.96l-1.37-1.37c-.4-.4-.92-.59-1.43-.59-.52 0-1.04.2-1.43.59L10.3 9.45l-7.72 7.72c-.78.78-.78 2.05 0 2.83L4 21.41c.39.39.9.59 1.41.59.51 0 1.02-.2 1.41-.59l7.78-7.78 2.81-2.81c.8-.78.8-2.07 0-2.86zM5.41 20L4 18.59l7.72-7.72 1.47 1.35L5.41 20z\"/>\n",
              "  </svg>\n",
              "      </button>\n",
              "      \n",
              "  <style>\n",
              "    .colab-df-container {\n",
              "      display:flex;\n",
              "      flex-wrap:wrap;\n",
              "      gap: 12px;\n",
              "    }\n",
              "\n",
              "    .colab-df-convert {\n",
              "      background-color: #E8F0FE;\n",
              "      border: none;\n",
              "      border-radius: 50%;\n",
              "      cursor: pointer;\n",
              "      display: none;\n",
              "      fill: #1967D2;\n",
              "      height: 32px;\n",
              "      padding: 0 0 0 0;\n",
              "      width: 32px;\n",
              "    }\n",
              "\n",
              "    .colab-df-convert:hover {\n",
              "      background-color: #E2EBFA;\n",
              "      box-shadow: 0px 1px 2px rgba(60, 64, 67, 0.3), 0px 1px 3px 1px rgba(60, 64, 67, 0.15);\n",
              "      fill: #174EA6;\n",
              "    }\n",
              "\n",
              "    [theme=dark] .colab-df-convert {\n",
              "      background-color: #3B4455;\n",
              "      fill: #D2E3FC;\n",
              "    }\n",
              "\n",
              "    [theme=dark] .colab-df-convert:hover {\n",
              "      background-color: #434B5C;\n",
              "      box-shadow: 0px 1px 3px 1px rgba(0, 0, 0, 0.15);\n",
              "      filter: drop-shadow(0px 1px 2px rgba(0, 0, 0, 0.3));\n",
              "      fill: #FFFFFF;\n",
              "    }\n",
              "  </style>\n",
              "\n",
              "      <script>\n",
              "        const buttonEl =\n",
              "          document.querySelector('#df-617cd627-b6cd-41e3-b51b-610395905676 button.colab-df-convert');\n",
              "        buttonEl.style.display =\n",
              "          google.colab.kernel.accessAllowed ? 'block' : 'none';\n",
              "\n",
              "        async function convertToInteractive(key) {\n",
              "          const element = document.querySelector('#df-617cd627-b6cd-41e3-b51b-610395905676');\n",
              "          const dataTable =\n",
              "            await google.colab.kernel.invokeFunction('convertToInteractive',\n",
              "                                                     [key], {});\n",
              "          if (!dataTable) return;\n",
              "\n",
              "          const docLinkHtml = 'Like what you see? Visit the ' +\n",
              "            '<a target=\"_blank\" href=https://colab.research.google.com/notebooks/data_table.ipynb>data table notebook</a>'\n",
              "            + ' to learn more about interactive tables.';\n",
              "          element.innerHTML = '';\n",
              "          dataTable['output_type'] = 'display_data';\n",
              "          await google.colab.output.renderOutput(dataTable, element);\n",
              "          const docLink = document.createElement('div');\n",
              "          docLink.innerHTML = docLinkHtml;\n",
              "          element.appendChild(docLink);\n",
              "        }\n",
              "      </script>\n",
              "    </div>\n",
              "  </div>\n",
              "  "
            ]
          },
          "metadata": {},
          "execution_count": 32
        }
      ],
      "source": [
        "df = p.read_csv(\"/content/neo.csv\")\n",
        "df"
      ]
    },
    {
      "cell_type": "code",
      "execution_count": 33,
      "id": "d071ecb0",
      "metadata": {
        "colab": {
          "base_uri": "https://localhost:8080/"
        },
        "id": "d071ecb0",
        "outputId": "99b50290-3933-4708-b8e0-f69a94754140"
      },
      "outputs": [
        {
          "output_type": "stream",
          "name": "stdout",
          "text": [
            "<class 'pandas.core.frame.DataFrame'>\n",
            "RangeIndex: 90836 entries, 0 to 90835\n",
            "Data columns (total 10 columns):\n",
            " #   Column              Non-Null Count  Dtype  \n",
            "---  ------              --------------  -----  \n",
            " 0   id                  90836 non-null  int64  \n",
            " 1   name                90836 non-null  object \n",
            " 2   est_diameter_min    90836 non-null  float64\n",
            " 3   est_diameter_max    90836 non-null  float64\n",
            " 4   relative_velocity   90836 non-null  float64\n",
            " 5   miss_distance       90836 non-null  float64\n",
            " 6   orbiting_body       90836 non-null  object \n",
            " 7   sentry_object       90836 non-null  bool   \n",
            " 8   absolute_magnitude  90836 non-null  float64\n",
            " 9   hazardous           90836 non-null  bool   \n",
            "dtypes: bool(2), float64(5), int64(1), object(2)\n",
            "memory usage: 5.7+ MB\n"
          ]
        }
      ],
      "source": [
        "df.info()\n"
      ]
    },
    {
      "cell_type": "code",
      "execution_count": 34,
      "id": "ba77d514",
      "metadata": {
        "colab": {
          "base_uri": "https://localhost:8080/",
          "height": 300
        },
        "id": "ba77d514",
        "outputId": "66cad376-cb4a-4bd5-82b5-60eb1405c681"
      },
      "outputs": [
        {
          "output_type": "execute_result",
          "data": {
            "text/plain": [
              "                 id  est_diameter_min  est_diameter_max  relative_velocity  \\\n",
              "count  9.083600e+04      90836.000000      90836.000000       90836.000000   \n",
              "mean   1.438288e+07          0.127432          0.284947       48066.918918   \n",
              "std    2.087202e+07          0.298511          0.667491       25293.296961   \n",
              "min    2.000433e+06          0.000609          0.001362         203.346433   \n",
              "25%    3.448110e+06          0.019256          0.043057       28619.020645   \n",
              "50%    3.748362e+06          0.048368          0.108153       44190.117890   \n",
              "75%    3.884023e+06          0.143402          0.320656       62923.604633   \n",
              "max    5.427591e+07         37.892650         84.730541      236990.128088   \n",
              "\n",
              "       miss_distance  absolute_magnitude  \n",
              "count   9.083600e+04        90836.000000  \n",
              "mean    3.706655e+07           23.527103  \n",
              "std     2.235204e+07            2.894086  \n",
              "min     6.745533e+03            9.230000  \n",
              "25%     1.721082e+07           21.340000  \n",
              "50%     3.784658e+07           23.700000  \n",
              "75%     5.654900e+07           25.700000  \n",
              "max     7.479865e+07           33.200000  "
            ],
            "text/html": [
              "\n",
              "  <div id=\"df-603407b4-d2af-4385-b0c7-526acb6e89eb\">\n",
              "    <div class=\"colab-df-container\">\n",
              "      <div>\n",
              "<style scoped>\n",
              "    .dataframe tbody tr th:only-of-type {\n",
              "        vertical-align: middle;\n",
              "    }\n",
              "\n",
              "    .dataframe tbody tr th {\n",
              "        vertical-align: top;\n",
              "    }\n",
              "\n",
              "    .dataframe thead th {\n",
              "        text-align: right;\n",
              "    }\n",
              "</style>\n",
              "<table border=\"1\" class=\"dataframe\">\n",
              "  <thead>\n",
              "    <tr style=\"text-align: right;\">\n",
              "      <th></th>\n",
              "      <th>id</th>\n",
              "      <th>est_diameter_min</th>\n",
              "      <th>est_diameter_max</th>\n",
              "      <th>relative_velocity</th>\n",
              "      <th>miss_distance</th>\n",
              "      <th>absolute_magnitude</th>\n",
              "    </tr>\n",
              "  </thead>\n",
              "  <tbody>\n",
              "    <tr>\n",
              "      <th>count</th>\n",
              "      <td>9.083600e+04</td>\n",
              "      <td>90836.000000</td>\n",
              "      <td>90836.000000</td>\n",
              "      <td>90836.000000</td>\n",
              "      <td>9.083600e+04</td>\n",
              "      <td>90836.000000</td>\n",
              "    </tr>\n",
              "    <tr>\n",
              "      <th>mean</th>\n",
              "      <td>1.438288e+07</td>\n",
              "      <td>0.127432</td>\n",
              "      <td>0.284947</td>\n",
              "      <td>48066.918918</td>\n",
              "      <td>3.706655e+07</td>\n",
              "      <td>23.527103</td>\n",
              "    </tr>\n",
              "    <tr>\n",
              "      <th>std</th>\n",
              "      <td>2.087202e+07</td>\n",
              "      <td>0.298511</td>\n",
              "      <td>0.667491</td>\n",
              "      <td>25293.296961</td>\n",
              "      <td>2.235204e+07</td>\n",
              "      <td>2.894086</td>\n",
              "    </tr>\n",
              "    <tr>\n",
              "      <th>min</th>\n",
              "      <td>2.000433e+06</td>\n",
              "      <td>0.000609</td>\n",
              "      <td>0.001362</td>\n",
              "      <td>203.346433</td>\n",
              "      <td>6.745533e+03</td>\n",
              "      <td>9.230000</td>\n",
              "    </tr>\n",
              "    <tr>\n",
              "      <th>25%</th>\n",
              "      <td>3.448110e+06</td>\n",
              "      <td>0.019256</td>\n",
              "      <td>0.043057</td>\n",
              "      <td>28619.020645</td>\n",
              "      <td>1.721082e+07</td>\n",
              "      <td>21.340000</td>\n",
              "    </tr>\n",
              "    <tr>\n",
              "      <th>50%</th>\n",
              "      <td>3.748362e+06</td>\n",
              "      <td>0.048368</td>\n",
              "      <td>0.108153</td>\n",
              "      <td>44190.117890</td>\n",
              "      <td>3.784658e+07</td>\n",
              "      <td>23.700000</td>\n",
              "    </tr>\n",
              "    <tr>\n",
              "      <th>75%</th>\n",
              "      <td>3.884023e+06</td>\n",
              "      <td>0.143402</td>\n",
              "      <td>0.320656</td>\n",
              "      <td>62923.604633</td>\n",
              "      <td>5.654900e+07</td>\n",
              "      <td>25.700000</td>\n",
              "    </tr>\n",
              "    <tr>\n",
              "      <th>max</th>\n",
              "      <td>5.427591e+07</td>\n",
              "      <td>37.892650</td>\n",
              "      <td>84.730541</td>\n",
              "      <td>236990.128088</td>\n",
              "      <td>7.479865e+07</td>\n",
              "      <td>33.200000</td>\n",
              "    </tr>\n",
              "  </tbody>\n",
              "</table>\n",
              "</div>\n",
              "      <button class=\"colab-df-convert\" onclick=\"convertToInteractive('df-603407b4-d2af-4385-b0c7-526acb6e89eb')\"\n",
              "              title=\"Convert this dataframe to an interactive table.\"\n",
              "              style=\"display:none;\">\n",
              "        \n",
              "  <svg xmlns=\"http://www.w3.org/2000/svg\" height=\"24px\"viewBox=\"0 0 24 24\"\n",
              "       width=\"24px\">\n",
              "    <path d=\"M0 0h24v24H0V0z\" fill=\"none\"/>\n",
              "    <path d=\"M18.56 5.44l.94 2.06.94-2.06 2.06-.94-2.06-.94-.94-2.06-.94 2.06-2.06.94zm-11 1L8.5 8.5l.94-2.06 2.06-.94-2.06-.94L8.5 2.5l-.94 2.06-2.06.94zm10 10l.94 2.06.94-2.06 2.06-.94-2.06-.94-.94-2.06-.94 2.06-2.06.94z\"/><path d=\"M17.41 7.96l-1.37-1.37c-.4-.4-.92-.59-1.43-.59-.52 0-1.04.2-1.43.59L10.3 9.45l-7.72 7.72c-.78.78-.78 2.05 0 2.83L4 21.41c.39.39.9.59 1.41.59.51 0 1.02-.2 1.41-.59l7.78-7.78 2.81-2.81c.8-.78.8-2.07 0-2.86zM5.41 20L4 18.59l7.72-7.72 1.47 1.35L5.41 20z\"/>\n",
              "  </svg>\n",
              "      </button>\n",
              "      \n",
              "  <style>\n",
              "    .colab-df-container {\n",
              "      display:flex;\n",
              "      flex-wrap:wrap;\n",
              "      gap: 12px;\n",
              "    }\n",
              "\n",
              "    .colab-df-convert {\n",
              "      background-color: #E8F0FE;\n",
              "      border: none;\n",
              "      border-radius: 50%;\n",
              "      cursor: pointer;\n",
              "      display: none;\n",
              "      fill: #1967D2;\n",
              "      height: 32px;\n",
              "      padding: 0 0 0 0;\n",
              "      width: 32px;\n",
              "    }\n",
              "\n",
              "    .colab-df-convert:hover {\n",
              "      background-color: #E2EBFA;\n",
              "      box-shadow: 0px 1px 2px rgba(60, 64, 67, 0.3), 0px 1px 3px 1px rgba(60, 64, 67, 0.15);\n",
              "      fill: #174EA6;\n",
              "    }\n",
              "\n",
              "    [theme=dark] .colab-df-convert {\n",
              "      background-color: #3B4455;\n",
              "      fill: #D2E3FC;\n",
              "    }\n",
              "\n",
              "    [theme=dark] .colab-df-convert:hover {\n",
              "      background-color: #434B5C;\n",
              "      box-shadow: 0px 1px 3px 1px rgba(0, 0, 0, 0.15);\n",
              "      filter: drop-shadow(0px 1px 2px rgba(0, 0, 0, 0.3));\n",
              "      fill: #FFFFFF;\n",
              "    }\n",
              "  </style>\n",
              "\n",
              "      <script>\n",
              "        const buttonEl =\n",
              "          document.querySelector('#df-603407b4-d2af-4385-b0c7-526acb6e89eb button.colab-df-convert');\n",
              "        buttonEl.style.display =\n",
              "          google.colab.kernel.accessAllowed ? 'block' : 'none';\n",
              "\n",
              "        async function convertToInteractive(key) {\n",
              "          const element = document.querySelector('#df-603407b4-d2af-4385-b0c7-526acb6e89eb');\n",
              "          const dataTable =\n",
              "            await google.colab.kernel.invokeFunction('convertToInteractive',\n",
              "                                                     [key], {});\n",
              "          if (!dataTable) return;\n",
              "\n",
              "          const docLinkHtml = 'Like what you see? Visit the ' +\n",
              "            '<a target=\"_blank\" href=https://colab.research.google.com/notebooks/data_table.ipynb>data table notebook</a>'\n",
              "            + ' to learn more about interactive tables.';\n",
              "          element.innerHTML = '';\n",
              "          dataTable['output_type'] = 'display_data';\n",
              "          await google.colab.output.renderOutput(dataTable, element);\n",
              "          const docLink = document.createElement('div');\n",
              "          docLink.innerHTML = docLinkHtml;\n",
              "          element.appendChild(docLink);\n",
              "        }\n",
              "      </script>\n",
              "    </div>\n",
              "  </div>\n",
              "  "
            ]
          },
          "metadata": {},
          "execution_count": 34
        }
      ],
      "source": [
        "df.describe()"
      ]
    },
    {
      "cell_type": "code",
      "execution_count": 35,
      "id": "9602f5c7",
      "metadata": {
        "colab": {
          "base_uri": "https://localhost:8080/"
        },
        "id": "9602f5c7",
        "outputId": "ae74b9c2-f9c7-45ff-b356-0fa840291c1e"
      },
      "outputs": [
        {
          "output_type": "execute_result",
          "data": {
            "text/plain": [
              "(90836, 10)"
            ]
          },
          "metadata": {},
          "execution_count": 35
        }
      ],
      "source": [
        "df.shape"
      ]
    },
    {
      "cell_type": "code",
      "execution_count": 36,
      "id": "b4ccc2e8",
      "metadata": {
        "colab": {
          "base_uri": "https://localhost:8080/"
        },
        "id": "b4ccc2e8",
        "outputId": "a0348b3f-ad8b-40c4-f690-78b6def61a0f"
      },
      "outputs": [
        {
          "output_type": "execute_result",
          "data": {
            "text/plain": [
              "id                    90836\n",
              "name                  90836\n",
              "est_diameter_min      90836\n",
              "est_diameter_max      90836\n",
              "relative_velocity     90836\n",
              "miss_distance         90836\n",
              "orbiting_body         90836\n",
              "sentry_object         90836\n",
              "absolute_magnitude    90836\n",
              "hazardous             90836\n",
              "dtype: int64"
            ]
          },
          "metadata": {},
          "execution_count": 36
        }
      ],
      "source": [
        "df.count()"
      ]
    },
    {
      "cell_type": "code",
      "execution_count": 37,
      "id": "434889e1",
      "metadata": {
        "colab": {
          "base_uri": "https://localhost:8080/",
          "height": 300
        },
        "id": "434889e1",
        "outputId": "eed41e71-9947-4aef-d5eb-fe9f85517026"
      },
      "outputs": [
        {
          "output_type": "execute_result",
          "data": {
            "text/plain": [
              "                          id  est_diameter_min  est_diameter_max  \\\n",
              "id                  1.000000         -0.148322         -0.148322   \n",
              "est_diameter_min   -0.148322          1.000000          1.000000   \n",
              "est_diameter_max   -0.148322          1.000000          1.000000   \n",
              "relative_velocity  -0.059176          0.221553          0.221553   \n",
              "miss_distance      -0.056510          0.142241          0.142241   \n",
              "sentry_object            NaN               NaN               NaN   \n",
              "absolute_magnitude  0.277258         -0.560188         -0.560188   \n",
              "hazardous          -0.123443          0.183363          0.183363   \n",
              "\n",
              "                    relative_velocity  miss_distance  sentry_object  \\\n",
              "id                          -0.059176      -0.056510            NaN   \n",
              "est_diameter_min             0.221553       0.142241            NaN   \n",
              "est_diameter_max             0.221553       0.142241            NaN   \n",
              "relative_velocity            1.000000       0.327169            NaN   \n",
              "miss_distance                0.327169       1.000000            NaN   \n",
              "sentry_object                     NaN            NaN            NaN   \n",
              "absolute_magnitude          -0.353863      -0.264168            NaN   \n",
              "hazardous                    0.191185       0.042302            NaN   \n",
              "\n",
              "                    absolute_magnitude  hazardous  \n",
              "id                            0.277258  -0.123443  \n",
              "est_diameter_min             -0.560188   0.183363  \n",
              "est_diameter_max             -0.560188   0.183363  \n",
              "relative_velocity            -0.353863   0.191185  \n",
              "miss_distance                -0.264168   0.042302  \n",
              "sentry_object                      NaN        NaN  \n",
              "absolute_magnitude            1.000000  -0.365267  \n",
              "hazardous                    -0.365267   1.000000  "
            ],
            "text/html": [
              "\n",
              "  <div id=\"df-796a5eb5-b504-4bd4-ba1b-cd333df1d83f\">\n",
              "    <div class=\"colab-df-container\">\n",
              "      <div>\n",
              "<style scoped>\n",
              "    .dataframe tbody tr th:only-of-type {\n",
              "        vertical-align: middle;\n",
              "    }\n",
              "\n",
              "    .dataframe tbody tr th {\n",
              "        vertical-align: top;\n",
              "    }\n",
              "\n",
              "    .dataframe thead th {\n",
              "        text-align: right;\n",
              "    }\n",
              "</style>\n",
              "<table border=\"1\" class=\"dataframe\">\n",
              "  <thead>\n",
              "    <tr style=\"text-align: right;\">\n",
              "      <th></th>\n",
              "      <th>id</th>\n",
              "      <th>est_diameter_min</th>\n",
              "      <th>est_diameter_max</th>\n",
              "      <th>relative_velocity</th>\n",
              "      <th>miss_distance</th>\n",
              "      <th>sentry_object</th>\n",
              "      <th>absolute_magnitude</th>\n",
              "      <th>hazardous</th>\n",
              "    </tr>\n",
              "  </thead>\n",
              "  <tbody>\n",
              "    <tr>\n",
              "      <th>id</th>\n",
              "      <td>1.000000</td>\n",
              "      <td>-0.148322</td>\n",
              "      <td>-0.148322</td>\n",
              "      <td>-0.059176</td>\n",
              "      <td>-0.056510</td>\n",
              "      <td>NaN</td>\n",
              "      <td>0.277258</td>\n",
              "      <td>-0.123443</td>\n",
              "    </tr>\n",
              "    <tr>\n",
              "      <th>est_diameter_min</th>\n",
              "      <td>-0.148322</td>\n",
              "      <td>1.000000</td>\n",
              "      <td>1.000000</td>\n",
              "      <td>0.221553</td>\n",
              "      <td>0.142241</td>\n",
              "      <td>NaN</td>\n",
              "      <td>-0.560188</td>\n",
              "      <td>0.183363</td>\n",
              "    </tr>\n",
              "    <tr>\n",
              "      <th>est_diameter_max</th>\n",
              "      <td>-0.148322</td>\n",
              "      <td>1.000000</td>\n",
              "      <td>1.000000</td>\n",
              "      <td>0.221553</td>\n",
              "      <td>0.142241</td>\n",
              "      <td>NaN</td>\n",
              "      <td>-0.560188</td>\n",
              "      <td>0.183363</td>\n",
              "    </tr>\n",
              "    <tr>\n",
              "      <th>relative_velocity</th>\n",
              "      <td>-0.059176</td>\n",
              "      <td>0.221553</td>\n",
              "      <td>0.221553</td>\n",
              "      <td>1.000000</td>\n",
              "      <td>0.327169</td>\n",
              "      <td>NaN</td>\n",
              "      <td>-0.353863</td>\n",
              "      <td>0.191185</td>\n",
              "    </tr>\n",
              "    <tr>\n",
              "      <th>miss_distance</th>\n",
              "      <td>-0.056510</td>\n",
              "      <td>0.142241</td>\n",
              "      <td>0.142241</td>\n",
              "      <td>0.327169</td>\n",
              "      <td>1.000000</td>\n",
              "      <td>NaN</td>\n",
              "      <td>-0.264168</td>\n",
              "      <td>0.042302</td>\n",
              "    </tr>\n",
              "    <tr>\n",
              "      <th>sentry_object</th>\n",
              "      <td>NaN</td>\n",
              "      <td>NaN</td>\n",
              "      <td>NaN</td>\n",
              "      <td>NaN</td>\n",
              "      <td>NaN</td>\n",
              "      <td>NaN</td>\n",
              "      <td>NaN</td>\n",
              "      <td>NaN</td>\n",
              "    </tr>\n",
              "    <tr>\n",
              "      <th>absolute_magnitude</th>\n",
              "      <td>0.277258</td>\n",
              "      <td>-0.560188</td>\n",
              "      <td>-0.560188</td>\n",
              "      <td>-0.353863</td>\n",
              "      <td>-0.264168</td>\n",
              "      <td>NaN</td>\n",
              "      <td>1.000000</td>\n",
              "      <td>-0.365267</td>\n",
              "    </tr>\n",
              "    <tr>\n",
              "      <th>hazardous</th>\n",
              "      <td>-0.123443</td>\n",
              "      <td>0.183363</td>\n",
              "      <td>0.183363</td>\n",
              "      <td>0.191185</td>\n",
              "      <td>0.042302</td>\n",
              "      <td>NaN</td>\n",
              "      <td>-0.365267</td>\n",
              "      <td>1.000000</td>\n",
              "    </tr>\n",
              "  </tbody>\n",
              "</table>\n",
              "</div>\n",
              "      <button class=\"colab-df-convert\" onclick=\"convertToInteractive('df-796a5eb5-b504-4bd4-ba1b-cd333df1d83f')\"\n",
              "              title=\"Convert this dataframe to an interactive table.\"\n",
              "              style=\"display:none;\">\n",
              "        \n",
              "  <svg xmlns=\"http://www.w3.org/2000/svg\" height=\"24px\"viewBox=\"0 0 24 24\"\n",
              "       width=\"24px\">\n",
              "    <path d=\"M0 0h24v24H0V0z\" fill=\"none\"/>\n",
              "    <path d=\"M18.56 5.44l.94 2.06.94-2.06 2.06-.94-2.06-.94-.94-2.06-.94 2.06-2.06.94zm-11 1L8.5 8.5l.94-2.06 2.06-.94-2.06-.94L8.5 2.5l-.94 2.06-2.06.94zm10 10l.94 2.06.94-2.06 2.06-.94-2.06-.94-.94-2.06-.94 2.06-2.06.94z\"/><path d=\"M17.41 7.96l-1.37-1.37c-.4-.4-.92-.59-1.43-.59-.52 0-1.04.2-1.43.59L10.3 9.45l-7.72 7.72c-.78.78-.78 2.05 0 2.83L4 21.41c.39.39.9.59 1.41.59.51 0 1.02-.2 1.41-.59l7.78-7.78 2.81-2.81c.8-.78.8-2.07 0-2.86zM5.41 20L4 18.59l7.72-7.72 1.47 1.35L5.41 20z\"/>\n",
              "  </svg>\n",
              "      </button>\n",
              "      \n",
              "  <style>\n",
              "    .colab-df-container {\n",
              "      display:flex;\n",
              "      flex-wrap:wrap;\n",
              "      gap: 12px;\n",
              "    }\n",
              "\n",
              "    .colab-df-convert {\n",
              "      background-color: #E8F0FE;\n",
              "      border: none;\n",
              "      border-radius: 50%;\n",
              "      cursor: pointer;\n",
              "      display: none;\n",
              "      fill: #1967D2;\n",
              "      height: 32px;\n",
              "      padding: 0 0 0 0;\n",
              "      width: 32px;\n",
              "    }\n",
              "\n",
              "    .colab-df-convert:hover {\n",
              "      background-color: #E2EBFA;\n",
              "      box-shadow: 0px 1px 2px rgba(60, 64, 67, 0.3), 0px 1px 3px 1px rgba(60, 64, 67, 0.15);\n",
              "      fill: #174EA6;\n",
              "    }\n",
              "\n",
              "    [theme=dark] .colab-df-convert {\n",
              "      background-color: #3B4455;\n",
              "      fill: #D2E3FC;\n",
              "    }\n",
              "\n",
              "    [theme=dark] .colab-df-convert:hover {\n",
              "      background-color: #434B5C;\n",
              "      box-shadow: 0px 1px 3px 1px rgba(0, 0, 0, 0.15);\n",
              "      filter: drop-shadow(0px 1px 2px rgba(0, 0, 0, 0.3));\n",
              "      fill: #FFFFFF;\n",
              "    }\n",
              "  </style>\n",
              "\n",
              "      <script>\n",
              "        const buttonEl =\n",
              "          document.querySelector('#df-796a5eb5-b504-4bd4-ba1b-cd333df1d83f button.colab-df-convert');\n",
              "        buttonEl.style.display =\n",
              "          google.colab.kernel.accessAllowed ? 'block' : 'none';\n",
              "\n",
              "        async function convertToInteractive(key) {\n",
              "          const element = document.querySelector('#df-796a5eb5-b504-4bd4-ba1b-cd333df1d83f');\n",
              "          const dataTable =\n",
              "            await google.colab.kernel.invokeFunction('convertToInteractive',\n",
              "                                                     [key], {});\n",
              "          if (!dataTable) return;\n",
              "\n",
              "          const docLinkHtml = 'Like what you see? Visit the ' +\n",
              "            '<a target=\"_blank\" href=https://colab.research.google.com/notebooks/data_table.ipynb>data table notebook</a>'\n",
              "            + ' to learn more about interactive tables.';\n",
              "          element.innerHTML = '';\n",
              "          dataTable['output_type'] = 'display_data';\n",
              "          await google.colab.output.renderOutput(dataTable, element);\n",
              "          const docLink = document.createElement('div');\n",
              "          docLink.innerHTML = docLinkHtml;\n",
              "          element.appendChild(docLink);\n",
              "        }\n",
              "      </script>\n",
              "    </div>\n",
              "  </div>\n",
              "  "
            ]
          },
          "metadata": {},
          "execution_count": 37
        }
      ],
      "source": [
        "df.corr()"
      ]
    },
    {
      "cell_type": "markdown",
      "source": [
        "# dropping columns which have very less correlation with the target variable"
      ],
      "metadata": {
        "id": "7qEZ0VE8EY12"
      },
      "id": "7qEZ0VE8EY12"
    },
    {
      "cell_type": "code",
      "execution_count": 38,
      "id": "0a9c0873",
      "metadata": {
        "id": "0a9c0873"
      },
      "outputs": [],
      "source": [
        "df.drop('name', inplace=True, axis=1) # Name attribute does not affect the training of the model\n",
        "df.drop('sentry_object', inplace=True, axis=1) # As it have all values NaN we can remove the column entirely\n",
        "df.drop('orbiting_body', inplace=True, axis=1)# In this attribute the values are same for all rows so we can drop it as it will not contribute in training"
      ]
    },
    {
      "cell_type": "code",
      "execution_count": 39,
      "id": "916928ca",
      "metadata": {
        "colab": {
          "base_uri": "https://localhost:8080/"
        },
        "id": "916928ca",
        "outputId": "42cef61b-1b7a-4ec6-b139-ecb8c58b00b1"
      },
      "outputs": [
        {
          "output_type": "execute_result",
          "data": {
            "text/plain": [
              "id                      int64\n",
              "est_diameter_min      float64\n",
              "est_diameter_max      float64\n",
              "relative_velocity     float64\n",
              "miss_distance         float64\n",
              "absolute_magnitude    float64\n",
              "hazardous                bool\n",
              "dtype: object"
            ]
          },
          "metadata": {},
          "execution_count": 39
        }
      ],
      "source": [
        "df.dtypes"
      ]
    },
    {
      "cell_type": "markdown",
      "source": [
        "# Plotting correlation heatmap"
      ],
      "metadata": {
        "id": "ACaYUw53Tdvh"
      },
      "id": "ACaYUw53Tdvh"
    },
    {
      "cell_type": "code",
      "execution_count": 40,
      "id": "978f0d33",
      "metadata": {
        "colab": {
          "base_uri": "https://localhost:8080/",
          "height": 704
        },
        "id": "978f0d33",
        "outputId": "dea409a6-b0d3-4697-b394-2481d2e90ee5"
      },
      "outputs": [
        {
          "output_type": "execute_result",
          "data": {
            "text/plain": [
              "<matplotlib.axes._subplots.AxesSubplot at 0x7f57c4d0d090>"
            ]
          },
          "metadata": {},
          "execution_count": 40
        },
        {
          "output_type": "display_data",
          "data": {
            "text/plain": [
              "<Figure size 720x720 with 2 Axes>"
            ],
            "image/png": "[encoded data removed]"
          },
          "metadata": {
            "needs_background": "light"
          }
        }
      ],
      "source": [
        "m.figure(figsize=(10,10))\n",
        "s.heatmap(df.corr(), annot = True , cmap= \"magma\")"
      ]
    },
    {
      "cell_type": "markdown",
      "source": [
        "# ANALYSATION\n",
        "* Here as we can see every attribute is poorely correlated to the target variable , but miss_distance is very weakly related to all of them "
      ],
      "metadata": {
        "id": "ANqlMouLUXLV"
      },
      "id": "ANqlMouLUXLV"
    },
    {
      "cell_type": "code",
      "execution_count": 41,
      "id": "64e75769",
      "metadata": {
        "colab": {
          "base_uri": "https://localhost:8080/"
        },
        "id": "64e75769",
        "outputId": "d0885830-a3a4-488e-d70e-118b72ff9fb6"
      },
      "outputs": [
        {
          "output_type": "execute_result",
          "data": {
            "text/plain": [
              "id                    0\n",
              "est_diameter_min      0\n",
              "est_diameter_max      0\n",
              "relative_velocity     0\n",
              "miss_distance         0\n",
              "absolute_magnitude    0\n",
              "hazardous             0\n",
              "dtype: int64"
            ]
          },
          "metadata": {},
          "execution_count": 41
        }
      ],
      "source": [
        "df.isnull().sum() # checking null values"
      ]
    },
    {
      "cell_type": "code",
      "source": [
        "print(df['hazardous'].value_counts())\n",
        "print(df.dtypes)"
      ],
      "metadata": {
        "colab": {
          "base_uri": "https://localhost:8080/"
        },
        "id": "JxjX4gY0IuNs",
        "outputId": "10b9d7b0-d716-45ba-9f82-1d96365c7e90"
      },
      "id": "JxjX4gY0IuNs",
      "execution_count": 42,
      "outputs": [
        {
          "output_type": "stream",
          "name": "stdout",
          "text": [
            "False    81996\n",
            "True      8840\n",
            "Name: hazardous, dtype: int64\n",
            "id                      int64\n",
            "est_diameter_min      float64\n",
            "est_diameter_max      float64\n",
            "relative_velocity     float64\n",
            "miss_distance         float64\n",
            "absolute_magnitude    float64\n",
            "hazardous                bool\n",
            "dtype: object\n"
          ]
        }
      ]
    },
    {
      "cell_type": "markdown",
      "id": "a807445b",
      "metadata": {
        "id": "a807445b"
      },
      "source": [
        "# Dividing columns\n"
      ]
    },
    {
      "cell_type": "code",
      "execution_count": 43,
      "id": "765fd60e",
      "metadata": {
        "colab": {
          "base_uri": "https://localhost:8080/",
          "height": 206
        },
        "id": "765fd60e",
        "outputId": "3054d4e5-4782-4353-aa2d-fc949acd250f"
      },
      "outputs": [
        {
          "output_type": "execute_result",
          "data": {
            "text/plain": [
              "   False  True\n",
              "0      1     0\n",
              "1      0     1\n",
              "2      1     0\n",
              "3      1     0\n",
              "4      0     1"
            ],
            "text/html": [
              "\n",
              "  <div id=\"df-45f70e81-c38a-4817-a777-04fbc4ecb833\">\n",
              "    <div class=\"colab-df-container\">\n",
              "      <div>\n",
              "<style scoped>\n",
              "    .dataframe tbody tr th:only-of-type {\n",
              "        vertical-align: middle;\n",
              "    }\n",
              "\n",
              "    .dataframe tbody tr th {\n",
              "        vertical-align: top;\n",
              "    }\n",
              "\n",
              "    .dataframe thead th {\n",
              "        text-align: right;\n",
              "    }\n",
              "</style>\n",
              "<table border=\"1\" class=\"dataframe\">\n",
              "  <thead>\n",
              "    <tr style=\"text-align: right;\">\n",
              "      <th></th>\n",
              "      <th>False</th>\n",
              "      <th>True</th>\n",
              "    </tr>\n",
              "  </thead>\n",
              "  <tbody>\n",
              "    <tr>\n",
              "      <th>0</th>\n",
              "      <td>1</td>\n",
              "      <td>0</td>\n",
              "    </tr>\n",
              "    <tr>\n",
              "      <th>1</th>\n",
              "      <td>0</td>\n",
              "      <td>1</td>\n",
              "    </tr>\n",
              "    <tr>\n",
              "      <th>2</th>\n",
              "      <td>1</td>\n",
              "      <td>0</td>\n",
              "    </tr>\n",
              "    <tr>\n",
              "      <th>3</th>\n",
              "      <td>1</td>\n",
              "      <td>0</td>\n",
              "    </tr>\n",
              "    <tr>\n",
              "      <th>4</th>\n",
              "      <td>0</td>\n",
              "      <td>1</td>\n",
              "    </tr>\n",
              "  </tbody>\n",
              "</table>\n",
              "</div>\n",
              "      <button class=\"colab-df-convert\" onclick=\"convertToInteractive('df-45f70e81-c38a-4817-a777-04fbc4ecb833')\"\n",
              "              title=\"Convert this dataframe to an interactive table.\"\n",
              "              style=\"display:none;\">\n",
              "        \n",
              "  <svg xmlns=\"http://www.w3.org/2000/svg\" height=\"24px\"viewBox=\"0 0 24 24\"\n",
              "       width=\"24px\">\n",
              "    <path d=\"M0 0h24v24H0V0z\" fill=\"none\"/>\n",
              "    <path d=\"M18.56 5.44l.94 2.06.94-2.06 2.06-.94-2.06-.94-.94-2.06-.94 2.06-2.06.94zm-11 1L8.5 8.5l.94-2.06 2.06-.94-2.06-.94L8.5 2.5l-.94 2.06-2.06.94zm10 10l.94 2.06.94-2.06 2.06-.94-2.06-.94-.94-2.06-.94 2.06-2.06.94z\"/><path d=\"M17.41 7.96l-1.37-1.37c-.4-.4-.92-.59-1.43-.59-.52 0-1.04.2-1.43.59L10.3 9.45l-7.72 7.72c-.78.78-.78 2.05 0 2.83L4 21.41c.39.39.9.59 1.41.59.51 0 1.02-.2 1.41-.59l7.78-7.78 2.81-2.81c.8-.78.8-2.07 0-2.86zM5.41 20L4 18.59l7.72-7.72 1.47 1.35L5.41 20z\"/>\n",
              "  </svg>\n",
              "      </button>\n",
              "      \n",
              "  <style>\n",
              "    .colab-df-container {\n",
              "      display:flex;\n",
              "      flex-wrap:wrap;\n",
              "      gap: 12px;\n",
              "    }\n",
              "\n",
              "    .colab-df-convert {\n",
              "      background-color: #E8F0FE;\n",
              "      border: none;\n",
              "      border-radius: 50%;\n",
              "      cursor: pointer;\n",
              "      display: none;\n",
              "      fill: #1967D2;\n",
              "      height: 32px;\n",
              "      padding: 0 0 0 0;\n",
              "      width: 32px;\n",
              "    }\n",
              "\n",
              "    .colab-df-convert:hover {\n",
              "      background-color: #E2EBFA;\n",
              "      box-shadow: 0px 1px 2px rgba(60, 64, 67, 0.3), 0px 1px 3px 1px rgba(60, 64, 67, 0.15);\n",
              "      fill: #174EA6;\n",
              "    }\n",
              "\n",
              "    [theme=dark] .colab-df-convert {\n",
              "      background-color: #3B4455;\n",
              "      fill: #D2E3FC;\n",
              "    }\n",
              "\n",
              "    [theme=dark] .colab-df-convert:hover {\n",
              "      background-color: #434B5C;\n",
              "      box-shadow: 0px 1px 3px 1px rgba(0, 0, 0, 0.15);\n",
              "      filter: drop-shadow(0px 1px 2px rgba(0, 0, 0, 0.3));\n",
              "      fill: #FFFFFF;\n",
              "    }\n",
              "  </style>\n",
              "\n",
              "      <script>\n",
              "        const buttonEl =\n",
              "          document.querySelector('#df-45f70e81-c38a-4817-a777-04fbc4ecb833 button.colab-df-convert');\n",
              "        buttonEl.style.display =\n",
              "          google.colab.kernel.accessAllowed ? 'block' : 'none';\n",
              "\n",
              "        async function convertToInteractive(key) {\n",
              "          const element = document.querySelector('#df-45f70e81-c38a-4817-a777-04fbc4ecb833');\n",
              "          const dataTable =\n",
              "            await google.colab.kernel.invokeFunction('convertToInteractive',\n",
              "                                                     [key], {});\n",
              "          if (!dataTable) return;\n",
              "\n",
              "          const docLinkHtml = 'Like what you see? Visit the ' +\n",
              "            '<a target=\"_blank\" href=https://colab.research.google.com/notebooks/data_table.ipynb>data table notebook</a>'\n",
              "            + ' to learn more about interactive tables.';\n",
              "          element.innerHTML = '';\n",
              "          dataTable['output_type'] = 'display_data';\n",
              "          await google.colab.output.renderOutput(dataTable, element);\n",
              "          const docLink = document.createElement('div');\n",
              "          docLink.innerHTML = docLinkHtml;\n",
              "          element.appendChild(docLink);\n",
              "        }\n",
              "      </script>\n",
              "    </div>\n",
              "  </div>\n",
              "  "
            ]
          },
          "metadata": {},
          "execution_count": 43
        }
      ],
      "source": [
        "hazardous = p.get_dummies(df[\"hazardous\"])\n",
        "hazardous.head()"
      ]
    },
    {
      "cell_type": "code",
      "execution_count": 44,
      "id": "37757848",
      "metadata": {
        "colab": {
          "base_uri": "https://localhost:8080/",
          "height": 351
        },
        "id": "37757848",
        "outputId": "5a40dd3e-04b1-4f4e-877a-337116125f5d"
      },
      "outputs": [
        {
          "output_type": "stream",
          "name": "stderr",
          "text": [
            "/usr/local/lib/python3.7/dist-packages/seaborn/distributions.py:2619: FutureWarning: `distplot` is a deprecated function and will be removed in a future version. Please adapt your code to use either `displot` (a figure-level function with similar flexibility) or `histplot` (an axes-level function for histograms).\n",
            "  warnings.warn(msg, FutureWarning)\n"
          ]
        },
        {
          "output_type": "execute_result",
          "data": {
            "text/plain": [
              "<matplotlib.axes._subplots.AxesSubplot at 0x7f57c4e01590>"
            ]
          },
          "metadata": {},
          "execution_count": 44
        },
        {
          "output_type": "display_data",
          "data": {
            "text/plain": [
              "<Figure size 432x288 with 1 Axes>"
            ],
            "image/png": "[encoded data removed]"
          },
          "metadata": {
            "needs_background": "light"
          }
        }
      ],
      "source": [
        "s.distplot(df[\"hazardous\"])"
      ]
    },
    {
      "cell_type": "markdown",
      "source": [
        "# Concatenating the new columns\n"
      ],
      "metadata": {
        "id": "cm9dx01jT_lF"
      },
      "id": "cm9dx01jT_lF"
    },
    {
      "cell_type": "code",
      "execution_count": 45,
      "id": "406110fe",
      "metadata": {
        "colab": {
          "base_uri": "https://localhost:8080/",
          "height": 206
        },
        "id": "406110fe",
        "outputId": "0d620fa7-e8f3-47ea-b7bb-fe306dcfadd8"
      },
      "outputs": [
        {
          "output_type": "execute_result",
          "data": {
            "text/plain": [
              "        id  est_diameter_min  est_diameter_max  relative_velocity  \\\n",
              "0  2162635          1.198271          2.679415       13569.249224   \n",
              "1  2277475          0.265800          0.594347       73588.726663   \n",
              "2  2512244          0.722030          1.614507      114258.692129   \n",
              "3  3596030          0.096506          0.215794       24764.303138   \n",
              "4  3667127          0.255009          0.570217       42737.733765   \n",
              "\n",
              "   miss_distance  absolute_magnitude  hazardous  False  True  \n",
              "0   5.483974e+07               16.73      False      1     0  \n",
              "1   6.143813e+07               20.00       True      0     1  \n",
              "2   4.979872e+07               17.83      False      1     0  \n",
              "3   2.543497e+07               22.20      False      1     0  \n",
              "4   4.627557e+07               20.09       True      0     1  "
            ],
            "text/html": [
              "\n",
              "  <div id=\"df-29fcf079-7ddf-4359-891b-6df7bc487eea\">\n",
              "    <div class=\"colab-df-container\">\n",
              "      <div>\n",
              "<style scoped>\n",
              "    .dataframe tbody tr th:only-of-type {\n",
              "        vertical-align: middle;\n",
              "    }\n",
              "\n",
              "    .dataframe tbody tr th {\n",
              "        vertical-align: top;\n",
              "    }\n",
              "\n",
              "    .dataframe thead th {\n",
              "        text-align: right;\n",
              "    }\n",
              "</style>\n",
              "<table border=\"1\" class=\"dataframe\">\n",
              "  <thead>\n",
              "    <tr style=\"text-align: right;\">\n",
              "      <th></th>\n",
              "      <th>id</th>\n",
              "      <th>est_diameter_min</th>\n",
              "      <th>est_diameter_max</th>\n",
              "      <th>relative_velocity</th>\n",
              "      <th>miss_distance</th>\n",
              "      <th>absolute_magnitude</th>\n",
              "      <th>hazardous</th>\n",
              "      <th>False</th>\n",
              "      <th>True</th>\n",
              "    </tr>\n",
              "  </thead>\n",
              "  <tbody>\n",
              "    <tr>\n",
              "      <th>0</th>\n",
              "      <td>2162635</td>\n",
              "      <td>1.198271</td>\n",
              "      <td>2.679415</td>\n",
              "      <td>13569.249224</td>\n",
              "      <td>5.483974e+07</td>\n",
              "      <td>16.73</td>\n",
              "      <td>False</td>\n",
              "      <td>1</td>\n",
              "      <td>0</td>\n",
              "    </tr>\n",
              "    <tr>\n",
              "      <th>1</th>\n",
              "      <td>2277475</td>\n",
              "      <td>0.265800</td>\n",
              "      <td>0.594347</td>\n",
              "      <td>73588.726663</td>\n",
              "      <td>6.143813e+07</td>\n",
              "      <td>20.00</td>\n",
              "      <td>True</td>\n",
              "      <td>0</td>\n",
              "      <td>1</td>\n",
              "    </tr>\n",
              "    <tr>\n",
              "      <th>2</th>\n",
              "      <td>2512244</td>\n",
              "      <td>0.722030</td>\n",
              "      <td>1.614507</td>\n",
              "      <td>114258.692129</td>\n",
              "      <td>4.979872e+07</td>\n",
              "      <td>17.83</td>\n",
              "      <td>False</td>\n",
              "      <td>1</td>\n",
              "      <td>0</td>\n",
              "    </tr>\n",
              "    <tr>\n",
              "      <th>3</th>\n",
              "      <td>3596030</td>\n",
              "      <td>0.096506</td>\n",
              "      <td>0.215794</td>\n",
              "      <td>24764.303138</td>\n",
              "      <td>2.543497e+07</td>\n",
              "      <td>22.20</td>\n",
              "      <td>False</td>\n",
              "      <td>1</td>\n",
              "      <td>0</td>\n",
              "    </tr>\n",
              "    <tr>\n",
              "      <th>4</th>\n",
              "      <td>3667127</td>\n",
              "      <td>0.255009</td>\n",
              "      <td>0.570217</td>\n",
              "      <td>42737.733765</td>\n",
              "      <td>4.627557e+07</td>\n",
              "      <td>20.09</td>\n",
              "      <td>True</td>\n",
              "      <td>0</td>\n",
              "      <td>1</td>\n",
              "    </tr>\n",
              "  </tbody>\n",
              "</table>\n",
              "</div>\n",
              "      <button class=\"colab-df-convert\" onclick=\"convertToInteractive('df-29fcf079-7ddf-4359-891b-6df7bc487eea')\"\n",
              "              title=\"Convert this dataframe to an interactive table.\"\n",
              "              style=\"display:none;\">\n",
              "        \n",
              "  <svg xmlns=\"http://www.w3.org/2000/svg\" height=\"24px\"viewBox=\"0 0 24 24\"\n",
              "       width=\"24px\">\n",
              "    <path d=\"M0 0h24v24H0V0z\" fill=\"none\"/>\n",
              "    <path d=\"M18.56 5.44l.94 2.06.94-2.06 2.06-.94-2.06-.94-.94-2.06-.94 2.06-2.06.94zm-11 1L8.5 8.5l.94-2.06 2.06-.94-2.06-.94L8.5 2.5l-.94 2.06-2.06.94zm10 10l.94 2.06.94-2.06 2.06-.94-2.06-.94-.94-2.06-.94 2.06-2.06.94z\"/><path d=\"M17.41 7.96l-1.37-1.37c-.4-.4-.92-.59-1.43-.59-.52 0-1.04.2-1.43.59L10.3 9.45l-7.72 7.72c-.78.78-.78 2.05 0 2.83L4 21.41c.39.39.9.59 1.41.59.51 0 1.02-.2 1.41-.59l7.78-7.78 2.81-2.81c.8-.78.8-2.07 0-2.86zM5.41 20L4 18.59l7.72-7.72 1.47 1.35L5.41 20z\"/>\n",
              "  </svg>\n",
              "      </button>\n",
              "      \n",
              "  <style>\n",
              "    .colab-df-container {\n",
              "      display:flex;\n",
              "      flex-wrap:wrap;\n",
              "      gap: 12px;\n",
              "    }\n",
              "\n",
              "    .colab-df-convert {\n",
              "      background-color: #E8F0FE;\n",
              "      border: none;\n",
              "      border-radius: 50%;\n",
              "      cursor: pointer;\n",
              "      display: none;\n",
              "      fill: #1967D2;\n",
              "      height: 32px;\n",
              "      padding: 0 0 0 0;\n",
              "      width: 32px;\n",
              "    }\n",
              "\n",
              "    .colab-df-convert:hover {\n",
              "      background-color: #E2EBFA;\n",
              "      box-shadow: 0px 1px 2px rgba(60, 64, 67, 0.3), 0px 1px 3px 1px rgba(60, 64, 67, 0.15);\n",
              "      fill: #174EA6;\n",
              "    }\n",
              "\n",
              "    [theme=dark] .colab-df-convert {\n",
              "      background-color: #3B4455;\n",
              "      fill: #D2E3FC;\n",
              "    }\n",
              "\n",
              "    [theme=dark] .colab-df-convert:hover {\n",
              "      background-color: #434B5C;\n",
              "      box-shadow: 0px 1px 3px 1px rgba(0, 0, 0, 0.15);\n",
              "      filter: drop-shadow(0px 1px 2px rgba(0, 0, 0, 0.3));\n",
              "      fill: #FFFFFF;\n",
              "    }\n",
              "  </style>\n",
              "\n",
              "      <script>\n",
              "        const buttonEl =\n",
              "          document.querySelector('#df-29fcf079-7ddf-4359-891b-6df7bc487eea button.colab-df-convert');\n",
              "        buttonEl.style.display =\n",
              "          google.colab.kernel.accessAllowed ? 'block' : 'none';\n",
              "\n",
              "        async function convertToInteractive(key) {\n",
              "          const element = document.querySelector('#df-29fcf079-7ddf-4359-891b-6df7bc487eea');\n",
              "          const dataTable =\n",
              "            await google.colab.kernel.invokeFunction('convertToInteractive',\n",
              "                                                     [key], {});\n",
              "          if (!dataTable) return;\n",
              "\n",
              "          const docLinkHtml = 'Like what you see? Visit the ' +\n",
              "            '<a target=\"_blank\" href=https://colab.research.google.com/notebooks/data_table.ipynb>data table notebook</a>'\n",
              "            + ' to learn more about interactive tables.';\n",
              "          element.innerHTML = '';\n",
              "          dataTable['output_type'] = 'display_data';\n",
              "          await google.colab.output.renderOutput(dataTable, element);\n",
              "          const docLink = document.createElement('div');\n",
              "          docLink.innerHTML = docLinkHtml;\n",
              "          element.appendChild(docLink);\n",
              "        }\n",
              "      </script>\n",
              "    </div>\n",
              "  </div>\n",
              "  "
            ]
          },
          "metadata": {},
          "execution_count": 45
        }
      ],
      "source": [
        "df = p.concat([df , hazardous], axis = 1)\n",
        "df.head()"
      ]
    },
    {
      "cell_type": "code",
      "execution_count": 46,
      "id": "a7f96821",
      "metadata": {
        "colab": {
          "base_uri": "https://localhost:8080/",
          "height": 206
        },
        "id": "a7f96821",
        "outputId": "169e1962-d809-4a2e-cd6b-4fa848e40e5c"
      },
      "outputs": [
        {
          "output_type": "execute_result",
          "data": {
            "text/plain": [
              "        id  est_diameter_min  est_diameter_max  relative_velocity  \\\n",
              "0  2162635          1.198271          2.679415       13569.249224   \n",
              "1  2277475          0.265800          0.594347       73588.726663   \n",
              "2  2512244          0.722030          1.614507      114258.692129   \n",
              "3  3596030          0.096506          0.215794       24764.303138   \n",
              "4  3667127          0.255009          0.570217       42737.733765   \n",
              "\n",
              "   miss_distance  absolute_magnitude  hazardous  True  \n",
              "0   5.483974e+07               16.73      False     0  \n",
              "1   6.143813e+07               20.00       True     1  \n",
              "2   4.979872e+07               17.83      False     0  \n",
              "3   2.543497e+07               22.20      False     0  \n",
              "4   4.627557e+07               20.09       True     1  "
            ],
            "text/html": [
              "\n",
              "  <div id=\"df-a6206067-0dd1-4814-a780-1bdf2b414c39\">\n",
              "    <div class=\"colab-df-container\">\n",
              "      <div>\n",
              "<style scoped>\n",
              "    .dataframe tbody tr th:only-of-type {\n",
              "        vertical-align: middle;\n",
              "    }\n",
              "\n",
              "    .dataframe tbody tr th {\n",
              "        vertical-align: top;\n",
              "    }\n",
              "\n",
              "    .dataframe thead th {\n",
              "        text-align: right;\n",
              "    }\n",
              "</style>\n",
              "<table border=\"1\" class=\"dataframe\">\n",
              "  <thead>\n",
              "    <tr style=\"text-align: right;\">\n",
              "      <th></th>\n",
              "      <th>id</th>\n",
              "      <th>est_diameter_min</th>\n",
              "      <th>est_diameter_max</th>\n",
              "      <th>relative_velocity</th>\n",
              "      <th>miss_distance</th>\n",
              "      <th>absolute_magnitude</th>\n",
              "      <th>hazardous</th>\n",
              "      <th>True</th>\n",
              "    </tr>\n",
              "  </thead>\n",
              "  <tbody>\n",
              "    <tr>\n",
              "      <th>0</th>\n",
              "      <td>2162635</td>\n",
              "      <td>1.198271</td>\n",
              "      <td>2.679415</td>\n",
              "      <td>13569.249224</td>\n",
              "      <td>5.483974e+07</td>\n",
              "      <td>16.73</td>\n",
              "      <td>False</td>\n",
              "      <td>0</td>\n",
              "    </tr>\n",
              "    <tr>\n",
              "      <th>1</th>\n",
              "      <td>2277475</td>\n",
              "      <td>0.265800</td>\n",
              "      <td>0.594347</td>\n",
              "      <td>73588.726663</td>\n",
              "      <td>6.143813e+07</td>\n",
              "      <td>20.00</td>\n",
              "      <td>True</td>\n",
              "      <td>1</td>\n",
              "    </tr>\n",
              "    <tr>\n",
              "      <th>2</th>\n",
              "      <td>2512244</td>\n",
              "      <td>0.722030</td>\n",
              "      <td>1.614507</td>\n",
              "      <td>114258.692129</td>\n",
              "      <td>4.979872e+07</td>\n",
              "      <td>17.83</td>\n",
              "      <td>False</td>\n",
              "      <td>0</td>\n",
              "    </tr>\n",
              "    <tr>\n",
              "      <th>3</th>\n",
              "      <td>3596030</td>\n",
              "      <td>0.096506</td>\n",
              "      <td>0.215794</td>\n",
              "      <td>24764.303138</td>\n",
              "      <td>2.543497e+07</td>\n",
              "      <td>22.20</td>\n",
              "      <td>False</td>\n",
              "      <td>0</td>\n",
              "    </tr>\n",
              "    <tr>\n",
              "      <th>4</th>\n",
              "      <td>3667127</td>\n",
              "      <td>0.255009</td>\n",
              "      <td>0.570217</td>\n",
              "      <td>42737.733765</td>\n",
              "      <td>4.627557e+07</td>\n",
              "      <td>20.09</td>\n",
              "      <td>True</td>\n",
              "      <td>1</td>\n",
              "    </tr>\n",
              "  </tbody>\n",
              "</table>\n",
              "</div>\n",
              "      <button class=\"colab-df-convert\" onclick=\"convertToInteractive('df-a6206067-0dd1-4814-a780-1bdf2b414c39')\"\n",
              "              title=\"Convert this dataframe to an interactive table.\"\n",
              "              style=\"display:none;\">\n",
              "        \n",
              "  <svg xmlns=\"http://www.w3.org/2000/svg\" height=\"24px\"viewBox=\"0 0 24 24\"\n",
              "       width=\"24px\">\n",
              "    <path d=\"M0 0h24v24H0V0z\" fill=\"none\"/>\n",
              "    <path d=\"M18.56 5.44l.94 2.06.94-2.06 2.06-.94-2.06-.94-.94-2.06-.94 2.06-2.06.94zm-11 1L8.5 8.5l.94-2.06 2.06-.94-2.06-.94L8.5 2.5l-.94 2.06-2.06.94zm10 10l.94 2.06.94-2.06 2.06-.94-2.06-.94-.94-2.06-.94 2.06-2.06.94z\"/><path d=\"M17.41 7.96l-1.37-1.37c-.4-.4-.92-.59-1.43-.59-.52 0-1.04.2-1.43.59L10.3 9.45l-7.72 7.72c-.78.78-.78 2.05 0 2.83L4 21.41c.39.39.9.59 1.41.59.51 0 1.02-.2 1.41-.59l7.78-7.78 2.81-2.81c.8-.78.8-2.07 0-2.86zM5.41 20L4 18.59l7.72-7.72 1.47 1.35L5.41 20z\"/>\n",
              "  </svg>\n",
              "      </button>\n",
              "      \n",
              "  <style>\n",
              "    .colab-df-container {\n",
              "      display:flex;\n",
              "      flex-wrap:wrap;\n",
              "      gap: 12px;\n",
              "    }\n",
              "\n",
              "    .colab-df-convert {\n",
              "      background-color: #E8F0FE;\n",
              "      border: none;\n",
              "      border-radius: 50%;\n",
              "      cursor: pointer;\n",
              "      display: none;\n",
              "      fill: #1967D2;\n",
              "      height: 32px;\n",
              "      padding: 0 0 0 0;\n",
              "      width: 32px;\n",
              "    }\n",
              "\n",
              "    .colab-df-convert:hover {\n",
              "      background-color: #E2EBFA;\n",
              "      box-shadow: 0px 1px 2px rgba(60, 64, 67, 0.3), 0px 1px 3px 1px rgba(60, 64, 67, 0.15);\n",
              "      fill: #174EA6;\n",
              "    }\n",
              "\n",
              "    [theme=dark] .colab-df-convert {\n",
              "      background-color: #3B4455;\n",
              "      fill: #D2E3FC;\n",
              "    }\n",
              "\n",
              "    [theme=dark] .colab-df-convert:hover {\n",
              "      background-color: #434B5C;\n",
              "      box-shadow: 0px 1px 3px 1px rgba(0, 0, 0, 0.15);\n",
              "      filter: drop-shadow(0px 1px 2px rgba(0, 0, 0, 0.3));\n",
              "      fill: #FFFFFF;\n",
              "    }\n",
              "  </style>\n",
              "\n",
              "      <script>\n",
              "        const buttonEl =\n",
              "          document.querySelector('#df-a6206067-0dd1-4814-a780-1bdf2b414c39 button.colab-df-convert');\n",
              "        buttonEl.style.display =\n",
              "          google.colab.kernel.accessAllowed ? 'block' : 'none';\n",
              "\n",
              "        async function convertToInteractive(key) {\n",
              "          const element = document.querySelector('#df-a6206067-0dd1-4814-a780-1bdf2b414c39');\n",
              "          const dataTable =\n",
              "            await google.colab.kernel.invokeFunction('convertToInteractive',\n",
              "                                                     [key], {});\n",
              "          if (!dataTable) return;\n",
              "\n",
              "          const docLinkHtml = 'Like what you see? Visit the ' +\n",
              "            '<a target=\"_blank\" href=https://colab.research.google.com/notebooks/data_table.ipynb>data table notebook</a>'\n",
              "            + ' to learn more about interactive tables.';\n",
              "          element.innerHTML = '';\n",
              "          dataTable['output_type'] = 'display_data';\n",
              "          await google.colab.output.renderOutput(dataTable, element);\n",
              "          const docLink = document.createElement('div');\n",
              "          docLink.innerHTML = docLinkHtml;\n",
              "          element.appendChild(docLink);\n",
              "        }\n",
              "      </script>\n",
              "    </div>\n",
              "  </div>\n",
              "  "
            ]
          },
          "metadata": {},
          "execution_count": 46
        }
      ],
      "source": [
        "# dropping False columns as True attribute is enough to determine the target variable as 0 means false\n",
        "df.drop([False], axis = 1 , inplace = True)\n",
        "df.head()"
      ]
    },
    {
      "cell_type": "code",
      "source": [
        "# now dropping hazardous columns as we encoded the attribute to two columns"
      ],
      "metadata": {
        "id": "f1d8SSowDRIm"
      },
      "id": "f1d8SSowDRIm",
      "execution_count": 47,
      "outputs": []
    },
    {
      "cell_type": "code",
      "execution_count": 48,
      "id": "786188fb",
      "metadata": {
        "colab": {
          "base_uri": "https://localhost:8080/",
          "height": 704
        },
        "id": "786188fb",
        "outputId": "a88927f9-c3de-400c-aec5-fb36580574aa"
      },
      "outputs": [
        {
          "output_type": "execute_result",
          "data": {
            "text/plain": [
              "<matplotlib.axes._subplots.AxesSubplot at 0x7f57c4c5bb90>"
            ]
          },
          "metadata": {},
          "execution_count": 48
        },
        {
          "output_type": "display_data",
          "data": {
            "text/plain": [
              "<Figure size 720x720 with 2 Axes>"
            ],
            "image/png": "[encoded data removed]"
          },
          "metadata": {
            "needs_background": "light"
          }
        }
      ],
      "source": [
        "df.drop(['hazardous'], axis = 1 , inplace = True) # checking the correlation heatmap again\n",
        "m.figure(figsize=(10,10))\n",
        "s.heatmap(df.corr(), annot = True , cmap= \"magma\")"
      ]
    },
    {
      "cell_type": "code",
      "execution_count": 49,
      "id": "b44a09bf",
      "metadata": {
        "colab": {
          "base_uri": "https://localhost:8080/",
          "height": 206
        },
        "id": "b44a09bf",
        "outputId": "7c83fc23-787b-40f5-b4c0-eccef55718bd"
      },
      "outputs": [
        {
          "output_type": "execute_result",
          "data": {
            "text/plain": [
              "        id  est_diameter_min  est_diameter_max  relative_velocity  \\\n",
              "0  2162635          1.198271          2.679415       13569.249224   \n",
              "1  2277475          0.265800          0.594347       73588.726663   \n",
              "2  2512244          0.722030          1.614507      114258.692129   \n",
              "3  3596030          0.096506          0.215794       24764.303138   \n",
              "4  3667127          0.255009          0.570217       42737.733765   \n",
              "\n",
              "   miss_distance  absolute_magnitude  True  \n",
              "0   5.483974e+07               16.73     0  \n",
              "1   6.143813e+07               20.00     1  \n",
              "2   4.979872e+07               17.83     0  \n",
              "3   2.543497e+07               22.20     0  \n",
              "4   4.627557e+07               20.09     1  "
            ],
            "text/html": [
              "\n",
              "  <div id=\"df-4a5cbf8f-bf91-478e-b440-da48eaffce0d\">\n",
              "    <div class=\"colab-df-container\">\n",
              "      <div>\n",
              "<style scoped>\n",
              "    .dataframe tbody tr th:only-of-type {\n",
              "        vertical-align: middle;\n",
              "    }\n",
              "\n",
              "    .dataframe tbody tr th {\n",
              "        vertical-align: top;\n",
              "    }\n",
              "\n",
              "    .dataframe thead th {\n",
              "        text-align: right;\n",
              "    }\n",
              "</style>\n",
              "<table border=\"1\" class=\"dataframe\">\n",
              "  <thead>\n",
              "    <tr style=\"text-align: right;\">\n",
              "      <th></th>\n",
              "      <th>id</th>\n",
              "      <th>est_diameter_min</th>\n",
              "      <th>est_diameter_max</th>\n",
              "      <th>relative_velocity</th>\n",
              "      <th>miss_distance</th>\n",
              "      <th>absolute_magnitude</th>\n",
              "      <th>True</th>\n",
              "    </tr>\n",
              "  </thead>\n",
              "  <tbody>\n",
              "    <tr>\n",
              "      <th>0</th>\n",
              "      <td>2162635</td>\n",
              "      <td>1.198271</td>\n",
              "      <td>2.679415</td>\n",
              "      <td>13569.249224</td>\n",
              "      <td>5.483974e+07</td>\n",
              "      <td>16.73</td>\n",
              "      <td>0</td>\n",
              "    </tr>\n",
              "    <tr>\n",
              "      <th>1</th>\n",
              "      <td>2277475</td>\n",
              "      <td>0.265800</td>\n",
              "      <td>0.594347</td>\n",
              "      <td>73588.726663</td>\n",
              "      <td>6.143813e+07</td>\n",
              "      <td>20.00</td>\n",
              "      <td>1</td>\n",
              "    </tr>\n",
              "    <tr>\n",
              "      <th>2</th>\n",
              "      <td>2512244</td>\n",
              "      <td>0.722030</td>\n",
              "      <td>1.614507</td>\n",
              "      <td>114258.692129</td>\n",
              "      <td>4.979872e+07</td>\n",
              "      <td>17.83</td>\n",
              "      <td>0</td>\n",
              "    </tr>\n",
              "    <tr>\n",
              "      <th>3</th>\n",
              "      <td>3596030</td>\n",
              "      <td>0.096506</td>\n",
              "      <td>0.215794</td>\n",
              "      <td>24764.303138</td>\n",
              "      <td>2.543497e+07</td>\n",
              "      <td>22.20</td>\n",
              "      <td>0</td>\n",
              "    </tr>\n",
              "    <tr>\n",
              "      <th>4</th>\n",
              "      <td>3667127</td>\n",
              "      <td>0.255009</td>\n",
              "      <td>0.570217</td>\n",
              "      <td>42737.733765</td>\n",
              "      <td>4.627557e+07</td>\n",
              "      <td>20.09</td>\n",
              "      <td>1</td>\n",
              "    </tr>\n",
              "  </tbody>\n",
              "</table>\n",
              "</div>\n",
              "      <button class=\"colab-df-convert\" onclick=\"convertToInteractive('df-4a5cbf8f-bf91-478e-b440-da48eaffce0d')\"\n",
              "              title=\"Convert this dataframe to an interactive table.\"\n",
              "              style=\"display:none;\">\n",
              "        \n",
              "  <svg xmlns=\"http://www.w3.org/2000/svg\" height=\"24px\"viewBox=\"0 0 24 24\"\n",
              "       width=\"24px\">\n",
              "    <path d=\"M0 0h24v24H0V0z\" fill=\"none\"/>\n",
              "    <path d=\"M18.56 5.44l.94 2.06.94-2.06 2.06-.94-2.06-.94-.94-2.06-.94 2.06-2.06.94zm-11 1L8.5 8.5l.94-2.06 2.06-.94-2.06-.94L8.5 2.5l-.94 2.06-2.06.94zm10 10l.94 2.06.94-2.06 2.06-.94-2.06-.94-.94-2.06-.94 2.06-2.06.94z\"/><path d=\"M17.41 7.96l-1.37-1.37c-.4-.4-.92-.59-1.43-.59-.52 0-1.04.2-1.43.59L10.3 9.45l-7.72 7.72c-.78.78-.78 2.05 0 2.83L4 21.41c.39.39.9.59 1.41.59.51 0 1.02-.2 1.41-.59l7.78-7.78 2.81-2.81c.8-.78.8-2.07 0-2.86zM5.41 20L4 18.59l7.72-7.72 1.47 1.35L5.41 20z\"/>\n",
              "  </svg>\n",
              "      </button>\n",
              "      \n",
              "  <style>\n",
              "    .colab-df-container {\n",
              "      display:flex;\n",
              "      flex-wrap:wrap;\n",
              "      gap: 12px;\n",
              "    }\n",
              "\n",
              "    .colab-df-convert {\n",
              "      background-color: #E8F0FE;\n",
              "      border: none;\n",
              "      border-radius: 50%;\n",
              "      cursor: pointer;\n",
              "      display: none;\n",
              "      fill: #1967D2;\n",
              "      height: 32px;\n",
              "      padding: 0 0 0 0;\n",
              "      width: 32px;\n",
              "    }\n",
              "\n",
              "    .colab-df-convert:hover {\n",
              "      background-color: #E2EBFA;\n",
              "      box-shadow: 0px 1px 2px rgba(60, 64, 67, 0.3), 0px 1px 3px 1px rgba(60, 64, 67, 0.15);\n",
              "      fill: #174EA6;\n",
              "    }\n",
              "\n",
              "    [theme=dark] .colab-df-convert {\n",
              "      background-color: #3B4455;\n",
              "      fill: #D2E3FC;\n",
              "    }\n",
              "\n",
              "    [theme=dark] .colab-df-convert:hover {\n",
              "      background-color: #434B5C;\n",
              "      box-shadow: 0px 1px 3px 1px rgba(0, 0, 0, 0.15);\n",
              "      filter: drop-shadow(0px 1px 2px rgba(0, 0, 0, 0.3));\n",
              "      fill: #FFFFFF;\n",
              "    }\n",
              "  </style>\n",
              "\n",
              "      <script>\n",
              "        const buttonEl =\n",
              "          document.querySelector('#df-4a5cbf8f-bf91-478e-b440-da48eaffce0d button.colab-df-convert');\n",
              "        buttonEl.style.display =\n",
              "          google.colab.kernel.accessAllowed ? 'block' : 'none';\n",
              "\n",
              "        async function convertToInteractive(key) {\n",
              "          const element = document.querySelector('#df-4a5cbf8f-bf91-478e-b440-da48eaffce0d');\n",
              "          const dataTable =\n",
              "            await google.colab.kernel.invokeFunction('convertToInteractive',\n",
              "                                                     [key], {});\n",
              "          if (!dataTable) return;\n",
              "\n",
              "          const docLinkHtml = 'Like what you see? Visit the ' +\n",
              "            '<a target=\"_blank\" href=https://colab.research.google.com/notebooks/data_table.ipynb>data table notebook</a>'\n",
              "            + ' to learn more about interactive tables.';\n",
              "          element.innerHTML = '';\n",
              "          dataTable['output_type'] = 'display_data';\n",
              "          await google.colab.output.renderOutput(dataTable, element);\n",
              "          const docLink = document.createElement('div');\n",
              "          docLink.innerHTML = docLinkHtml;\n",
              "          element.appendChild(docLink);\n",
              "        }\n",
              "      </script>\n",
              "    </div>\n",
              "  </div>\n",
              "  "
            ]
          },
          "metadata": {},
          "execution_count": 49
        }
      ],
      "source": [
        "\n",
        "df.head()\n"
      ]
    },
    {
      "cell_type": "code",
      "execution_count": 50,
      "id": "984e6581",
      "metadata": {
        "colab": {
          "base_uri": "https://localhost:8080/",
          "height": 300
        },
        "id": "984e6581",
        "outputId": "f00c3aec-f85c-4a80-fa93-91f2f74e7a15"
      },
      "outputs": [
        {
          "output_type": "execute_result",
          "data": {
            "text/plain": [
              "                 id  est_diameter_min  est_diameter_max  relative_velocity  \\\n",
              "count  9.083600e+04      90836.000000      90836.000000       90836.000000   \n",
              "mean   1.438288e+07          0.127432          0.284947       48066.918918   \n",
              "std    2.087202e+07          0.298511          0.667491       25293.296961   \n",
              "min    2.000433e+06          0.000609          0.001362         203.346433   \n",
              "25%    3.448110e+06          0.019256          0.043057       28619.020645   \n",
              "50%    3.748362e+06          0.048368          0.108153       44190.117890   \n",
              "75%    3.884023e+06          0.143402          0.320656       62923.604633   \n",
              "max    5.427591e+07         37.892650         84.730541      236990.128088   \n",
              "\n",
              "       miss_distance  absolute_magnitude          True  \n",
              "count   9.083600e+04        90836.000000  90836.000000  \n",
              "mean    3.706655e+07           23.527103      0.097318  \n",
              "std     2.235204e+07            2.894086      0.296392  \n",
              "min     6.745533e+03            9.230000      0.000000  \n",
              "25%     1.721082e+07           21.340000      0.000000  \n",
              "50%     3.784658e+07           23.700000      0.000000  \n",
              "75%     5.654900e+07           25.700000      0.000000  \n",
              "max     7.479865e+07           33.200000      1.000000  "
            ],
            "text/html": [
              "\n",
              "  <div id=\"df-3a5825c6-19b0-438e-a2af-c3a77c4b4ff7\">\n",
              "    <div class=\"colab-df-container\">\n",
              "      <div>\n",
              "<style scoped>\n",
              "    .dataframe tbody tr th:only-of-type {\n",
              "        vertical-align: middle;\n",
              "    }\n",
              "\n",
              "    .dataframe tbody tr th {\n",
              "        vertical-align: top;\n",
              "    }\n",
              "\n",
              "    .dataframe thead th {\n",
              "        text-align: right;\n",
              "    }\n",
              "</style>\n",
              "<table border=\"1\" class=\"dataframe\">\n",
              "  <thead>\n",
              "    <tr style=\"text-align: right;\">\n",
              "      <th></th>\n",
              "      <th>id</th>\n",
              "      <th>est_diameter_min</th>\n",
              "      <th>est_diameter_max</th>\n",
              "      <th>relative_velocity</th>\n",
              "      <th>miss_distance</th>\n",
              "      <th>absolute_magnitude</th>\n",
              "      <th>True</th>\n",
              "    </tr>\n",
              "  </thead>\n",
              "  <tbody>\n",
              "    <tr>\n",
              "      <th>count</th>\n",
              "      <td>9.083600e+04</td>\n",
              "      <td>90836.000000</td>\n",
              "      <td>90836.000000</td>\n",
              "      <td>90836.000000</td>\n",
              "      <td>9.083600e+04</td>\n",
              "      <td>90836.000000</td>\n",
              "      <td>90836.000000</td>\n",
              "    </tr>\n",
              "    <tr>\n",
              "      <th>mean</th>\n",
              "      <td>1.438288e+07</td>\n",
              "      <td>0.127432</td>\n",
              "      <td>0.284947</td>\n",
              "      <td>48066.918918</td>\n",
              "      <td>3.706655e+07</td>\n",
              "      <td>23.527103</td>\n",
              "      <td>0.097318</td>\n",
              "    </tr>\n",
              "    <tr>\n",
              "      <th>std</th>\n",
              "      <td>2.087202e+07</td>\n",
              "      <td>0.298511</td>\n",
              "      <td>0.667491</td>\n",
              "      <td>25293.296961</td>\n",
              "      <td>2.235204e+07</td>\n",
              "      <td>2.894086</td>\n",
              "      <td>0.296392</td>\n",
              "    </tr>\n",
              "    <tr>\n",
              "      <th>min</th>\n",
              "      <td>2.000433e+06</td>\n",
              "      <td>0.000609</td>\n",
              "      <td>0.001362</td>\n",
              "      <td>203.346433</td>\n",
              "      <td>6.745533e+03</td>\n",
              "      <td>9.230000</td>\n",
              "      <td>0.000000</td>\n",
              "    </tr>\n",
              "    <tr>\n",
              "      <th>25%</th>\n",
              "      <td>3.448110e+06</td>\n",
              "      <td>0.019256</td>\n",
              "      <td>0.043057</td>\n",
              "      <td>28619.020645</td>\n",
              "      <td>1.721082e+07</td>\n",
              "      <td>21.340000</td>\n",
              "      <td>0.000000</td>\n",
              "    </tr>\n",
              "    <tr>\n",
              "      <th>50%</th>\n",
              "      <td>3.748362e+06</td>\n",
              "      <td>0.048368</td>\n",
              "      <td>0.108153</td>\n",
              "      <td>44190.117890</td>\n",
              "      <td>3.784658e+07</td>\n",
              "      <td>23.700000</td>\n",
              "      <td>0.000000</td>\n",
              "    </tr>\n",
              "    <tr>\n",
              "      <th>75%</th>\n",
              "      <td>3.884023e+06</td>\n",
              "      <td>0.143402</td>\n",
              "      <td>0.320656</td>\n",
              "      <td>62923.604633</td>\n",
              "      <td>5.654900e+07</td>\n",
              "      <td>25.700000</td>\n",
              "      <td>0.000000</td>\n",
              "    </tr>\n",
              "    <tr>\n",
              "      <th>max</th>\n",
              "      <td>5.427591e+07</td>\n",
              "      <td>37.892650</td>\n",
              "      <td>84.730541</td>\n",
              "      <td>236990.128088</td>\n",
              "      <td>7.479865e+07</td>\n",
              "      <td>33.200000</td>\n",
              "      <td>1.000000</td>\n",
              "    </tr>\n",
              "  </tbody>\n",
              "</table>\n",
              "</div>\n",
              "      <button class=\"colab-df-convert\" onclick=\"convertToInteractive('df-3a5825c6-19b0-438e-a2af-c3a77c4b4ff7')\"\n",
              "              title=\"Convert this dataframe to an interactive table.\"\n",
              "              style=\"display:none;\">\n",
              "        \n",
              "  <svg xmlns=\"http://www.w3.org/2000/svg\" height=\"24px\"viewBox=\"0 0 24 24\"\n",
              "       width=\"24px\">\n",
              "    <path d=\"M0 0h24v24H0V0z\" fill=\"none\"/>\n",
              "    <path d=\"M18.56 5.44l.94 2.06.94-2.06 2.06-.94-2.06-.94-.94-2.06-.94 2.06-2.06.94zm-11 1L8.5 8.5l.94-2.06 2.06-.94-2.06-.94L8.5 2.5l-.94 2.06-2.06.94zm10 10l.94 2.06.94-2.06 2.06-.94-2.06-.94-.94-2.06-.94 2.06-2.06.94z\"/><path d=\"M17.41 7.96l-1.37-1.37c-.4-.4-.92-.59-1.43-.59-.52 0-1.04.2-1.43.59L10.3 9.45l-7.72 7.72c-.78.78-.78 2.05 0 2.83L4 21.41c.39.39.9.59 1.41.59.51 0 1.02-.2 1.41-.59l7.78-7.78 2.81-2.81c.8-.78.8-2.07 0-2.86zM5.41 20L4 18.59l7.72-7.72 1.47 1.35L5.41 20z\"/>\n",
              "  </svg>\n",
              "      </button>\n",
              "      \n",
              "  <style>\n",
              "    .colab-df-container {\n",
              "      display:flex;\n",
              "      flex-wrap:wrap;\n",
              "      gap: 12px;\n",
              "    }\n",
              "\n",
              "    .colab-df-convert {\n",
              "      background-color: #E8F0FE;\n",
              "      border: none;\n",
              "      border-radius: 50%;\n",
              "      cursor: pointer;\n",
              "      display: none;\n",
              "      fill: #1967D2;\n",
              "      height: 32px;\n",
              "      padding: 0 0 0 0;\n",
              "      width: 32px;\n",
              "    }\n",
              "\n",
              "    .colab-df-convert:hover {\n",
              "      background-color: #E2EBFA;\n",
              "      box-shadow: 0px 1px 2px rgba(60, 64, 67, 0.3), 0px 1px 3px 1px rgba(60, 64, 67, 0.15);\n",
              "      fill: #174EA6;\n",
              "    }\n",
              "\n",
              "    [theme=dark] .colab-df-convert {\n",
              "      background-color: #3B4455;\n",
              "      fill: #D2E3FC;\n",
              "    }\n",
              "\n",
              "    [theme=dark] .colab-df-convert:hover {\n",
              "      background-color: #434B5C;\n",
              "      box-shadow: 0px 1px 3px 1px rgba(0, 0, 0, 0.15);\n",
              "      filter: drop-shadow(0px 1px 2px rgba(0, 0, 0, 0.3));\n",
              "      fill: #FFFFFF;\n",
              "    }\n",
              "  </style>\n",
              "\n",
              "      <script>\n",
              "        const buttonEl =\n",
              "          document.querySelector('#df-3a5825c6-19b0-438e-a2af-c3a77c4b4ff7 button.colab-df-convert');\n",
              "        buttonEl.style.display =\n",
              "          google.colab.kernel.accessAllowed ? 'block' : 'none';\n",
              "\n",
              "        async function convertToInteractive(key) {\n",
              "          const element = document.querySelector('#df-3a5825c6-19b0-438e-a2af-c3a77c4b4ff7');\n",
              "          const dataTable =\n",
              "            await google.colab.kernel.invokeFunction('convertToInteractive',\n",
              "                                                     [key], {});\n",
              "          if (!dataTable) return;\n",
              "\n",
              "          const docLinkHtml = 'Like what you see? Visit the ' +\n",
              "            '<a target=\"_blank\" href=https://colab.research.google.com/notebooks/data_table.ipynb>data table notebook</a>'\n",
              "            + ' to learn more about interactive tables.';\n",
              "          element.innerHTML = '';\n",
              "          dataTable['output_type'] = 'display_data';\n",
              "          await google.colab.output.renderOutput(dataTable, element);\n",
              "          const docLink = document.createElement('div');\n",
              "          docLink.innerHTML = docLinkHtml;\n",
              "          element.appendChild(docLink);\n",
              "        }\n",
              "      </script>\n",
              "    </div>\n",
              "  </div>\n",
              "  "
            ]
          },
          "metadata": {},
          "execution_count": 50
        }
      ],
      "source": [
        "df.describe()\n"
      ]
    },
    {
      "cell_type": "markdown",
      "source": [
        "# Spilting train and test values"
      ],
      "metadata": {
        "id": "BTnC6xtrC4u9"
      },
      "id": "BTnC6xtrC4u9"
    },
    {
      "cell_type": "code",
      "execution_count": 51,
      "id": "29110bdb",
      "metadata": {
        "id": "29110bdb",
        "colab": {
          "base_uri": "https://localhost:8080/"
        },
        "outputId": "7313646c-3e43-4cb9-b77e-1554dec67034"
      },
      "outputs": [
        {
          "output_type": "stream",
          "name": "stdout",
          "text": [
            "(90836, 6)\n",
            "(90836,)\n"
          ]
        }
      ],
      "source": [
        "x = df.drop([True], axis = 1)\n",
        "y = df[True].astype(int)\n",
        "print(x.shape)\n",
        "print(y.shape)"
      ]
    },
    {
      "cell_type": "code",
      "execution_count": 52,
      "id": "2e869c04",
      "metadata": {
        "id": "2e869c04"
      },
      "outputs": [],
      "source": [
        "X_train, X_test, y_train, y_test = train_test_split(x, y, test_size=0.3, stratify=y, random_state=4)"
      ]
    },
    {
      "cell_type": "markdown",
      "source": [
        "# Support vector machine"
      ],
      "metadata": {
        "id": "Q8RRh-ryE_Je"
      },
      "id": "Q8RRh-ryE_Je"
    },
    {
      "cell_type": "code",
      "execution_count": 68,
      "id": "15ed1b1d",
      "metadata": {
        "id": "15ed1b1d"
      },
      "outputs": [],
      "source": [
        "from sklearn import svm\n",
        "classifier = svm.SVC(kernel = 'linear' , gamma = 'auto', C =2)\n",
        "\n",
        "# scaling the train and test variable as it will take lot of time to train \n",
        "from sklearn.preprocessing import StandardScaler\n",
        "sc = StandardScaler()\n",
        "X_train = sc.fit_transform(X_train)\n",
        "X_test = sc.transform(X_test)\n"
      ]
    },
    {
      "cell_type": "code",
      "source": [],
      "metadata": {
        "id": "NlUtEu9CI2HY"
      },
      "id": "NlUtEu9CI2HY",
      "execution_count": null,
      "outputs": []
    },
    {
      "cell_type": "code",
      "execution_count": 74,
      "id": "e0118b69",
      "metadata": {
        "id": "e0118b69",
        "colab": {
          "base_uri": "https://localhost:8080/"
        },
        "outputId": "1402fbb7-328f-489c-979a-9089f7983f38"
      },
      "outputs": [
        {
          "output_type": "execute_result",
          "data": {
            "text/plain": [
              "SVC(C=2, gamma='auto', kernel='linear')"
            ]
          },
          "metadata": {},
          "execution_count": 74
        }
      ],
      "source": [
        "classifier.fit(X_train,y_train) # Training the svm model"
      ]
    },
    {
      "cell_type": "code",
      "execution_count": 55,
      "id": "5f5faf91",
      "metadata": {
        "id": "5f5faf91"
      },
      "outputs": [],
      "source": [
        "y_predict= classifier.predict(X_test)\n"
      ]
    },
    {
      "cell_type": "code",
      "source": [
        "print(X_train.shape)\n",
        "print(X_test.shape)"
      ],
      "metadata": {
        "colab": {
          "base_uri": "https://localhost:8080/"
        },
        "id": "d-sC61G1_yxs",
        "outputId": "9a912c52-a9f0-4907-9e49-2bf19ee43622"
      },
      "id": "d-sC61G1_yxs",
      "execution_count": 56,
      "outputs": [
        {
          "output_type": "stream",
          "name": "stdout",
          "text": [
            "(63585, 6)\n",
            "(27251, 6)\n"
          ]
        }
      ]
    },
    {
      "cell_type": "code",
      "execution_count": 57,
      "id": "5f8a91d6",
      "metadata": {
        "id": "5f8a91d6"
      },
      "outputs": [],
      "source": [
        "from sklearn.metrics import classification_report"
      ]
    },
    {
      "cell_type": "code",
      "execution_count": 58,
      "id": "8262e3c1",
      "metadata": {
        "id": "8262e3c1",
        "colab": {
          "base_uri": "https://localhost:8080/"
        },
        "outputId": "cd9fe937-8a3b-4494-c0a9-210b02ee7b6b"
      },
      "outputs": [
        {
          "output_type": "stream",
          "name": "stdout",
          "text": [
            "              precision    recall  f1-score   support\n",
            "\n",
            "           0       0.90      1.00      0.95     24599\n",
            "           1       0.00      0.00      0.00      2652\n",
            "\n",
            "    accuracy                           0.90     27251\n",
            "   macro avg       0.45      0.50      0.47     27251\n",
            "weighted avg       0.81      0.90      0.86     27251\n",
            "\n",
            "0.9026824703680599\n"
          ]
        },
        {
          "output_type": "stream",
          "name": "stderr",
          "text": [
            "/usr/local/lib/python3.7/dist-packages/sklearn/metrics/_classification.py:1318: UndefinedMetricWarning: Precision and F-score are ill-defined and being set to 0.0 in labels with no predicted samples. Use `zero_division` parameter to control this behavior.\n",
            "  _warn_prf(average, modifier, msg_start, len(result))\n",
            "/usr/local/lib/python3.7/dist-packages/sklearn/metrics/_classification.py:1318: UndefinedMetricWarning: Precision and F-score are ill-defined and being set to 0.0 in labels with no predicted samples. Use `zero_division` parameter to control this behavior.\n",
            "  _warn_prf(average, modifier, msg_start, len(result))\n",
            "/usr/local/lib/python3.7/dist-packages/sklearn/metrics/_classification.py:1318: UndefinedMetricWarning: Precision and F-score are ill-defined and being set to 0.0 in labels with no predicted samples. Use `zero_division` parameter to control this behavior.\n",
            "  _warn_prf(average, modifier, msg_start, len(result))\n"
          ]
        }
      ],
      "source": [
        "print(classification_report(y_test,y_predict))\n",
        "from sklearn import metrics\n",
        "print(metrics.accuracy_score(y_test,y_predict))"
      ]
    },
    {
      "cell_type": "code",
      "source": [],
      "metadata": {
        "id": "qNdDpUF4DIL4"
      },
      "id": "qNdDpUF4DIL4",
      "execution_count": 58,
      "outputs": []
    },
    {
      "cell_type": "markdown",
      "source": [
        "# TASK 2\n",
        "### BUILDING ARITIFICIAL NEURAL NETWORK"
      ],
      "metadata": {
        "id": "7nZL1CaEDaOg"
      },
      "id": "7nZL1CaEDaOg"
    },
    {
      "cell_type": "markdown",
      "source": [
        "* Using tensorflow and keras"
      ],
      "metadata": {
        "id": "W6SoK4QWDu-R"
      },
      "id": "W6SoK4QWDu-R"
    },
    {
      "cell_type": "code",
      "source": [
        "\n",
        "import tensorflow as tf\n",
        "from tensorflow import keras\n",
        "\n",
        "\n",
        "model = keras.Sequential([keras.layers.Dense(6, input_shape=(6,), activation='relu'),keras.layers.Dense(15, activation='relu'),keras.layers.Dense(1, activation='sigmoid')\n",
        "])\n",
        "\n",
        "model.compile(optimizer='adam',\n",
        "              loss='binary_crossentropy',\n",
        "              metrics=['accuracy'])\n",
        "model.fit(X_train, y_train, epochs=100)"
      ],
      "metadata": {
        "id": "2NZXALwnEnRo",
        "colab": {
          "base_uri": "https://localhost:8080/"
        },
        "outputId": "ab641e05-8d07-4821-f713-93566dc8f34d"
      },
      "id": "2NZXALwnEnRo",
      "execution_count": 59,
      "outputs": [
        {
          "output_type": "stream",
          "name": "stdout",
          "text": [
            "Epoch 1/100\n",
            "1988/1988 [==============================] - 4s 2ms/step - loss: 0.2571 - accuracy: 0.8960\n",
            "Epoch 2/100\n",
            "1988/1988 [==============================] - 3s 2ms/step - loss: 0.1952 - accuracy: 0.9086\n",
            "Epoch 3/100\n",
            "1988/1988 [==============================] - 3s 2ms/step - loss: 0.1898 - accuracy: 0.9104\n",
            "Epoch 4/100\n",
            "1988/1988 [==============================] - 3s 2ms/step - loss: 0.1881 - accuracy: 0.9108\n",
            "Epoch 5/100\n",
            "1988/1988 [==============================] - 3s 2ms/step - loss: 0.1872 - accuracy: 0.9114\n",
            "Epoch 6/100\n",
            "1988/1988 [==============================] - 3s 2ms/step - loss: 0.1864 - accuracy: 0.9117\n",
            "Epoch 7/100\n",
            "1988/1988 [==============================] - 3s 2ms/step - loss: 0.1859 - accuracy: 0.9118\n",
            "Epoch 8/100\n",
            "1988/1988 [==============================] - 3s 2ms/step - loss: 0.1856 - accuracy: 0.9117\n",
            "Epoch 9/100\n",
            "1988/1988 [==============================] - 3s 2ms/step - loss: 0.1852 - accuracy: 0.9114\n",
            "Epoch 10/100\n",
            "1988/1988 [==============================] - 3s 2ms/step - loss: 0.1850 - accuracy: 0.9119\n",
            "Epoch 11/100\n",
            "1988/1988 [==============================] - 3s 2ms/step - loss: 0.1849 - accuracy: 0.9120\n",
            "Epoch 12/100\n",
            "1988/1988 [==============================] - 4s 2ms/step - loss: 0.1849 - accuracy: 0.9121\n",
            "Epoch 13/100\n",
            "1988/1988 [==============================] - 5s 2ms/step - loss: 0.1846 - accuracy: 0.9123\n",
            "Epoch 14/100\n",
            "1988/1988 [==============================] - 3s 2ms/step - loss: 0.1849 - accuracy: 0.9121\n",
            "Epoch 15/100\n",
            "1988/1988 [==============================] - 3s 2ms/step - loss: 0.1845 - accuracy: 0.9120\n",
            "Epoch 16/100\n",
            "1988/1988 [==============================] - 3s 2ms/step - loss: 0.1843 - accuracy: 0.9122\n",
            "Epoch 17/100\n",
            "1988/1988 [==============================] - 3s 2ms/step - loss: 0.1844 - accuracy: 0.9124\n",
            "Epoch 18/100\n",
            "1988/1988 [==============================] - 3s 2ms/step - loss: 0.1844 - accuracy: 0.9124\n",
            "Epoch 19/100\n",
            "1988/1988 [==============================] - 4s 2ms/step - loss: 0.1843 - accuracy: 0.9123\n",
            "Epoch 20/100\n",
            "1988/1988 [==============================] - 3s 2ms/step - loss: 0.1842 - accuracy: 0.9122\n",
            "Epoch 21/100\n",
            "1988/1988 [==============================] - 3s 2ms/step - loss: 0.1842 - accuracy: 0.9122\n",
            "Epoch 22/100\n",
            "1988/1988 [==============================] - 3s 2ms/step - loss: 0.1840 - accuracy: 0.9123\n",
            "Epoch 23/100\n",
            "1988/1988 [==============================] - 3s 2ms/step - loss: 0.1839 - accuracy: 0.9122\n",
            "Epoch 24/100\n",
            "1988/1988 [==============================] - 3s 2ms/step - loss: 0.1841 - accuracy: 0.9120\n",
            "Epoch 25/100\n",
            "1988/1988 [==============================] - 3s 2ms/step - loss: 0.1839 - accuracy: 0.9123\n",
            "Epoch 26/100\n",
            "1988/1988 [==============================] - 3s 2ms/step - loss: 0.1839 - accuracy: 0.9121\n",
            "Epoch 27/100\n",
            "1988/1988 [==============================] - 3s 2ms/step - loss: 0.1838 - accuracy: 0.9124\n",
            "Epoch 28/100\n",
            "1988/1988 [==============================] - 3s 2ms/step - loss: 0.1838 - accuracy: 0.9119\n",
            "Epoch 29/100\n",
            "1988/1988 [==============================] - 3s 2ms/step - loss: 0.1839 - accuracy: 0.9123\n",
            "Epoch 30/100\n",
            "1988/1988 [==============================] - 3s 2ms/step - loss: 0.1838 - accuracy: 0.9121\n",
            "Epoch 31/100\n",
            "1988/1988 [==============================] - 3s 2ms/step - loss: 0.1838 - accuracy: 0.9122\n",
            "Epoch 32/100\n",
            "1988/1988 [==============================] - 3s 2ms/step - loss: 0.1835 - accuracy: 0.9123\n",
            "Epoch 33/100\n",
            "1988/1988 [==============================] - 3s 2ms/step - loss: 0.1836 - accuracy: 0.9123\n",
            "Epoch 34/100\n",
            "1988/1988 [==============================] - 3s 2ms/step - loss: 0.1835 - accuracy: 0.9123\n",
            "Epoch 35/100\n",
            "1988/1988 [==============================] - 3s 2ms/step - loss: 0.1834 - accuracy: 0.9124\n",
            "Epoch 36/100\n",
            "1988/1988 [==============================] - 3s 2ms/step - loss: 0.1835 - accuracy: 0.9122\n",
            "Epoch 37/100\n",
            "1988/1988 [==============================] - 3s 2ms/step - loss: 0.1834 - accuracy: 0.9126\n",
            "Epoch 38/100\n",
            "1988/1988 [==============================] - 3s 2ms/step - loss: 0.1832 - accuracy: 0.9123\n",
            "Epoch 39/100\n",
            "1988/1988 [==============================] - 3s 2ms/step - loss: 0.1831 - accuracy: 0.9122\n",
            "Epoch 40/100\n",
            "1988/1988 [==============================] - 3s 2ms/step - loss: 0.1834 - accuracy: 0.9122\n",
            "Epoch 41/100\n",
            "1988/1988 [==============================] - 3s 2ms/step - loss: 0.1833 - accuracy: 0.9123\n",
            "Epoch 42/100\n",
            "1988/1988 [==============================] - 3s 2ms/step - loss: 0.1832 - accuracy: 0.9121\n",
            "Epoch 43/100\n",
            "1988/1988 [==============================] - 3s 2ms/step - loss: 0.1832 - accuracy: 0.9121\n",
            "Epoch 44/100\n",
            "1988/1988 [==============================] - 3s 2ms/step - loss: 0.1833 - accuracy: 0.9122\n",
            "Epoch 45/100\n",
            "1988/1988 [==============================] - 3s 2ms/step - loss: 0.1832 - accuracy: 0.9122\n",
            "Epoch 46/100\n",
            "1988/1988 [==============================] - 3s 2ms/step - loss: 0.1830 - accuracy: 0.9121\n",
            "Epoch 47/100\n",
            "1988/1988 [==============================] - 3s 2ms/step - loss: 0.1830 - accuracy: 0.9124\n",
            "Epoch 48/100\n",
            "1988/1988 [==============================] - 4s 2ms/step - loss: 0.1830 - accuracy: 0.9127\n",
            "Epoch 49/100\n",
            "1988/1988 [==============================] - 5s 3ms/step - loss: 0.1830 - accuracy: 0.9122\n",
            "Epoch 50/100\n",
            "1988/1988 [==============================] - 3s 2ms/step - loss: 0.1830 - accuracy: 0.9125\n",
            "Epoch 51/100\n",
            "1988/1988 [==============================] - 3s 2ms/step - loss: 0.1828 - accuracy: 0.9124\n",
            "Epoch 52/100\n",
            "1988/1988 [==============================] - 3s 2ms/step - loss: 0.1829 - accuracy: 0.9123\n",
            "Epoch 53/100\n",
            "1988/1988 [==============================] - 3s 2ms/step - loss: 0.1830 - accuracy: 0.9123\n",
            "Epoch 54/100\n",
            "1988/1988 [==============================] - 3s 2ms/step - loss: 0.1829 - accuracy: 0.9123\n",
            "Epoch 55/100\n",
            "1988/1988 [==============================] - 3s 2ms/step - loss: 0.1829 - accuracy: 0.9121\n",
            "Epoch 56/100\n",
            "1988/1988 [==============================] - 3s 2ms/step - loss: 0.1829 - accuracy: 0.9122\n",
            "Epoch 57/100\n",
            "1988/1988 [==============================] - 4s 2ms/step - loss: 0.1829 - accuracy: 0.9121\n",
            "Epoch 58/100\n",
            "1988/1988 [==============================] - 3s 2ms/step - loss: 0.1827 - accuracy: 0.9124\n",
            "Epoch 59/100\n",
            "1988/1988 [==============================] - 3s 2ms/step - loss: 0.1828 - accuracy: 0.9124\n",
            "Epoch 60/100\n",
            "1988/1988 [==============================] - 3s 2ms/step - loss: 0.1828 - accuracy: 0.9120\n",
            "Epoch 61/100\n",
            "1988/1988 [==============================] - 3s 2ms/step - loss: 0.1828 - accuracy: 0.9123\n",
            "Epoch 62/100\n",
            "1988/1988 [==============================] - 3s 2ms/step - loss: 0.1827 - accuracy: 0.9124\n",
            "Epoch 63/100\n",
            "1988/1988 [==============================] - 3s 2ms/step - loss: 0.1827 - accuracy: 0.9123\n",
            "Epoch 64/100\n",
            "1988/1988 [==============================] - 3s 2ms/step - loss: 0.1827 - accuracy: 0.9124\n",
            "Epoch 65/100\n",
            "1988/1988 [==============================] - 3s 2ms/step - loss: 0.1827 - accuracy: 0.9122\n",
            "Epoch 66/100\n",
            "1988/1988 [==============================] - 3s 2ms/step - loss: 0.1828 - accuracy: 0.9123\n",
            "Epoch 67/100\n",
            "1988/1988 [==============================] - 3s 2ms/step - loss: 0.1827 - accuracy: 0.9126\n",
            "Epoch 68/100\n",
            "1988/1988 [==============================] - 3s 2ms/step - loss: 0.1827 - accuracy: 0.9121\n",
            "Epoch 69/100\n",
            "1988/1988 [==============================] - 6s 3ms/step - loss: 0.1828 - accuracy: 0.9124\n",
            "Epoch 70/100\n",
            "1988/1988 [==============================] - 6s 3ms/step - loss: 0.1826 - accuracy: 0.9121\n",
            "Epoch 71/100\n",
            "1988/1988 [==============================] - 6s 3ms/step - loss: 0.1826 - accuracy: 0.9122\n",
            "Epoch 72/100\n",
            "1988/1988 [==============================] - 5s 2ms/step - loss: 0.1827 - accuracy: 0.9124\n",
            "Epoch 73/100\n",
            "1988/1988 [==============================] - 5s 3ms/step - loss: 0.1827 - accuracy: 0.9124\n",
            "Epoch 74/100\n",
            "1988/1988 [==============================] - 5s 2ms/step - loss: 0.1827 - accuracy: 0.9124\n",
            "Epoch 75/100\n",
            "1988/1988 [==============================] - 3s 2ms/step - loss: 0.1825 - accuracy: 0.9123\n",
            "Epoch 76/100\n",
            "1988/1988 [==============================] - 3s 2ms/step - loss: 0.1826 - accuracy: 0.9124\n",
            "Epoch 77/100\n",
            "1988/1988 [==============================] - 3s 2ms/step - loss: 0.1826 - accuracy: 0.9121\n",
            "Epoch 78/100\n",
            "1988/1988 [==============================] - 3s 2ms/step - loss: 0.1826 - accuracy: 0.9126\n",
            "Epoch 79/100\n",
            "1988/1988 [==============================] - 3s 2ms/step - loss: 0.1825 - accuracy: 0.9123\n",
            "Epoch 80/100\n",
            "1988/1988 [==============================] - 3s 2ms/step - loss: 0.1826 - accuracy: 0.9125\n",
            "Epoch 81/100\n",
            "1988/1988 [==============================] - 3s 2ms/step - loss: 0.1825 - accuracy: 0.9124\n",
            "Epoch 82/100\n",
            "1988/1988 [==============================] - 3s 2ms/step - loss: 0.1826 - accuracy: 0.9124\n",
            "Epoch 83/100\n",
            "1988/1988 [==============================] - 3s 2ms/step - loss: 0.1825 - accuracy: 0.9123\n",
            "Epoch 84/100\n",
            "1988/1988 [==============================] - 3s 2ms/step - loss: 0.1826 - accuracy: 0.9123\n",
            "Epoch 85/100\n",
            "1988/1988 [==============================] - 3s 2ms/step - loss: 0.1826 - accuracy: 0.9124\n",
            "Epoch 86/100\n",
            "1988/1988 [==============================] - 3s 2ms/step - loss: 0.1825 - accuracy: 0.9123\n",
            "Epoch 87/100\n",
            "1988/1988 [==============================] - 3s 2ms/step - loss: 0.1825 - accuracy: 0.9122\n",
            "Epoch 88/100\n",
            "1988/1988 [==============================] - 3s 2ms/step - loss: 0.1825 - accuracy: 0.9124\n",
            "Epoch 89/100\n",
            "1988/1988 [==============================] - 3s 2ms/step - loss: 0.1827 - accuracy: 0.9127\n",
            "Epoch 90/100\n",
            "1988/1988 [==============================] - 3s 2ms/step - loss: 0.1825 - accuracy: 0.9124\n",
            "Epoch 91/100\n",
            "1988/1988 [==============================] - 4s 2ms/step - loss: 0.1825 - accuracy: 0.9126\n",
            "Epoch 92/100\n",
            "1988/1988 [==============================] - 3s 2ms/step - loss: 0.1825 - accuracy: 0.9122\n",
            "Epoch 93/100\n",
            "1988/1988 [==============================] - 3s 2ms/step - loss: 0.1824 - accuracy: 0.9120\n",
            "Epoch 94/100\n",
            "1988/1988 [==============================] - 3s 2ms/step - loss: 0.1825 - accuracy: 0.9128\n",
            "Epoch 95/100\n",
            "1988/1988 [==============================] - 3s 2ms/step - loss: 0.1825 - accuracy: 0.9123\n",
            "Epoch 96/100\n",
            "1988/1988 [==============================] - 3s 2ms/step - loss: 0.1825 - accuracy: 0.9124\n",
            "Epoch 97/100\n",
            "1988/1988 [==============================] - 3s 2ms/step - loss: 0.1825 - accuracy: 0.9123\n",
            "Epoch 98/100\n",
            "1988/1988 [==============================] - 3s 2ms/step - loss: 0.1825 - accuracy: 0.9125\n",
            "Epoch 99/100\n",
            "1988/1988 [==============================] - 4s 2ms/step - loss: 0.1824 - accuracy: 0.9124\n",
            "Epoch 100/100\n",
            "1988/1988 [==============================] - 4s 2ms/step - loss: 0.1824 - accuracy: 0.9123\n"
          ]
        },
        {
          "output_type": "execute_result",
          "data": {
            "text/plain": [
              "<keras.callbacks.History at 0x7f576163d4d0>"
            ]
          },
          "metadata": {},
          "execution_count": 59
        }
      ]
    },
    {
      "cell_type": "code",
      "execution_count": 60,
      "id": "6c126466",
      "metadata": {
        "id": "6c126466",
        "colab": {
          "base_uri": "https://localhost:8080/"
        },
        "outputId": "6ee112be-462a-49ae-9af4-cdf3229cbf8c"
      },
      "outputs": [
        {
          "output_type": "stream",
          "name": "stdout",
          "text": [
            "852/852 [==============================] - 1s 1ms/step - loss: 0.1832 - accuracy: 0.9128\n"
          ]
        },
        {
          "output_type": "execute_result",
          "data": {
            "text/plain": [
              "[0.18318630754947662, 0.9128105640411377]"
            ]
          },
          "metadata": {},
          "execution_count": 60
        }
      ],
      "source": [
        "model.evaluate(X_test, y_test)"
      ]
    },
    {
      "cell_type": "code",
      "execution_count": 61,
      "id": "02f10b19",
      "metadata": {
        "id": "02f10b19",
        "colab": {
          "base_uri": "https://localhost:8080/"
        },
        "outputId": "f28f63e6-a019-4123-e1fd-0e7025c71d73"
      },
      "outputs": [
        {
          "output_type": "execute_result",
          "data": {
            "text/plain": [
              "array([[4.8847035e-16],\n",
              "       [1.5552983e-08],\n",
              "       [3.4171629e-20],\n",
              "       [2.5646853e-01],\n",
              "       [2.5646853e-01]], dtype=float32)"
            ]
          },
          "metadata": {},
          "execution_count": 61
        }
      ],
      "source": [
        "yp = model.predict(X_test)\n",
        "yp[:5]"
      ]
    },
    {
      "cell_type": "code",
      "execution_count": 62,
      "id": "56945777",
      "metadata": {
        "id": "56945777"
      },
      "outputs": [],
      "source": [
        "y_pred = []\n",
        "for element in yp:\n",
        "    if element > 0.5:\n",
        "        y_pred.append(1)\n",
        "    else:\n",
        "        y_pred.append(0)"
      ]
    },
    {
      "cell_type": "code",
      "execution_count": 63,
      "id": "fc5797c1",
      "metadata": {
        "id": "fc5797c1",
        "colab": {
          "base_uri": "https://localhost:8080/"
        },
        "outputId": "8f2ed44b-c8de-45f5-cbce-bf2e2203167f"
      },
      "outputs": [
        {
          "output_type": "execute_result",
          "data": {
            "text/plain": [
              "[0, 0, 0, 0, 0, 0, 0, 0, 0, 0]"
            ]
          },
          "metadata": {},
          "execution_count": 63
        }
      ],
      "source": [
        "y_pred[:10]"
      ]
    },
    {
      "cell_type": "code",
      "execution_count": 64,
      "id": "94e73ddb",
      "metadata": {
        "id": "94e73ddb",
        "colab": {
          "base_uri": "https://localhost:8080/"
        },
        "outputId": "e89bb318-65aa-47a1-bcd1-e3a9a2d80af4"
      },
      "outputs": [
        {
          "output_type": "execute_result",
          "data": {
            "text/plain": [
              "67434    0\n",
              "33984    0\n",
              "82717    0\n",
              "16614    0\n",
              "8987     0\n",
              "15658    0\n",
              "81429    0\n",
              "50064    0\n",
              "41365    1\n",
              "42953    0\n",
              "Name: True, dtype: int64"
            ]
          },
          "metadata": {},
          "execution_count": 64
        }
      ],
      "source": [
        "y_test[:10]"
      ]
    },
    {
      "cell_type": "code",
      "execution_count": 65,
      "id": "a073d22d",
      "metadata": {
        "id": "a073d22d",
        "colab": {
          "base_uri": "https://localhost:8080/"
        },
        "outputId": "a35936b7-59a7-4639-e14a-3a655b94202a"
      },
      "outputs": [
        {
          "output_type": "stream",
          "name": "stdout",
          "text": [
            "              precision    recall  f1-score   support\n",
            "\n",
            "           0       0.92      1.00      0.95     24599\n",
            "           1       0.77      0.15      0.25      2652\n",
            "\n",
            "    accuracy                           0.91     27251\n",
            "   macro avg       0.84      0.57      0.60     27251\n",
            "weighted avg       0.90      0.91      0.89     27251\n",
            "\n"
          ]
        }
      ],
      "source": [
        "from sklearn.metrics import confusion_matrix , classification_report\n",
        "\n",
        "print(classification_report(y_test,y_pred))"
      ]
    },
    {
      "cell_type": "code",
      "source": [
        "import seaborn as sn\n",
        "cm = tf.math.confusion_matrix(labels=y_test,predictions=y_pred)\n",
        "\n",
        "m.figure(figsize = (10,7))\n",
        "s.heatmap(cm, annot=True, fmt='d')\n",
        "m.xlabel('Predicted')\n",
        "m.ylabel('Truth')"
      ],
      "metadata": {
        "colab": {
          "base_uri": "https://localhost:8080/",
          "height": 459
        },
        "id": "fnwiw9A-Cba_",
        "outputId": "d0205ce5-d545-4ed1-bca1-565bbd1c2196"
      },
      "id": "fnwiw9A-Cba_",
      "execution_count": 66,
      "outputs": [
        {
          "output_type": "execute_result",
          "data": {
            "text/plain": [
              "Text(69.0, 0.5, 'Truth')"
            ]
          },
          "metadata": {},
          "execution_count": 66
        },
        {
          "output_type": "display_data",
          "data": {
            "text/plain": [
              "<Figure size 720x504 with 2 Axes>"
            ],
            "image/png": "[encoded data removed]"
          },
          "metadata": {
            "needs_background": "light"
          }
        }
      ]
    },
    {
      "cell_type": "markdown",
      "source": [
        "# Accuracy test score"
      ],
      "metadata": {
        "id": "7x8dyY1-GWQ0"
      },
      "id": "7x8dyY1-GWQ0"
    },
    {
      "cell_type": "code",
      "source": [
        "round((24484+391)/(24484+391+2261+115),2)"
      ],
      "metadata": {
        "colab": {
          "base_uri": "https://localhost:8080/"
        },
        "id": "nqKPwgeVCikV",
        "outputId": "f08c7177-33cc-4a3a-c5c3-d71731a51ca8"
      },
      "id": "nqKPwgeVCikV",
      "execution_count": 69,
      "outputs": [
        {
          "output_type": "execute_result",
          "data": {
            "text/plain": [
              "0.91"
            ]
          },
          "metadata": {},
          "execution_count": 69
        }
      ]
    },
    {
      "cell_type": "markdown",
      "source": [
        "# Precision for not hazardous object"
      ],
      "metadata": {
        "id": "pw93OcRFGbRy"
      },
      "id": "pw93OcRFGbRy"
    },
    {
      "cell_type": "code",
      "source": [
        "round(24484/(24484+2261),2)"
      ],
      "metadata": {
        "colab": {
          "base_uri": "https://localhost:8080/"
        },
        "id": "fDIAr95xC89W",
        "outputId": "8444f173-fb5f-41e2-b3c9-79533ee36f59"
      },
      "id": "fDIAr95xC89W",
      "execution_count": 70,
      "outputs": [
        {
          "output_type": "execute_result",
          "data": {
            "text/plain": [
              "0.92"
            ]
          },
          "metadata": {},
          "execution_count": 70
        }
      ]
    },
    {
      "cell_type": "markdown",
      "source": [
        "# Precision for hazardous object"
      ],
      "metadata": {
        "id": "QRov8lwiHHFV"
      },
      "id": "QRov8lwiHHFV"
    },
    {
      "cell_type": "code",
      "source": [
        "round(391/(391+115),2)"
      ],
      "metadata": {
        "id": "_zXuVp0AGml6",
        "outputId": "2f11818d-5a0f-41aa-d7b6-c45a2d21a1ae",
        "colab": {
          "base_uri": "https://localhost:8080/"
        }
      },
      "id": "_zXuVp0AGml6",
      "execution_count": 71,
      "outputs": [
        {
          "output_type": "execute_result",
          "data": {
            "text/plain": [
              "0.77"
            ]
          },
          "metadata": {},
          "execution_count": 71
        }
      ]
    },
    {
      "cell_type": "markdown",
      "source": [
        "# Recall for not hazarous object"
      ],
      "metadata": {
        "id": "0b4-au64HzpK"
      },
      "id": "0b4-au64HzpK"
    },
    {
      "cell_type": "code",
      "source": [
        "round(24484/(24484+115),2)"
      ],
      "metadata": {
        "id": "3UmBqzWFHvAJ",
        "outputId": "5d29bb39-c060-4bf6-cabb-2e03e6fb67d7",
        "colab": {
          "base_uri": "https://localhost:8080/"
        }
      },
      "id": "3UmBqzWFHvAJ",
      "execution_count": 72,
      "outputs": [
        {
          "output_type": "execute_result",
          "data": {
            "text/plain": [
              "1.0"
            ]
          },
          "metadata": {},
          "execution_count": 72
        }
      ]
    },
    {
      "cell_type": "markdown",
      "source": [
        "# Recall for hazarous object"
      ],
      "metadata": {
        "id": "LH65QFpZIDP1"
      },
      "id": "LH65QFpZIDP1"
    },
    {
      "cell_type": "code",
      "source": [
        "round(391/(391+2261),2)"
      ],
      "metadata": {
        "id": "0FxV9EaDIAux",
        "outputId": "4ef8c2f0-6c4a-4810-bafd-febeac3927b0",
        "colab": {
          "base_uri": "https://localhost:8080/"
        }
      },
      "id": "0FxV9EaDIAux",
      "execution_count": 73,
      "outputs": [
        {
          "output_type": "execute_result",
          "data": {
            "text/plain": [
              "0.15"
            ]
          },
          "metadata": {},
          "execution_count": 73
        }
      ]
    },
    {
      "cell_type": "code",
      "source": [],
      "metadata": {
        "id": "6wE8InANISXF"
      },
      "id": "6wE8InANISXF",
      "execution_count": 76,
      "outputs": []
    },
    {
      "cell_type": "code",
      "source": [],
      "metadata": {
        "id": "biswCC1rI9BR"
      },
      "id": "biswCC1rI9BR",
      "execution_count": 76,
      "outputs": []
    },
    {
      "cell_type": "code",
      "source": [],
      "metadata": {
        "id": "zFVl7pCLJMcx"
      },
      "id": "zFVl7pCLJMcx",
      "execution_count": null,
      "outputs": []
    }
  ],
  "metadata": {
    "kernelspec": {
      "display_name": "Python 3 (ipykernel)",
      "language": "python",
      "name": "python3"
    },
    "language_info": {
      "codemirror_mode": {
        "name": "ipython",
        "version": 3
      },
      "file_extension": ".py",
      "mimetype": "text/x-python",
      "name": "python",
      "nbconvert_exporter": "python",
      "pygments_lexer": "ipython3",
      "version": "3.9.12"
    },
    "colab": {
      "name": "Iosd.ipynb",
      "provenance": [],
      "include_colab_link": true
    }
  },
  "nbformat": 4,
  "nbformat_minor": 5
}