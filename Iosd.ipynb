{
  "cells": [
    {
      "cell_type": "markdown",
      "metadata": {
        "id": "view-in-github",
        "colab_type": "text"
      },
      "source": [
        "<a href=\"https://colab.research.google.com/github/Ashu-Az/Iosd/blob/main/Iosd.ipynb\" target=\"_parent\"><img src=\"https://colab.research.google.com/assets/colab-badge.svg\" alt=\"Open In Colab\"/></a>"
      ]
    },
    {
      "cell_type": "markdown",
      "source": [
        "# TASK 1\n",
        "* Implement kernel SVM for classification and provide a comparative study using different kernels(linear, polynomial, gaussian, sigmoid, RBF etc) using precision and f1-scores."
      ],
      "metadata": {
        "id": "kcgCNtVyDw2-"
      },
      "id": "kcgCNtVyDw2-"
    },
    {
      "cell_type": "markdown",
      "source": [
        "# Importing necesassary libraries"
      ],
      "metadata": {
        "id": "Pjja3CxyENuV"
      },
      "id": "Pjja3CxyENuV"
    },
    {
      "cell_type": "code",
      "execution_count": 84,
      "id": "e31f7525",
      "metadata": {
        "id": "e31f7525"
      },
      "outputs": [],
      "source": [
        "import pandas as p\n",
        "import numpy as n\n",
        "import seaborn as s\n",
        "import matplotlib.pyplot as m\n",
        "from pandas.plotting import scatter_matrix\n",
        "from sklearn.model_selection import train_test_split\n",
        "from sklearn.linear_model import LogisticRegression\n",
        "from sklearn.metrics import accuracy_score\n",
        "%matplotlib inline"
      ]
    },
    {
      "cell_type": "code",
      "execution_count": 85,
      "id": "4fccbb56",
      "metadata": {
        "colab": {
          "base_uri": "https://localhost:8080/",
          "height": 713
        },
        "id": "4fccbb56",
        "outputId": "cbec5a08-67d4-4c53-c80f-ae4e37465119"
      },
      "outputs": [
        {
          "output_type": "execute_result",
          "data": {
            "text/plain": [
              "             id                 name  est_diameter_min  est_diameter_max  \\\n",
              "0       2162635  162635 (2000 SS164)          1.198271          2.679415   \n",
              "1       2277475    277475 (2005 WK4)          0.265800          0.594347   \n",
              "2       2512244   512244 (2015 YE18)          0.722030          1.614507   \n",
              "3       3596030          (2012 BV13)          0.096506          0.215794   \n",
              "4       3667127          (2014 GE35)          0.255009          0.570217   \n",
              "...         ...                  ...               ...               ...   \n",
              "90831   3763337           (2016 VX1)          0.026580          0.059435   \n",
              "90832   3837603           (2019 AD3)          0.016771          0.037501   \n",
              "90833  54017201           (2020 JP3)          0.031956          0.071456   \n",
              "90834  54115824           (2021 CN5)          0.007321          0.016370   \n",
              "90835  54205447           (2021 TW7)          0.039862          0.089133   \n",
              "\n",
              "       relative_velocity  miss_distance orbiting_body  sentry_object  \\\n",
              "0           13569.249224   5.483974e+07         Earth          False   \n",
              "1           73588.726663   6.143813e+07         Earth          False   \n",
              "2          114258.692129   4.979872e+07         Earth          False   \n",
              "3           24764.303138   2.543497e+07         Earth          False   \n",
              "4           42737.733765   4.627557e+07         Earth          False   \n",
              "...                  ...            ...           ...            ...   \n",
              "90831       52078.886692   1.230039e+07         Earth          False   \n",
              "90832       46114.605073   5.432121e+07         Earth          False   \n",
              "90833        7566.807732   2.840077e+07         Earth          False   \n",
              "90834       69199.154484   6.869206e+07         Earth          False   \n",
              "90835       27024.455553   5.977213e+07         Earth          False   \n",
              "\n",
              "       absolute_magnitude  hazardous  \n",
              "0                   16.73      False  \n",
              "1                   20.00       True  \n",
              "2                   17.83      False  \n",
              "3                   22.20      False  \n",
              "4                   20.09       True  \n",
              "...                   ...        ...  \n",
              "90831               25.00      False  \n",
              "90832               26.00      False  \n",
              "90833               24.60      False  \n",
              "90834               27.80      False  \n",
              "90835               24.12      False  \n",
              "\n",
              "[90836 rows x 10 columns]"
            ],
            "text/html": [
              "\n",
              "  <div id=\"df-0ef0aee0-397b-47ca-9310-05872b735d2c\">\n",
              "    <div class=\"colab-df-container\">\n",
              "      <div>\n",
              "<style scoped>\n",
              "    .dataframe tbody tr th:only-of-type {\n",
              "        vertical-align: middle;\n",
              "    }\n",
              "\n",
              "    .dataframe tbody tr th {\n",
              "        vertical-align: top;\n",
              "    }\n",
              "\n",
              "    .dataframe thead th {\n",
              "        text-align: right;\n",
              "    }\n",
              "</style>\n",
              "<table border=\"1\" class=\"dataframe\">\n",
              "  <thead>\n",
              "    <tr style=\"text-align: right;\">\n",
              "      <th></th>\n",
              "      <th>id</th>\n",
              "      <th>name</th>\n",
              "      <th>est_diameter_min</th>\n",
              "      <th>est_diameter_max</th>\n",
              "      <th>relative_velocity</th>\n",
              "      <th>miss_distance</th>\n",
              "      <th>orbiting_body</th>\n",
              "      <th>sentry_object</th>\n",
              "      <th>absolute_magnitude</th>\n",
              "      <th>hazardous</th>\n",
              "    </tr>\n",
              "  </thead>\n",
              "  <tbody>\n",
              "    <tr>\n",
              "      <th>0</th>\n",
              "      <td>2162635</td>\n",
              "      <td>162635 (2000 SS164)</td>\n",
              "      <td>1.198271</td>\n",
              "      <td>2.679415</td>\n",
              "      <td>13569.249224</td>\n",
              "      <td>5.483974e+07</td>\n",
              "      <td>Earth</td>\n",
              "      <td>False</td>\n",
              "      <td>16.73</td>\n",
              "      <td>False</td>\n",
              "    </tr>\n",
              "    <tr>\n",
              "      <th>1</th>\n",
              "      <td>2277475</td>\n",
              "      <td>277475 (2005 WK4)</td>\n",
              "      <td>0.265800</td>\n",
              "      <td>0.594347</td>\n",
              "      <td>73588.726663</td>\n",
              "      <td>6.143813e+07</td>\n",
              "      <td>Earth</td>\n",
              "      <td>False</td>\n",
              "      <td>20.00</td>\n",
              "      <td>True</td>\n",
              "    </tr>\n",
              "    <tr>\n",
              "      <th>2</th>\n",
              "      <td>2512244</td>\n",
              "      <td>512244 (2015 YE18)</td>\n",
              "      <td>0.722030</td>\n",
              "      <td>1.614507</td>\n",
              "      <td>114258.692129</td>\n",
              "      <td>4.979872e+07</td>\n",
              "      <td>Earth</td>\n",
              "      <td>False</td>\n",
              "      <td>17.83</td>\n",
              "      <td>False</td>\n",
              "    </tr>\n",
              "    <tr>\n",
              "      <th>3</th>\n",
              "      <td>3596030</td>\n",
              "      <td>(2012 BV13)</td>\n",
              "      <td>0.096506</td>\n",
              "      <td>0.215794</td>\n",
              "      <td>24764.303138</td>\n",
              "      <td>2.543497e+07</td>\n",
              "      <td>Earth</td>\n",
              "      <td>False</td>\n",
              "      <td>22.20</td>\n",
              "      <td>False</td>\n",
              "    </tr>\n",
              "    <tr>\n",
              "      <th>4</th>\n",
              "      <td>3667127</td>\n",
              "      <td>(2014 GE35)</td>\n",
              "      <td>0.255009</td>\n",
              "      <td>0.570217</td>\n",
              "      <td>42737.733765</td>\n",
              "      <td>4.627557e+07</td>\n",
              "      <td>Earth</td>\n",
              "      <td>False</td>\n",
              "      <td>20.09</td>\n",
              "      <td>True</td>\n",
              "    </tr>\n",
              "    <tr>\n",
              "      <th>...</th>\n",
              "      <td>...</td>\n",
              "      <td>...</td>\n",
              "      <td>...</td>\n",
              "      <td>...</td>\n",
              "      <td>...</td>\n",
              "      <td>...</td>\n",
              "      <td>...</td>\n",
              "      <td>...</td>\n",
              "      <td>...</td>\n",
              "      <td>...</td>\n",
              "    </tr>\n",
              "    <tr>\n",
              "      <th>90831</th>\n",
              "      <td>3763337</td>\n",
              "      <td>(2016 VX1)</td>\n",
              "      <td>0.026580</td>\n",
              "      <td>0.059435</td>\n",
              "      <td>52078.886692</td>\n",
              "      <td>1.230039e+07</td>\n",
              "      <td>Earth</td>\n",
              "      <td>False</td>\n",
              "      <td>25.00</td>\n",
              "      <td>False</td>\n",
              "    </tr>\n",
              "    <tr>\n",
              "      <th>90832</th>\n",
              "      <td>3837603</td>\n",
              "      <td>(2019 AD3)</td>\n",
              "      <td>0.016771</td>\n",
              "      <td>0.037501</td>\n",
              "      <td>46114.605073</td>\n",
              "      <td>5.432121e+07</td>\n",
              "      <td>Earth</td>\n",
              "      <td>False</td>\n",
              "      <td>26.00</td>\n",
              "      <td>False</td>\n",
              "    </tr>\n",
              "    <tr>\n",
              "      <th>90833</th>\n",
              "      <td>54017201</td>\n",
              "      <td>(2020 JP3)</td>\n",
              "      <td>0.031956</td>\n",
              "      <td>0.071456</td>\n",
              "      <td>7566.807732</td>\n",
              "      <td>2.840077e+07</td>\n",
              "      <td>Earth</td>\n",
              "      <td>False</td>\n",
              "      <td>24.60</td>\n",
              "      <td>False</td>\n",
              "    </tr>\n",
              "    <tr>\n",
              "      <th>90834</th>\n",
              "      <td>54115824</td>\n",
              "      <td>(2021 CN5)</td>\n",
              "      <td>0.007321</td>\n",
              "      <td>0.016370</td>\n",
              "      <td>69199.154484</td>\n",
              "      <td>6.869206e+07</td>\n",
              "      <td>Earth</td>\n",
              "      <td>False</td>\n",
              "      <td>27.80</td>\n",
              "      <td>False</td>\n",
              "    </tr>\n",
              "    <tr>\n",
              "      <th>90835</th>\n",
              "      <td>54205447</td>\n",
              "      <td>(2021 TW7)</td>\n",
              "      <td>0.039862</td>\n",
              "      <td>0.089133</td>\n",
              "      <td>27024.455553</td>\n",
              "      <td>5.977213e+07</td>\n",
              "      <td>Earth</td>\n",
              "      <td>False</td>\n",
              "      <td>24.12</td>\n",
              "      <td>False</td>\n",
              "    </tr>\n",
              "  </tbody>\n",
              "</table>\n",
              "<p>90836 rows × 10 columns</p>\n",
              "</div>\n",
              "      <button class=\"colab-df-convert\" onclick=\"convertToInteractive('df-0ef0aee0-397b-47ca-9310-05872b735d2c')\"\n",
              "              title=\"Convert this dataframe to an interactive table.\"\n",
              "              style=\"display:none;\">\n",
              "        \n",
              "  <svg xmlns=\"http://www.w3.org/2000/svg\" height=\"24px\"viewBox=\"0 0 24 24\"\n",
              "       width=\"24px\">\n",
              "    <path d=\"M0 0h24v24H0V0z\" fill=\"none\"/>\n",
              "    <path d=\"M18.56 5.44l.94 2.06.94-2.06 2.06-.94-2.06-.94-.94-2.06-.94 2.06-2.06.94zm-11 1L8.5 8.5l.94-2.06 2.06-.94-2.06-.94L8.5 2.5l-.94 2.06-2.06.94zm10 10l.94 2.06.94-2.06 2.06-.94-2.06-.94-.94-2.06-.94 2.06-2.06.94z\"/><path d=\"M17.41 7.96l-1.37-1.37c-.4-.4-.92-.59-1.43-.59-.52 0-1.04.2-1.43.59L10.3 9.45l-7.72 7.72c-.78.78-.78 2.05 0 2.83L4 21.41c.39.39.9.59 1.41.59.51 0 1.02-.2 1.41-.59l7.78-7.78 2.81-2.81c.8-.78.8-2.07 0-2.86zM5.41 20L4 18.59l7.72-7.72 1.47 1.35L5.41 20z\"/>\n",
              "  </svg>\n",
              "      </button>\n",
              "      \n",
              "  <style>\n",
              "    .colab-df-container {\n",
              "      display:flex;\n",
              "      flex-wrap:wrap;\n",
              "      gap: 12px;\n",
              "    }\n",
              "\n",
              "    .colab-df-convert {\n",
              "      background-color: #E8F0FE;\n",
              "      border: none;\n",
              "      border-radius: 50%;\n",
              "      cursor: pointer;\n",
              "      display: none;\n",
              "      fill: #1967D2;\n",
              "      height: 32px;\n",
              "      padding: 0 0 0 0;\n",
              "      width: 32px;\n",
              "    }\n",
              "\n",
              "    .colab-df-convert:hover {\n",
              "      background-color: #E2EBFA;\n",
              "      box-shadow: 0px 1px 2px rgba(60, 64, 67, 0.3), 0px 1px 3px 1px rgba(60, 64, 67, 0.15);\n",
              "      fill: #174EA6;\n",
              "    }\n",
              "\n",
              "    [theme=dark] .colab-df-convert {\n",
              "      background-color: #3B4455;\n",
              "      fill: #D2E3FC;\n",
              "    }\n",
              "\n",
              "    [theme=dark] .colab-df-convert:hover {\n",
              "      background-color: #434B5C;\n",
              "      box-shadow: 0px 1px 3px 1px rgba(0, 0, 0, 0.15);\n",
              "      filter: drop-shadow(0px 1px 2px rgba(0, 0, 0, 0.3));\n",
              "      fill: #FFFFFF;\n",
              "    }\n",
              "  </style>\n",
              "\n",
              "      <script>\n",
              "        const buttonEl =\n",
              "          document.querySelector('#df-0ef0aee0-397b-47ca-9310-05872b735d2c button.colab-df-convert');\n",
              "        buttonEl.style.display =\n",
              "          google.colab.kernel.accessAllowed ? 'block' : 'none';\n",
              "\n",
              "        async function convertToInteractive(key) {\n",
              "          const element = document.querySelector('#df-0ef0aee0-397b-47ca-9310-05872b735d2c');\n",
              "          const dataTable =\n",
              "            await google.colab.kernel.invokeFunction('convertToInteractive',\n",
              "                                                     [key], {});\n",
              "          if (!dataTable) return;\n",
              "\n",
              "          const docLinkHtml = 'Like what you see? Visit the ' +\n",
              "            '<a target=\"_blank\" href=https://colab.research.google.com/notebooks/data_table.ipynb>data table notebook</a>'\n",
              "            + ' to learn more about interactive tables.';\n",
              "          element.innerHTML = '';\n",
              "          dataTable['output_type'] = 'display_data';\n",
              "          await google.colab.output.renderOutput(dataTable, element);\n",
              "          const docLink = document.createElement('div');\n",
              "          docLink.innerHTML = docLinkHtml;\n",
              "          element.appendChild(docLink);\n",
              "        }\n",
              "      </script>\n",
              "    </div>\n",
              "  </div>\n",
              "  "
            ]
          },
          "metadata": {},
          "execution_count": 85
        }
      ],
      "source": [
        "df = p.read_csv(\"/neo.csv\")\n",
        "df"
      ]
    },
    {
      "cell_type": "code",
      "execution_count": 86,
      "id": "d071ecb0",
      "metadata": {
        "colab": {
          "base_uri": "https://localhost:8080/"
        },
        "id": "d071ecb0",
        "outputId": "5408c731-7115-4a09-a8a3-0f2421a87b46"
      },
      "outputs": [
        {
          "output_type": "stream",
          "name": "stdout",
          "text": [
            "<class 'pandas.core.frame.DataFrame'>\n",
            "RangeIndex: 90836 entries, 0 to 90835\n",
            "Data columns (total 10 columns):\n",
            " #   Column              Non-Null Count  Dtype  \n",
            "---  ------              --------------  -----  \n",
            " 0   id                  90836 non-null  int64  \n",
            " 1   name                90836 non-null  object \n",
            " 2   est_diameter_min    90836 non-null  float64\n",
            " 3   est_diameter_max    90836 non-null  float64\n",
            " 4   relative_velocity   90836 non-null  float64\n",
            " 5   miss_distance       90836 non-null  float64\n",
            " 6   orbiting_body       90836 non-null  object \n",
            " 7   sentry_object       90836 non-null  bool   \n",
            " 8   absolute_magnitude  90836 non-null  float64\n",
            " 9   hazardous           90836 non-null  bool   \n",
            "dtypes: bool(2), float64(5), int64(1), object(2)\n",
            "memory usage: 5.7+ MB\n"
          ]
        }
      ],
      "source": [
        "df.info()\n"
      ]
    },
    {
      "cell_type": "code",
      "source": [],
      "metadata": {
        "id": "rW3JeSzQHl8v"
      },
      "id": "rW3JeSzQHl8v",
      "execution_count": 86,
      "outputs": []
    },
    {
      "cell_type": "code",
      "execution_count": 87,
      "id": "ba77d514",
      "metadata": {
        "colab": {
          "base_uri": "https://localhost:8080/",
          "height": 300
        },
        "id": "ba77d514",
        "outputId": "4a946603-4fd9-4136-a6be-962b872da359"
      },
      "outputs": [
        {
          "output_type": "execute_result",
          "data": {
            "text/plain": [
              "                 id  est_diameter_min  est_diameter_max  relative_velocity  \\\n",
              "count  9.083600e+04      90836.000000      90836.000000       90836.000000   \n",
              "mean   1.438288e+07          0.127432          0.284947       48066.918918   \n",
              "std    2.087202e+07          0.298511          0.667491       25293.296961   \n",
              "min    2.000433e+06          0.000609          0.001362         203.346433   \n",
              "25%    3.448110e+06          0.019256          0.043057       28619.020645   \n",
              "50%    3.748362e+06          0.048368          0.108153       44190.117890   \n",
              "75%    3.884023e+06          0.143402          0.320656       62923.604633   \n",
              "max    5.427591e+07         37.892650         84.730541      236990.128088   \n",
              "\n",
              "       miss_distance  absolute_magnitude  \n",
              "count   9.083600e+04        90836.000000  \n",
              "mean    3.706655e+07           23.527103  \n",
              "std     2.235204e+07            2.894086  \n",
              "min     6.745533e+03            9.230000  \n",
              "25%     1.721082e+07           21.340000  \n",
              "50%     3.784658e+07           23.700000  \n",
              "75%     5.654900e+07           25.700000  \n",
              "max     7.479865e+07           33.200000  "
            ],
            "text/html": [
              "\n",
              "  <div id=\"df-070b33bd-238c-4fe2-9369-00ce7556afd6\">\n",
              "    <div class=\"colab-df-container\">\n",
              "      <div>\n",
              "<style scoped>\n",
              "    .dataframe tbody tr th:only-of-type {\n",
              "        vertical-align: middle;\n",
              "    }\n",
              "\n",
              "    .dataframe tbody tr th {\n",
              "        vertical-align: top;\n",
              "    }\n",
              "\n",
              "    .dataframe thead th {\n",
              "        text-align: right;\n",
              "    }\n",
              "</style>\n",
              "<table border=\"1\" class=\"dataframe\">\n",
              "  <thead>\n",
              "    <tr style=\"text-align: right;\">\n",
              "      <th></th>\n",
              "      <th>id</th>\n",
              "      <th>est_diameter_min</th>\n",
              "      <th>est_diameter_max</th>\n",
              "      <th>relative_velocity</th>\n",
              "      <th>miss_distance</th>\n",
              "      <th>absolute_magnitude</th>\n",
              "    </tr>\n",
              "  </thead>\n",
              "  <tbody>\n",
              "    <tr>\n",
              "      <th>count</th>\n",
              "      <td>9.083600e+04</td>\n",
              "      <td>90836.000000</td>\n",
              "      <td>90836.000000</td>\n",
              "      <td>90836.000000</td>\n",
              "      <td>9.083600e+04</td>\n",
              "      <td>90836.000000</td>\n",
              "    </tr>\n",
              "    <tr>\n",
              "      <th>mean</th>\n",
              "      <td>1.438288e+07</td>\n",
              "      <td>0.127432</td>\n",
              "      <td>0.284947</td>\n",
              "      <td>48066.918918</td>\n",
              "      <td>3.706655e+07</td>\n",
              "      <td>23.527103</td>\n",
              "    </tr>\n",
              "    <tr>\n",
              "      <th>std</th>\n",
              "      <td>2.087202e+07</td>\n",
              "      <td>0.298511</td>\n",
              "      <td>0.667491</td>\n",
              "      <td>25293.296961</td>\n",
              "      <td>2.235204e+07</td>\n",
              "      <td>2.894086</td>\n",
              "    </tr>\n",
              "    <tr>\n",
              "      <th>min</th>\n",
              "      <td>2.000433e+06</td>\n",
              "      <td>0.000609</td>\n",
              "      <td>0.001362</td>\n",
              "      <td>203.346433</td>\n",
              "      <td>6.745533e+03</td>\n",
              "      <td>9.230000</td>\n",
              "    </tr>\n",
              "    <tr>\n",
              "      <th>25%</th>\n",
              "      <td>3.448110e+06</td>\n",
              "      <td>0.019256</td>\n",
              "      <td>0.043057</td>\n",
              "      <td>28619.020645</td>\n",
              "      <td>1.721082e+07</td>\n",
              "      <td>21.340000</td>\n",
              "    </tr>\n",
              "    <tr>\n",
              "      <th>50%</th>\n",
              "      <td>3.748362e+06</td>\n",
              "      <td>0.048368</td>\n",
              "      <td>0.108153</td>\n",
              "      <td>44190.117890</td>\n",
              "      <td>3.784658e+07</td>\n",
              "      <td>23.700000</td>\n",
              "    </tr>\n",
              "    <tr>\n",
              "      <th>75%</th>\n",
              "      <td>3.884023e+06</td>\n",
              "      <td>0.143402</td>\n",
              "      <td>0.320656</td>\n",
              "      <td>62923.604633</td>\n",
              "      <td>5.654900e+07</td>\n",
              "      <td>25.700000</td>\n",
              "    </tr>\n",
              "    <tr>\n",
              "      <th>max</th>\n",
              "      <td>5.427591e+07</td>\n",
              "      <td>37.892650</td>\n",
              "      <td>84.730541</td>\n",
              "      <td>236990.128088</td>\n",
              "      <td>7.479865e+07</td>\n",
              "      <td>33.200000</td>\n",
              "    </tr>\n",
              "  </tbody>\n",
              "</table>\n",
              "</div>\n",
              "      <button class=\"colab-df-convert\" onclick=\"convertToInteractive('df-070b33bd-238c-4fe2-9369-00ce7556afd6')\"\n",
              "              title=\"Convert this dataframe to an interactive table.\"\n",
              "              style=\"display:none;\">\n",
              "        \n",
              "  <svg xmlns=\"http://www.w3.org/2000/svg\" height=\"24px\"viewBox=\"0 0 24 24\"\n",
              "       width=\"24px\">\n",
              "    <path d=\"M0 0h24v24H0V0z\" fill=\"none\"/>\n",
              "    <path d=\"M18.56 5.44l.94 2.06.94-2.06 2.06-.94-2.06-.94-.94-2.06-.94 2.06-2.06.94zm-11 1L8.5 8.5l.94-2.06 2.06-.94-2.06-.94L8.5 2.5l-.94 2.06-2.06.94zm10 10l.94 2.06.94-2.06 2.06-.94-2.06-.94-.94-2.06-.94 2.06-2.06.94z\"/><path d=\"M17.41 7.96l-1.37-1.37c-.4-.4-.92-.59-1.43-.59-.52 0-1.04.2-1.43.59L10.3 9.45l-7.72 7.72c-.78.78-.78 2.05 0 2.83L4 21.41c.39.39.9.59 1.41.59.51 0 1.02-.2 1.41-.59l7.78-7.78 2.81-2.81c.8-.78.8-2.07 0-2.86zM5.41 20L4 18.59l7.72-7.72 1.47 1.35L5.41 20z\"/>\n",
              "  </svg>\n",
              "      </button>\n",
              "      \n",
              "  <style>\n",
              "    .colab-df-container {\n",
              "      display:flex;\n",
              "      flex-wrap:wrap;\n",
              "      gap: 12px;\n",
              "    }\n",
              "\n",
              "    .colab-df-convert {\n",
              "      background-color: #E8F0FE;\n",
              "      border: none;\n",
              "      border-radius: 50%;\n",
              "      cursor: pointer;\n",
              "      display: none;\n",
              "      fill: #1967D2;\n",
              "      height: 32px;\n",
              "      padding: 0 0 0 0;\n",
              "      width: 32px;\n",
              "    }\n",
              "\n",
              "    .colab-df-convert:hover {\n",
              "      background-color: #E2EBFA;\n",
              "      box-shadow: 0px 1px 2px rgba(60, 64, 67, 0.3), 0px 1px 3px 1px rgba(60, 64, 67, 0.15);\n",
              "      fill: #174EA6;\n",
              "    }\n",
              "\n",
              "    [theme=dark] .colab-df-convert {\n",
              "      background-color: #3B4455;\n",
              "      fill: #D2E3FC;\n",
              "    }\n",
              "\n",
              "    [theme=dark] .colab-df-convert:hover {\n",
              "      background-color: #434B5C;\n",
              "      box-shadow: 0px 1px 3px 1px rgba(0, 0, 0, 0.15);\n",
              "      filter: drop-shadow(0px 1px 2px rgba(0, 0, 0, 0.3));\n",
              "      fill: #FFFFFF;\n",
              "    }\n",
              "  </style>\n",
              "\n",
              "      <script>\n",
              "        const buttonEl =\n",
              "          document.querySelector('#df-070b33bd-238c-4fe2-9369-00ce7556afd6 button.colab-df-convert');\n",
              "        buttonEl.style.display =\n",
              "          google.colab.kernel.accessAllowed ? 'block' : 'none';\n",
              "\n",
              "        async function convertToInteractive(key) {\n",
              "          const element = document.querySelector('#df-070b33bd-238c-4fe2-9369-00ce7556afd6');\n",
              "          const dataTable =\n",
              "            await google.colab.kernel.invokeFunction('convertToInteractive',\n",
              "                                                     [key], {});\n",
              "          if (!dataTable) return;\n",
              "\n",
              "          const docLinkHtml = 'Like what you see? Visit the ' +\n",
              "            '<a target=\"_blank\" href=https://colab.research.google.com/notebooks/data_table.ipynb>data table notebook</a>'\n",
              "            + ' to learn more about interactive tables.';\n",
              "          element.innerHTML = '';\n",
              "          dataTable['output_type'] = 'display_data';\n",
              "          await google.colab.output.renderOutput(dataTable, element);\n",
              "          const docLink = document.createElement('div');\n",
              "          docLink.innerHTML = docLinkHtml;\n",
              "          element.appendChild(docLink);\n",
              "        }\n",
              "      </script>\n",
              "    </div>\n",
              "  </div>\n",
              "  "
            ]
          },
          "metadata": {},
          "execution_count": 87
        }
      ],
      "source": [
        "df.describe()"
      ]
    },
    {
      "cell_type": "code",
      "execution_count": 88,
      "id": "9602f5c7",
      "metadata": {
        "colab": {
          "base_uri": "https://localhost:8080/"
        },
        "id": "9602f5c7",
        "outputId": "b05f61d9-3cd2-4201-bb05-2725c43bca1a"
      },
      "outputs": [
        {
          "output_type": "execute_result",
          "data": {
            "text/plain": [
              "(90836, 10)"
            ]
          },
          "metadata": {},
          "execution_count": 88
        }
      ],
      "source": [
        "df.shape"
      ]
    },
    {
      "cell_type": "code",
      "execution_count": 89,
      "id": "b4ccc2e8",
      "metadata": {
        "colab": {
          "base_uri": "https://localhost:8080/"
        },
        "id": "b4ccc2e8",
        "outputId": "294c6107-b6ee-4d6d-f39d-96ee86270e9a"
      },
      "outputs": [
        {
          "output_type": "execute_result",
          "data": {
            "text/plain": [
              "id                    90836\n",
              "name                  90836\n",
              "est_diameter_min      90836\n",
              "est_diameter_max      90836\n",
              "relative_velocity     90836\n",
              "miss_distance         90836\n",
              "orbiting_body         90836\n",
              "sentry_object         90836\n",
              "absolute_magnitude    90836\n",
              "hazardous             90836\n",
              "dtype: int64"
            ]
          },
          "metadata": {},
          "execution_count": 89
        }
      ],
      "source": [
        "df.count()"
      ]
    },
    {
      "cell_type": "code",
      "execution_count": 90,
      "id": "434889e1",
      "metadata": {
        "colab": {
          "base_uri": "https://localhost:8080/",
          "height": 300
        },
        "id": "434889e1",
        "outputId": "8e558e7d-4032-460f-8333-9e8c32b3f49e"
      },
      "outputs": [
        {
          "output_type": "execute_result",
          "data": {
            "text/plain": [
              "                          id  est_diameter_min  est_diameter_max  \\\n",
              "id                  1.000000         -0.148322         -0.148322   \n",
              "est_diameter_min   -0.148322          1.000000          1.000000   \n",
              "est_diameter_max   -0.148322          1.000000          1.000000   \n",
              "relative_velocity  -0.059176          0.221553          0.221553   \n",
              "miss_distance      -0.056510          0.142241          0.142241   \n",
              "sentry_object            NaN               NaN               NaN   \n",
              "absolute_magnitude  0.277258         -0.560188         -0.560188   \n",
              "hazardous          -0.123443          0.183363          0.183363   \n",
              "\n",
              "                    relative_velocity  miss_distance  sentry_object  \\\n",
              "id                          -0.059176      -0.056510            NaN   \n",
              "est_diameter_min             0.221553       0.142241            NaN   \n",
              "est_diameter_max             0.221553       0.142241            NaN   \n",
              "relative_velocity            1.000000       0.327169            NaN   \n",
              "miss_distance                0.327169       1.000000            NaN   \n",
              "sentry_object                     NaN            NaN            NaN   \n",
              "absolute_magnitude          -0.353863      -0.264168            NaN   \n",
              "hazardous                    0.191185       0.042302            NaN   \n",
              "\n",
              "                    absolute_magnitude  hazardous  \n",
              "id                            0.277258  -0.123443  \n",
              "est_diameter_min             -0.560188   0.183363  \n",
              "est_diameter_max             -0.560188   0.183363  \n",
              "relative_velocity            -0.353863   0.191185  \n",
              "miss_distance                -0.264168   0.042302  \n",
              "sentry_object                      NaN        NaN  \n",
              "absolute_magnitude            1.000000  -0.365267  \n",
              "hazardous                    -0.365267   1.000000  "
            ],
            "text/html": [
              "\n",
              "  <div id=\"df-2086c841-c794-45bd-9f99-8e521c8d0c6a\">\n",
              "    <div class=\"colab-df-container\">\n",
              "      <div>\n",
              "<style scoped>\n",
              "    .dataframe tbody tr th:only-of-type {\n",
              "        vertical-align: middle;\n",
              "    }\n",
              "\n",
              "    .dataframe tbody tr th {\n",
              "        vertical-align: top;\n",
              "    }\n",
              "\n",
              "    .dataframe thead th {\n",
              "        text-align: right;\n",
              "    }\n",
              "</style>\n",
              "<table border=\"1\" class=\"dataframe\">\n",
              "  <thead>\n",
              "    <tr style=\"text-align: right;\">\n",
              "      <th></th>\n",
              "      <th>id</th>\n",
              "      <th>est_diameter_min</th>\n",
              "      <th>est_diameter_max</th>\n",
              "      <th>relative_velocity</th>\n",
              "      <th>miss_distance</th>\n",
              "      <th>sentry_object</th>\n",
              "      <th>absolute_magnitude</th>\n",
              "      <th>hazardous</th>\n",
              "    </tr>\n",
              "  </thead>\n",
              "  <tbody>\n",
              "    <tr>\n",
              "      <th>id</th>\n",
              "      <td>1.000000</td>\n",
              "      <td>-0.148322</td>\n",
              "      <td>-0.148322</td>\n",
              "      <td>-0.059176</td>\n",
              "      <td>-0.056510</td>\n",
              "      <td>NaN</td>\n",
              "      <td>0.277258</td>\n",
              "      <td>-0.123443</td>\n",
              "    </tr>\n",
              "    <tr>\n",
              "      <th>est_diameter_min</th>\n",
              "      <td>-0.148322</td>\n",
              "      <td>1.000000</td>\n",
              "      <td>1.000000</td>\n",
              "      <td>0.221553</td>\n",
              "      <td>0.142241</td>\n",
              "      <td>NaN</td>\n",
              "      <td>-0.560188</td>\n",
              "      <td>0.183363</td>\n",
              "    </tr>\n",
              "    <tr>\n",
              "      <th>est_diameter_max</th>\n",
              "      <td>-0.148322</td>\n",
              "      <td>1.000000</td>\n",
              "      <td>1.000000</td>\n",
              "      <td>0.221553</td>\n",
              "      <td>0.142241</td>\n",
              "      <td>NaN</td>\n",
              "      <td>-0.560188</td>\n",
              "      <td>0.183363</td>\n",
              "    </tr>\n",
              "    <tr>\n",
              "      <th>relative_velocity</th>\n",
              "      <td>-0.059176</td>\n",
              "      <td>0.221553</td>\n",
              "      <td>0.221553</td>\n",
              "      <td>1.000000</td>\n",
              "      <td>0.327169</td>\n",
              "      <td>NaN</td>\n",
              "      <td>-0.353863</td>\n",
              "      <td>0.191185</td>\n",
              "    </tr>\n",
              "    <tr>\n",
              "      <th>miss_distance</th>\n",
              "      <td>-0.056510</td>\n",
              "      <td>0.142241</td>\n",
              "      <td>0.142241</td>\n",
              "      <td>0.327169</td>\n",
              "      <td>1.000000</td>\n",
              "      <td>NaN</td>\n",
              "      <td>-0.264168</td>\n",
              "      <td>0.042302</td>\n",
              "    </tr>\n",
              "    <tr>\n",
              "      <th>sentry_object</th>\n",
              "      <td>NaN</td>\n",
              "      <td>NaN</td>\n",
              "      <td>NaN</td>\n",
              "      <td>NaN</td>\n",
              "      <td>NaN</td>\n",
              "      <td>NaN</td>\n",
              "      <td>NaN</td>\n",
              "      <td>NaN</td>\n",
              "    </tr>\n",
              "    <tr>\n",
              "      <th>absolute_magnitude</th>\n",
              "      <td>0.277258</td>\n",
              "      <td>-0.560188</td>\n",
              "      <td>-0.560188</td>\n",
              "      <td>-0.353863</td>\n",
              "      <td>-0.264168</td>\n",
              "      <td>NaN</td>\n",
              "      <td>1.000000</td>\n",
              "      <td>-0.365267</td>\n",
              "    </tr>\n",
              "    <tr>\n",
              "      <th>hazardous</th>\n",
              "      <td>-0.123443</td>\n",
              "      <td>0.183363</td>\n",
              "      <td>0.183363</td>\n",
              "      <td>0.191185</td>\n",
              "      <td>0.042302</td>\n",
              "      <td>NaN</td>\n",
              "      <td>-0.365267</td>\n",
              "      <td>1.000000</td>\n",
              "    </tr>\n",
              "  </tbody>\n",
              "</table>\n",
              "</div>\n",
              "      <button class=\"colab-df-convert\" onclick=\"convertToInteractive('df-2086c841-c794-45bd-9f99-8e521c8d0c6a')\"\n",
              "              title=\"Convert this dataframe to an interactive table.\"\n",
              "              style=\"display:none;\">\n",
              "        \n",
              "  <svg xmlns=\"http://www.w3.org/2000/svg\" height=\"24px\"viewBox=\"0 0 24 24\"\n",
              "       width=\"24px\">\n",
              "    <path d=\"M0 0h24v24H0V0z\" fill=\"none\"/>\n",
              "    <path d=\"M18.56 5.44l.94 2.06.94-2.06 2.06-.94-2.06-.94-.94-2.06-.94 2.06-2.06.94zm-11 1L8.5 8.5l.94-2.06 2.06-.94-2.06-.94L8.5 2.5l-.94 2.06-2.06.94zm10 10l.94 2.06.94-2.06 2.06-.94-2.06-.94-.94-2.06-.94 2.06-2.06.94z\"/><path d=\"M17.41 7.96l-1.37-1.37c-.4-.4-.92-.59-1.43-.59-.52 0-1.04.2-1.43.59L10.3 9.45l-7.72 7.72c-.78.78-.78 2.05 0 2.83L4 21.41c.39.39.9.59 1.41.59.51 0 1.02-.2 1.41-.59l7.78-7.78 2.81-2.81c.8-.78.8-2.07 0-2.86zM5.41 20L4 18.59l7.72-7.72 1.47 1.35L5.41 20z\"/>\n",
              "  </svg>\n",
              "      </button>\n",
              "      \n",
              "  <style>\n",
              "    .colab-df-container {\n",
              "      display:flex;\n",
              "      flex-wrap:wrap;\n",
              "      gap: 12px;\n",
              "    }\n",
              "\n",
              "    .colab-df-convert {\n",
              "      background-color: #E8F0FE;\n",
              "      border: none;\n",
              "      border-radius: 50%;\n",
              "      cursor: pointer;\n",
              "      display: none;\n",
              "      fill: #1967D2;\n",
              "      height: 32px;\n",
              "      padding: 0 0 0 0;\n",
              "      width: 32px;\n",
              "    }\n",
              "\n",
              "    .colab-df-convert:hover {\n",
              "      background-color: #E2EBFA;\n",
              "      box-shadow: 0px 1px 2px rgba(60, 64, 67, 0.3), 0px 1px 3px 1px rgba(60, 64, 67, 0.15);\n",
              "      fill: #174EA6;\n",
              "    }\n",
              "\n",
              "    [theme=dark] .colab-df-convert {\n",
              "      background-color: #3B4455;\n",
              "      fill: #D2E3FC;\n",
              "    }\n",
              "\n",
              "    [theme=dark] .colab-df-convert:hover {\n",
              "      background-color: #434B5C;\n",
              "      box-shadow: 0px 1px 3px 1px rgba(0, 0, 0, 0.15);\n",
              "      filter: drop-shadow(0px 1px 2px rgba(0, 0, 0, 0.3));\n",
              "      fill: #FFFFFF;\n",
              "    }\n",
              "  </style>\n",
              "\n",
              "      <script>\n",
              "        const buttonEl =\n",
              "          document.querySelector('#df-2086c841-c794-45bd-9f99-8e521c8d0c6a button.colab-df-convert');\n",
              "        buttonEl.style.display =\n",
              "          google.colab.kernel.accessAllowed ? 'block' : 'none';\n",
              "\n",
              "        async function convertToInteractive(key) {\n",
              "          const element = document.querySelector('#df-2086c841-c794-45bd-9f99-8e521c8d0c6a');\n",
              "          const dataTable =\n",
              "            await google.colab.kernel.invokeFunction('convertToInteractive',\n",
              "                                                     [key], {});\n",
              "          if (!dataTable) return;\n",
              "\n",
              "          const docLinkHtml = 'Like what you see? Visit the ' +\n",
              "            '<a target=\"_blank\" href=https://colab.research.google.com/notebooks/data_table.ipynb>data table notebook</a>'\n",
              "            + ' to learn more about interactive tables.';\n",
              "          element.innerHTML = '';\n",
              "          dataTable['output_type'] = 'display_data';\n",
              "          await google.colab.output.renderOutput(dataTable, element);\n",
              "          const docLink = document.createElement('div');\n",
              "          docLink.innerHTML = docLinkHtml;\n",
              "          element.appendChild(docLink);\n",
              "        }\n",
              "      </script>\n",
              "    </div>\n",
              "  </div>\n",
              "  "
            ]
          },
          "metadata": {},
          "execution_count": 90
        }
      ],
      "source": [
        "df.corr()"
      ]
    },
    {
      "cell_type": "markdown",
      "source": [
        "# dropping columns which have very less correlation with the target variable"
      ],
      "metadata": {
        "id": "7qEZ0VE8EY12"
      },
      "id": "7qEZ0VE8EY12"
    },
    {
      "cell_type": "code",
      "execution_count": 91,
      "id": "0a9c0873",
      "metadata": {
        "id": "0a9c0873"
      },
      "outputs": [],
      "source": [
        "df.drop('name', inplace=True, axis=1) # Name attribute does not affect the training of the model\n",
        "df.drop('sentry_object', inplace=True, axis=1) # As it have all values NaN we can remove the column entirely\n",
        "df.drop('orbiting_body', inplace=True, axis=1)# In this attribute the values are same for all rows so we can drop it as it will not contribute in training"
      ]
    },
    {
      "cell_type": "code",
      "execution_count": 92,
      "id": "916928ca",
      "metadata": {
        "colab": {
          "base_uri": "https://localhost:8080/"
        },
        "id": "916928ca",
        "outputId": "610109c3-8afa-4f5e-a73c-f7acb245e87e"
      },
      "outputs": [
        {
          "output_type": "execute_result",
          "data": {
            "text/plain": [
              "id                      int64\n",
              "est_diameter_min      float64\n",
              "est_diameter_max      float64\n",
              "relative_velocity     float64\n",
              "miss_distance         float64\n",
              "absolute_magnitude    float64\n",
              "hazardous                bool\n",
              "dtype: object"
            ]
          },
          "metadata": {},
          "execution_count": 92
        }
      ],
      "source": [
        "df.dtypes"
      ]
    },
    {
      "cell_type": "markdown",
      "source": [
        "# Plotting correlation heatmap"
      ],
      "metadata": {
        "id": "ACaYUw53Tdvh"
      },
      "id": "ACaYUw53Tdvh"
    },
    {
      "cell_type": "code",
      "execution_count": 93,
      "id": "978f0d33",
      "metadata": {
        "colab": {
          "base_uri": "https://localhost:8080/",
          "height": 704
        },
        "id": "978f0d33",
        "outputId": "8501389f-5f57-49ef-b4a4-7715812ba28f"
      },
      "outputs": [
        {
          "output_type": "execute_result",
          "data": {
            "text/plain": [
              "<matplotlib.axes._subplots.AxesSubplot at 0x7f0cdec5c610>"
            ]
          },
          "metadata": {},
          "execution_count": 93
        },
        {
          "output_type": "display_data",
          "data": {
            "text/plain": [
              "<Figure size 720x720 with 2 Axes>"
            ],
            "image/png": "[encoded data removed]"
          },
          "metadata": {
            "needs_background": "light"
          }
        }
      ],
      "source": [
        "m.figure(figsize=(10,10))\n",
        "s.heatmap(df.corr(), annot = True , cmap= \"magma\")"
      ]
    },
    {
      "cell_type": "markdown",
      "source": [
        "# ANALYSATION\n",
        "* Here as we can see every attribute is poorely correlated to the target variable , but miss_distance is very weakly related to all of them "
      ],
      "metadata": {
        "id": "ANqlMouLUXLV"
      },
      "id": "ANqlMouLUXLV"
    },
    {
      "cell_type": "code",
      "execution_count": 94,
      "id": "64e75769",
      "metadata": {
        "colab": {
          "base_uri": "https://localhost:8080/"
        },
        "id": "64e75769",
        "outputId": "fc640522-6b67-4ee7-d043-2d6ff1666629"
      },
      "outputs": [
        {
          "output_type": "execute_result",
          "data": {
            "text/plain": [
              "id                    0\n",
              "est_diameter_min      0\n",
              "est_diameter_max      0\n",
              "relative_velocity     0\n",
              "miss_distance         0\n",
              "absolute_magnitude    0\n",
              "hazardous             0\n",
              "dtype: int64"
            ]
          },
          "metadata": {},
          "execution_count": 94
        }
      ],
      "source": [
        "df.isnull().sum() # checking null values"
      ]
    },
    {
      "cell_type": "code",
      "source": [
        "print(df['hazardous'].value_counts())\n",
        "print(df.dtypes)"
      ],
      "metadata": {
        "colab": {
          "base_uri": "https://localhost:8080/"
        },
        "id": "JxjX4gY0IuNs",
        "outputId": "54049c7c-d9fa-413a-fd87-f6cdd3cb3ad7"
      },
      "id": "JxjX4gY0IuNs",
      "execution_count": 95,
      "outputs": [
        {
          "output_type": "stream",
          "name": "stdout",
          "text": [
            "False    81996\n",
            "True      8840\n",
            "Name: hazardous, dtype: int64\n",
            "id                      int64\n",
            "est_diameter_min      float64\n",
            "est_diameter_max      float64\n",
            "relative_velocity     float64\n",
            "miss_distance         float64\n",
            "absolute_magnitude    float64\n",
            "hazardous                bool\n",
            "dtype: object\n"
          ]
        }
      ]
    },
    {
      "cell_type": "markdown",
      "id": "a807445b",
      "metadata": {
        "id": "a807445b"
      },
      "source": [
        "# Dividing columns\n"
      ]
    },
    {
      "cell_type": "code",
      "execution_count": 96,
      "id": "765fd60e",
      "metadata": {
        "colab": {
          "base_uri": "https://localhost:8080/",
          "height": 206
        },
        "id": "765fd60e",
        "outputId": "512f987f-fa1a-4c35-86c3-97f32b87d2b2"
      },
      "outputs": [
        {
          "output_type": "execute_result",
          "data": {
            "text/plain": [
              "   False  True\n",
              "0      1     0\n",
              "1      0     1\n",
              "2      1     0\n",
              "3      1     0\n",
              "4      0     1"
            ],
            "text/html": [
              "\n",
              "  <div id=\"df-e4296ff9-248a-47ed-87cb-a04d83fe32c8\">\n",
              "    <div class=\"colab-df-container\">\n",
              "      <div>\n",
              "<style scoped>\n",
              "    .dataframe tbody tr th:only-of-type {\n",
              "        vertical-align: middle;\n",
              "    }\n",
              "\n",
              "    .dataframe tbody tr th {\n",
              "        vertical-align: top;\n",
              "    }\n",
              "\n",
              "    .dataframe thead th {\n",
              "        text-align: right;\n",
              "    }\n",
              "</style>\n",
              "<table border=\"1\" class=\"dataframe\">\n",
              "  <thead>\n",
              "    <tr style=\"text-align: right;\">\n",
              "      <th></th>\n",
              "      <th>False</th>\n",
              "      <th>True</th>\n",
              "    </tr>\n",
              "  </thead>\n",
              "  <tbody>\n",
              "    <tr>\n",
              "      <th>0</th>\n",
              "      <td>1</td>\n",
              "      <td>0</td>\n",
              "    </tr>\n",
              "    <tr>\n",
              "      <th>1</th>\n",
              "      <td>0</td>\n",
              "      <td>1</td>\n",
              "    </tr>\n",
              "    <tr>\n",
              "      <th>2</th>\n",
              "      <td>1</td>\n",
              "      <td>0</td>\n",
              "    </tr>\n",
              "    <tr>\n",
              "      <th>3</th>\n",
              "      <td>1</td>\n",
              "      <td>0</td>\n",
              "    </tr>\n",
              "    <tr>\n",
              "      <th>4</th>\n",
              "      <td>0</td>\n",
              "      <td>1</td>\n",
              "    </tr>\n",
              "  </tbody>\n",
              "</table>\n",
              "</div>\n",
              "      <button class=\"colab-df-convert\" onclick=\"convertToInteractive('df-e4296ff9-248a-47ed-87cb-a04d83fe32c8')\"\n",
              "              title=\"Convert this dataframe to an interactive table.\"\n",
              "              style=\"display:none;\">\n",
              "        \n",
              "  <svg xmlns=\"http://www.w3.org/2000/svg\" height=\"24px\"viewBox=\"0 0 24 24\"\n",
              "       width=\"24px\">\n",
              "    <path d=\"M0 0h24v24H0V0z\" fill=\"none\"/>\n",
              "    <path d=\"M18.56 5.44l.94 2.06.94-2.06 2.06-.94-2.06-.94-.94-2.06-.94 2.06-2.06.94zm-11 1L8.5 8.5l.94-2.06 2.06-.94-2.06-.94L8.5 2.5l-.94 2.06-2.06.94zm10 10l.94 2.06.94-2.06 2.06-.94-2.06-.94-.94-2.06-.94 2.06-2.06.94z\"/><path d=\"M17.41 7.96l-1.37-1.37c-.4-.4-.92-.59-1.43-.59-.52 0-1.04.2-1.43.59L10.3 9.45l-7.72 7.72c-.78.78-.78 2.05 0 2.83L4 21.41c.39.39.9.59 1.41.59.51 0 1.02-.2 1.41-.59l7.78-7.78 2.81-2.81c.8-.78.8-2.07 0-2.86zM5.41 20L4 18.59l7.72-7.72 1.47 1.35L5.41 20z\"/>\n",
              "  </svg>\n",
              "      </button>\n",
              "      \n",
              "  <style>\n",
              "    .colab-df-container {\n",
              "      display:flex;\n",
              "      flex-wrap:wrap;\n",
              "      gap: 12px;\n",
              "    }\n",
              "\n",
              "    .colab-df-convert {\n",
              "      background-color: #E8F0FE;\n",
              "      border: none;\n",
              "      border-radius: 50%;\n",
              "      cursor: pointer;\n",
              "      display: none;\n",
              "      fill: #1967D2;\n",
              "      height: 32px;\n",
              "      padding: 0 0 0 0;\n",
              "      width: 32px;\n",
              "    }\n",
              "\n",
              "    .colab-df-convert:hover {\n",
              "      background-color: #E2EBFA;\n",
              "      box-shadow: 0px 1px 2px rgba(60, 64, 67, 0.3), 0px 1px 3px 1px rgba(60, 64, 67, 0.15);\n",
              "      fill: #174EA6;\n",
              "    }\n",
              "\n",
              "    [theme=dark] .colab-df-convert {\n",
              "      background-color: #3B4455;\n",
              "      fill: #D2E3FC;\n",
              "    }\n",
              "\n",
              "    [theme=dark] .colab-df-convert:hover {\n",
              "      background-color: #434B5C;\n",
              "      box-shadow: 0px 1px 3px 1px rgba(0, 0, 0, 0.15);\n",
              "      filter: drop-shadow(0px 1px 2px rgba(0, 0, 0, 0.3));\n",
              "      fill: #FFFFFF;\n",
              "    }\n",
              "  </style>\n",
              "\n",
              "      <script>\n",
              "        const buttonEl =\n",
              "          document.querySelector('#df-e4296ff9-248a-47ed-87cb-a04d83fe32c8 button.colab-df-convert');\n",
              "        buttonEl.style.display =\n",
              "          google.colab.kernel.accessAllowed ? 'block' : 'none';\n",
              "\n",
              "        async function convertToInteractive(key) {\n",
              "          const element = document.querySelector('#df-e4296ff9-248a-47ed-87cb-a04d83fe32c8');\n",
              "          const dataTable =\n",
              "            await google.colab.kernel.invokeFunction('convertToInteractive',\n",
              "                                                     [key], {});\n",
              "          if (!dataTable) return;\n",
              "\n",
              "          const docLinkHtml = 'Like what you see? Visit the ' +\n",
              "            '<a target=\"_blank\" href=https://colab.research.google.com/notebooks/data_table.ipynb>data table notebook</a>'\n",
              "            + ' to learn more about interactive tables.';\n",
              "          element.innerHTML = '';\n",
              "          dataTable['output_type'] = 'display_data';\n",
              "          await google.colab.output.renderOutput(dataTable, element);\n",
              "          const docLink = document.createElement('div');\n",
              "          docLink.innerHTML = docLinkHtml;\n",
              "          element.appendChild(docLink);\n",
              "        }\n",
              "      </script>\n",
              "    </div>\n",
              "  </div>\n",
              "  "
            ]
          },
          "metadata": {},
          "execution_count": 96
        }
      ],
      "source": [
        "hazardous = p.get_dummies(df[\"hazardous\"])\n",
        "hazardous.head()"
      ]
    },
    {
      "cell_type": "code",
      "execution_count": 97,
      "id": "37757848",
      "metadata": {
        "colab": {
          "base_uri": "https://localhost:8080/",
          "height": 351
        },
        "id": "37757848",
        "outputId": "bce71bcf-7dc9-43c3-e985-ae5a59ccecba"
      },
      "outputs": [
        {
          "output_type": "stream",
          "name": "stderr",
          "text": [
            "/usr/local/lib/python3.7/dist-packages/seaborn/distributions.py:2619: FutureWarning: `distplot` is a deprecated function and will be removed in a future version. Please adapt your code to use either `displot` (a figure-level function with similar flexibility) or `histplot` (an axes-level function for histograms).\n",
            "  warnings.warn(msg, FutureWarning)\n"
          ]
        },
        {
          "output_type": "execute_result",
          "data": {
            "text/plain": [
              "<matplotlib.axes._subplots.AxesSubplot at 0x7f0cddb8af50>"
            ]
          },
          "metadata": {},
          "execution_count": 97
        },
        {
          "output_type": "display_data",
          "data": {
            "text/plain": [
              "<Figure size 432x288 with 1 Axes>"
            ],
            "image/png": "[encoded data removed]"
          },
          "metadata": {
            "needs_background": "light"
          }
        }
      ],
      "source": [
        "s.distplot(df[\"hazardous\"])"
      ]
    },
    {
      "cell_type": "markdown",
      "source": [
        "# Concatenating the new columns\n"
      ],
      "metadata": {
        "id": "cm9dx01jT_lF"
      },
      "id": "cm9dx01jT_lF"
    },
    {
      "cell_type": "code",
      "execution_count": 98,
      "id": "406110fe",
      "metadata": {
        "colab": {
          "base_uri": "https://localhost:8080/",
          "height": 206
        },
        "id": "406110fe",
        "outputId": "81867b23-8487-44b5-b4d0-e638e71af4a0"
      },
      "outputs": [
        {
          "output_type": "execute_result",
          "data": {
            "text/plain": [
              "        id  est_diameter_min  est_diameter_max  relative_velocity  \\\n",
              "0  2162635          1.198271          2.679415       13569.249224   \n",
              "1  2277475          0.265800          0.594347       73588.726663   \n",
              "2  2512244          0.722030          1.614507      114258.692129   \n",
              "3  3596030          0.096506          0.215794       24764.303138   \n",
              "4  3667127          0.255009          0.570217       42737.733765   \n",
              "\n",
              "   miss_distance  absolute_magnitude  hazardous  False  True  \n",
              "0   5.483974e+07               16.73      False      1     0  \n",
              "1   6.143813e+07               20.00       True      0     1  \n",
              "2   4.979872e+07               17.83      False      1     0  \n",
              "3   2.543497e+07               22.20      False      1     0  \n",
              "4   4.627557e+07               20.09       True      0     1  "
            ],
            "text/html": [
              "\n",
              "  <div id=\"df-ad9c9732-14c5-478d-b5d9-d4260f5a56cb\">\n",
              "    <div class=\"colab-df-container\">\n",
              "      <div>\n",
              "<style scoped>\n",
              "    .dataframe tbody tr th:only-of-type {\n",
              "        vertical-align: middle;\n",
              "    }\n",
              "\n",
              "    .dataframe tbody tr th {\n",
              "        vertical-align: top;\n",
              "    }\n",
              "\n",
              "    .dataframe thead th {\n",
              "        text-align: right;\n",
              "    }\n",
              "</style>\n",
              "<table border=\"1\" class=\"dataframe\">\n",
              "  <thead>\n",
              "    <tr style=\"text-align: right;\">\n",
              "      <th></th>\n",
              "      <th>id</th>\n",
              "      <th>est_diameter_min</th>\n",
              "      <th>est_diameter_max</th>\n",
              "      <th>relative_velocity</th>\n",
              "      <th>miss_distance</th>\n",
              "      <th>absolute_magnitude</th>\n",
              "      <th>hazardous</th>\n",
              "      <th>False</th>\n",
              "      <th>True</th>\n",
              "    </tr>\n",
              "  </thead>\n",
              "  <tbody>\n",
              "    <tr>\n",
              "      <th>0</th>\n",
              "      <td>2162635</td>\n",
              "      <td>1.198271</td>\n",
              "      <td>2.679415</td>\n",
              "      <td>13569.249224</td>\n",
              "      <td>5.483974e+07</td>\n",
              "      <td>16.73</td>\n",
              "      <td>False</td>\n",
              "      <td>1</td>\n",
              "      <td>0</td>\n",
              "    </tr>\n",
              "    <tr>\n",
              "      <th>1</th>\n",
              "      <td>2277475</td>\n",
              "      <td>0.265800</td>\n",
              "      <td>0.594347</td>\n",
              "      <td>73588.726663</td>\n",
              "      <td>6.143813e+07</td>\n",
              "      <td>20.00</td>\n",
              "      <td>True</td>\n",
              "      <td>0</td>\n",
              "      <td>1</td>\n",
              "    </tr>\n",
              "    <tr>\n",
              "      <th>2</th>\n",
              "      <td>2512244</td>\n",
              "      <td>0.722030</td>\n",
              "      <td>1.614507</td>\n",
              "      <td>114258.692129</td>\n",
              "      <td>4.979872e+07</td>\n",
              "      <td>17.83</td>\n",
              "      <td>False</td>\n",
              "      <td>1</td>\n",
              "      <td>0</td>\n",
              "    </tr>\n",
              "    <tr>\n",
              "      <th>3</th>\n",
              "      <td>3596030</td>\n",
              "      <td>0.096506</td>\n",
              "      <td>0.215794</td>\n",
              "      <td>24764.303138</td>\n",
              "      <td>2.543497e+07</td>\n",
              "      <td>22.20</td>\n",
              "      <td>False</td>\n",
              "      <td>1</td>\n",
              "      <td>0</td>\n",
              "    </tr>\n",
              "    <tr>\n",
              "      <th>4</th>\n",
              "      <td>3667127</td>\n",
              "      <td>0.255009</td>\n",
              "      <td>0.570217</td>\n",
              "      <td>42737.733765</td>\n",
              "      <td>4.627557e+07</td>\n",
              "      <td>20.09</td>\n",
              "      <td>True</td>\n",
              "      <td>0</td>\n",
              "      <td>1</td>\n",
              "    </tr>\n",
              "  </tbody>\n",
              "</table>\n",
              "</div>\n",
              "      <button class=\"colab-df-convert\" onclick=\"convertToInteractive('df-ad9c9732-14c5-478d-b5d9-d4260f5a56cb')\"\n",
              "              title=\"Convert this dataframe to an interactive table.\"\n",
              "              style=\"display:none;\">\n",
              "        \n",
              "  <svg xmlns=\"http://www.w3.org/2000/svg\" height=\"24px\"viewBox=\"0 0 24 24\"\n",
              "       width=\"24px\">\n",
              "    <path d=\"M0 0h24v24H0V0z\" fill=\"none\"/>\n",
              "    <path d=\"M18.56 5.44l.94 2.06.94-2.06 2.06-.94-2.06-.94-.94-2.06-.94 2.06-2.06.94zm-11 1L8.5 8.5l.94-2.06 2.06-.94-2.06-.94L8.5 2.5l-.94 2.06-2.06.94zm10 10l.94 2.06.94-2.06 2.06-.94-2.06-.94-.94-2.06-.94 2.06-2.06.94z\"/><path d=\"M17.41 7.96l-1.37-1.37c-.4-.4-.92-.59-1.43-.59-.52 0-1.04.2-1.43.59L10.3 9.45l-7.72 7.72c-.78.78-.78 2.05 0 2.83L4 21.41c.39.39.9.59 1.41.59.51 0 1.02-.2 1.41-.59l7.78-7.78 2.81-2.81c.8-.78.8-2.07 0-2.86zM5.41 20L4 18.59l7.72-7.72 1.47 1.35L5.41 20z\"/>\n",
              "  </svg>\n",
              "      </button>\n",
              "      \n",
              "  <style>\n",
              "    .colab-df-container {\n",
              "      display:flex;\n",
              "      flex-wrap:wrap;\n",
              "      gap: 12px;\n",
              "    }\n",
              "\n",
              "    .colab-df-convert {\n",
              "      background-color: #E8F0FE;\n",
              "      border: none;\n",
              "      border-radius: 50%;\n",
              "      cursor: pointer;\n",
              "      display: none;\n",
              "      fill: #1967D2;\n",
              "      height: 32px;\n",
              "      padding: 0 0 0 0;\n",
              "      width: 32px;\n",
              "    }\n",
              "\n",
              "    .colab-df-convert:hover {\n",
              "      background-color: #E2EBFA;\n",
              "      box-shadow: 0px 1px 2px rgba(60, 64, 67, 0.3), 0px 1px 3px 1px rgba(60, 64, 67, 0.15);\n",
              "      fill: #174EA6;\n",
              "    }\n",
              "\n",
              "    [theme=dark] .colab-df-convert {\n",
              "      background-color: #3B4455;\n",
              "      fill: #D2E3FC;\n",
              "    }\n",
              "\n",
              "    [theme=dark] .colab-df-convert:hover {\n",
              "      background-color: #434B5C;\n",
              "      box-shadow: 0px 1px 3px 1px rgba(0, 0, 0, 0.15);\n",
              "      filter: drop-shadow(0px 1px 2px rgba(0, 0, 0, 0.3));\n",
              "      fill: #FFFFFF;\n",
              "    }\n",
              "  </style>\n",
              "\n",
              "      <script>\n",
              "        const buttonEl =\n",
              "          document.querySelector('#df-ad9c9732-14c5-478d-b5d9-d4260f5a56cb button.colab-df-convert');\n",
              "        buttonEl.style.display =\n",
              "          google.colab.kernel.accessAllowed ? 'block' : 'none';\n",
              "\n",
              "        async function convertToInteractive(key) {\n",
              "          const element = document.querySelector('#df-ad9c9732-14c5-478d-b5d9-d4260f5a56cb');\n",
              "          const dataTable =\n",
              "            await google.colab.kernel.invokeFunction('convertToInteractive',\n",
              "                                                     [key], {});\n",
              "          if (!dataTable) return;\n",
              "\n",
              "          const docLinkHtml = 'Like what you see? Visit the ' +\n",
              "            '<a target=\"_blank\" href=https://colab.research.google.com/notebooks/data_table.ipynb>data table notebook</a>'\n",
              "            + ' to learn more about interactive tables.';\n",
              "          element.innerHTML = '';\n",
              "          dataTable['output_type'] = 'display_data';\n",
              "          await google.colab.output.renderOutput(dataTable, element);\n",
              "          const docLink = document.createElement('div');\n",
              "          docLink.innerHTML = docLinkHtml;\n",
              "          element.appendChild(docLink);\n",
              "        }\n",
              "      </script>\n",
              "    </div>\n",
              "  </div>\n",
              "  "
            ]
          },
          "metadata": {},
          "execution_count": 98
        }
      ],
      "source": [
        "df = p.concat([df , hazardous], axis = 1)\n",
        "df.head()"
      ]
    },
    {
      "cell_type": "code",
      "execution_count": 99,
      "id": "a7f96821",
      "metadata": {
        "colab": {
          "base_uri": "https://localhost:8080/",
          "height": 206
        },
        "id": "a7f96821",
        "outputId": "7244689f-c4a4-4214-8c35-f2190a4a5d61"
      },
      "outputs": [
        {
          "output_type": "execute_result",
          "data": {
            "text/plain": [
              "        id  est_diameter_min  est_diameter_max  relative_velocity  \\\n",
              "0  2162635          1.198271          2.679415       13569.249224   \n",
              "1  2277475          0.265800          0.594347       73588.726663   \n",
              "2  2512244          0.722030          1.614507      114258.692129   \n",
              "3  3596030          0.096506          0.215794       24764.303138   \n",
              "4  3667127          0.255009          0.570217       42737.733765   \n",
              "\n",
              "   miss_distance  absolute_magnitude  hazardous  True  \n",
              "0   5.483974e+07               16.73      False     0  \n",
              "1   6.143813e+07               20.00       True     1  \n",
              "2   4.979872e+07               17.83      False     0  \n",
              "3   2.543497e+07               22.20      False     0  \n",
              "4   4.627557e+07               20.09       True     1  "
            ],
            "text/html": [
              "\n",
              "  <div id=\"df-7761585e-d762-40a7-8860-68d68f32032f\">\n",
              "    <div class=\"colab-df-container\">\n",
              "      <div>\n",
              "<style scoped>\n",
              "    .dataframe tbody tr th:only-of-type {\n",
              "        vertical-align: middle;\n",
              "    }\n",
              "\n",
              "    .dataframe tbody tr th {\n",
              "        vertical-align: top;\n",
              "    }\n",
              "\n",
              "    .dataframe thead th {\n",
              "        text-align: right;\n",
              "    }\n",
              "</style>\n",
              "<table border=\"1\" class=\"dataframe\">\n",
              "  <thead>\n",
              "    <tr style=\"text-align: right;\">\n",
              "      <th></th>\n",
              "      <th>id</th>\n",
              "      <th>est_diameter_min</th>\n",
              "      <th>est_diameter_max</th>\n",
              "      <th>relative_velocity</th>\n",
              "      <th>miss_distance</th>\n",
              "      <th>absolute_magnitude</th>\n",
              "      <th>hazardous</th>\n",
              "      <th>True</th>\n",
              "    </tr>\n",
              "  </thead>\n",
              "  <tbody>\n",
              "    <tr>\n",
              "      <th>0</th>\n",
              "      <td>2162635</td>\n",
              "      <td>1.198271</td>\n",
              "      <td>2.679415</td>\n",
              "      <td>13569.249224</td>\n",
              "      <td>5.483974e+07</td>\n",
              "      <td>16.73</td>\n",
              "      <td>False</td>\n",
              "      <td>0</td>\n",
              "    </tr>\n",
              "    <tr>\n",
              "      <th>1</th>\n",
              "      <td>2277475</td>\n",
              "      <td>0.265800</td>\n",
              "      <td>0.594347</td>\n",
              "      <td>73588.726663</td>\n",
              "      <td>6.143813e+07</td>\n",
              "      <td>20.00</td>\n",
              "      <td>True</td>\n",
              "      <td>1</td>\n",
              "    </tr>\n",
              "    <tr>\n",
              "      <th>2</th>\n",
              "      <td>2512244</td>\n",
              "      <td>0.722030</td>\n",
              "      <td>1.614507</td>\n",
              "      <td>114258.692129</td>\n",
              "      <td>4.979872e+07</td>\n",
              "      <td>17.83</td>\n",
              "      <td>False</td>\n",
              "      <td>0</td>\n",
              "    </tr>\n",
              "    <tr>\n",
              "      <th>3</th>\n",
              "      <td>3596030</td>\n",
              "      <td>0.096506</td>\n",
              "      <td>0.215794</td>\n",
              "      <td>24764.303138</td>\n",
              "      <td>2.543497e+07</td>\n",
              "      <td>22.20</td>\n",
              "      <td>False</td>\n",
              "      <td>0</td>\n",
              "    </tr>\n",
              "    <tr>\n",
              "      <th>4</th>\n",
              "      <td>3667127</td>\n",
              "      <td>0.255009</td>\n",
              "      <td>0.570217</td>\n",
              "      <td>42737.733765</td>\n",
              "      <td>4.627557e+07</td>\n",
              "      <td>20.09</td>\n",
              "      <td>True</td>\n",
              "      <td>1</td>\n",
              "    </tr>\n",
              "  </tbody>\n",
              "</table>\n",
              "</div>\n",
              "      <button class=\"colab-df-convert\" onclick=\"convertToInteractive('df-7761585e-d762-40a7-8860-68d68f32032f')\"\n",
              "              title=\"Convert this dataframe to an interactive table.\"\n",
              "              style=\"display:none;\">\n",
              "        \n",
              "  <svg xmlns=\"http://www.w3.org/2000/svg\" height=\"24px\"viewBox=\"0 0 24 24\"\n",
              "       width=\"24px\">\n",
              "    <path d=\"M0 0h24v24H0V0z\" fill=\"none\"/>\n",
              "    <path d=\"M18.56 5.44l.94 2.06.94-2.06 2.06-.94-2.06-.94-.94-2.06-.94 2.06-2.06.94zm-11 1L8.5 8.5l.94-2.06 2.06-.94-2.06-.94L8.5 2.5l-.94 2.06-2.06.94zm10 10l.94 2.06.94-2.06 2.06-.94-2.06-.94-.94-2.06-.94 2.06-2.06.94z\"/><path d=\"M17.41 7.96l-1.37-1.37c-.4-.4-.92-.59-1.43-.59-.52 0-1.04.2-1.43.59L10.3 9.45l-7.72 7.72c-.78.78-.78 2.05 0 2.83L4 21.41c.39.39.9.59 1.41.59.51 0 1.02-.2 1.41-.59l7.78-7.78 2.81-2.81c.8-.78.8-2.07 0-2.86zM5.41 20L4 18.59l7.72-7.72 1.47 1.35L5.41 20z\"/>\n",
              "  </svg>\n",
              "      </button>\n",
              "      \n",
              "  <style>\n",
              "    .colab-df-container {\n",
              "      display:flex;\n",
              "      flex-wrap:wrap;\n",
              "      gap: 12px;\n",
              "    }\n",
              "\n",
              "    .colab-df-convert {\n",
              "      background-color: #E8F0FE;\n",
              "      border: none;\n",
              "      border-radius: 50%;\n",
              "      cursor: pointer;\n",
              "      display: none;\n",
              "      fill: #1967D2;\n",
              "      height: 32px;\n",
              "      padding: 0 0 0 0;\n",
              "      width: 32px;\n",
              "    }\n",
              "\n",
              "    .colab-df-convert:hover {\n",
              "      background-color: #E2EBFA;\n",
              "      box-shadow: 0px 1px 2px rgba(60, 64, 67, 0.3), 0px 1px 3px 1px rgba(60, 64, 67, 0.15);\n",
              "      fill: #174EA6;\n",
              "    }\n",
              "\n",
              "    [theme=dark] .colab-df-convert {\n",
              "      background-color: #3B4455;\n",
              "      fill: #D2E3FC;\n",
              "    }\n",
              "\n",
              "    [theme=dark] .colab-df-convert:hover {\n",
              "      background-color: #434B5C;\n",
              "      box-shadow: 0px 1px 3px 1px rgba(0, 0, 0, 0.15);\n",
              "      filter: drop-shadow(0px 1px 2px rgba(0, 0, 0, 0.3));\n",
              "      fill: #FFFFFF;\n",
              "    }\n",
              "  </style>\n",
              "\n",
              "      <script>\n",
              "        const buttonEl =\n",
              "          document.querySelector('#df-7761585e-d762-40a7-8860-68d68f32032f button.colab-df-convert');\n",
              "        buttonEl.style.display =\n",
              "          google.colab.kernel.accessAllowed ? 'block' : 'none';\n",
              "\n",
              "        async function convertToInteractive(key) {\n",
              "          const element = document.querySelector('#df-7761585e-d762-40a7-8860-68d68f32032f');\n",
              "          const dataTable =\n",
              "            await google.colab.kernel.invokeFunction('convertToInteractive',\n",
              "                                                     [key], {});\n",
              "          if (!dataTable) return;\n",
              "\n",
              "          const docLinkHtml = 'Like what you see? Visit the ' +\n",
              "            '<a target=\"_blank\" href=https://colab.research.google.com/notebooks/data_table.ipynb>data table notebook</a>'\n",
              "            + ' to learn more about interactive tables.';\n",
              "          element.innerHTML = '';\n",
              "          dataTable['output_type'] = 'display_data';\n",
              "          await google.colab.output.renderOutput(dataTable, element);\n",
              "          const docLink = document.createElement('div');\n",
              "          docLink.innerHTML = docLinkHtml;\n",
              "          element.appendChild(docLink);\n",
              "        }\n",
              "      </script>\n",
              "    </div>\n",
              "  </div>\n",
              "  "
            ]
          },
          "metadata": {},
          "execution_count": 99
        }
      ],
      "source": [
        "# dropping False columns as True attribute is enough to determine the target variable as 0 means false\n",
        "df.drop([False], axis = 1 , inplace = True)\n",
        "df.head()"
      ]
    },
    {
      "cell_type": "code",
      "source": [
        "# now dropping hazardous columns as we encoded the attribute to two columns"
      ],
      "metadata": {
        "id": "f1d8SSowDRIm"
      },
      "id": "f1d8SSowDRIm",
      "execution_count": 100,
      "outputs": []
    },
    {
      "cell_type": "code",
      "execution_count": 101,
      "id": "786188fb",
      "metadata": {
        "colab": {
          "base_uri": "https://localhost:8080/",
          "height": 704
        },
        "id": "786188fb",
        "outputId": "b47a8688-76bc-4cfe-864d-5202c719848e"
      },
      "outputs": [
        {
          "output_type": "execute_result",
          "data": {
            "text/plain": [
              "<matplotlib.axes._subplots.AxesSubplot at 0x7f0cdd46fd50>"
            ]
          },
          "metadata": {},
          "execution_count": 101
        },
        {
          "output_type": "display_data",
          "data": {
            "text/plain": [
              "<Figure size 720x720 with 2 Axes>"
            ],
            "image/png": "[encoded data removed]"
          },
          "metadata": {
            "needs_background": "light"
          }
        }
      ],
      "source": [
        "df.drop(['hazardous'], axis = 1 , inplace = True) # checking the correlation heatmap again\n",
        "m.figure(figsize=(10,10))\n",
        "s.heatmap(df.corr(), annot = True , cmap= \"magma\")"
      ]
    },
    {
      "cell_type": "code",
      "execution_count": 102,
      "id": "b44a09bf",
      "metadata": {
        "colab": {
          "base_uri": "https://localhost:8080/",
          "height": 206
        },
        "id": "b44a09bf",
        "outputId": "98ca7fce-435f-40cf-c006-3f46b5b6c22a"
      },
      "outputs": [
        {
          "output_type": "execute_result",
          "data": {
            "text/plain": [
              "        id  est_diameter_min  est_diameter_max  relative_velocity  \\\n",
              "0  2162635          1.198271          2.679415       13569.249224   \n",
              "1  2277475          0.265800          0.594347       73588.726663   \n",
              "2  2512244          0.722030          1.614507      114258.692129   \n",
              "3  3596030          0.096506          0.215794       24764.303138   \n",
              "4  3667127          0.255009          0.570217       42737.733765   \n",
              "\n",
              "   miss_distance  absolute_magnitude  True  \n",
              "0   5.483974e+07               16.73     0  \n",
              "1   6.143813e+07               20.00     1  \n",
              "2   4.979872e+07               17.83     0  \n",
              "3   2.543497e+07               22.20     0  \n",
              "4   4.627557e+07               20.09     1  "
            ],
            "text/html": [
              "\n",
              "  <div id=\"df-0ea65c8f-488b-4d80-bcbf-76220b2cd9e0\">\n",
              "    <div class=\"colab-df-container\">\n",
              "      <div>\n",
              "<style scoped>\n",
              "    .dataframe tbody tr th:only-of-type {\n",
              "        vertical-align: middle;\n",
              "    }\n",
              "\n",
              "    .dataframe tbody tr th {\n",
              "        vertical-align: top;\n",
              "    }\n",
              "\n",
              "    .dataframe thead th {\n",
              "        text-align: right;\n",
              "    }\n",
              "</style>\n",
              "<table border=\"1\" class=\"dataframe\">\n",
              "  <thead>\n",
              "    <tr style=\"text-align: right;\">\n",
              "      <th></th>\n",
              "      <th>id</th>\n",
              "      <th>est_diameter_min</th>\n",
              "      <th>est_diameter_max</th>\n",
              "      <th>relative_velocity</th>\n",
              "      <th>miss_distance</th>\n",
              "      <th>absolute_magnitude</th>\n",
              "      <th>True</th>\n",
              "    </tr>\n",
              "  </thead>\n",
              "  <tbody>\n",
              "    <tr>\n",
              "      <th>0</th>\n",
              "      <td>2162635</td>\n",
              "      <td>1.198271</td>\n",
              "      <td>2.679415</td>\n",
              "      <td>13569.249224</td>\n",
              "      <td>5.483974e+07</td>\n",
              "      <td>16.73</td>\n",
              "      <td>0</td>\n",
              "    </tr>\n",
              "    <tr>\n",
              "      <th>1</th>\n",
              "      <td>2277475</td>\n",
              "      <td>0.265800</td>\n",
              "      <td>0.594347</td>\n",
              "      <td>73588.726663</td>\n",
              "      <td>6.143813e+07</td>\n",
              "      <td>20.00</td>\n",
              "      <td>1</td>\n",
              "    </tr>\n",
              "    <tr>\n",
              "      <th>2</th>\n",
              "      <td>2512244</td>\n",
              "      <td>0.722030</td>\n",
              "      <td>1.614507</td>\n",
              "      <td>114258.692129</td>\n",
              "      <td>4.979872e+07</td>\n",
              "      <td>17.83</td>\n",
              "      <td>0</td>\n",
              "    </tr>\n",
              "    <tr>\n",
              "      <th>3</th>\n",
              "      <td>3596030</td>\n",
              "      <td>0.096506</td>\n",
              "      <td>0.215794</td>\n",
              "      <td>24764.303138</td>\n",
              "      <td>2.543497e+07</td>\n",
              "      <td>22.20</td>\n",
              "      <td>0</td>\n",
              "    </tr>\n",
              "    <tr>\n",
              "      <th>4</th>\n",
              "      <td>3667127</td>\n",
              "      <td>0.255009</td>\n",
              "      <td>0.570217</td>\n",
              "      <td>42737.733765</td>\n",
              "      <td>4.627557e+07</td>\n",
              "      <td>20.09</td>\n",
              "      <td>1</td>\n",
              "    </tr>\n",
              "  </tbody>\n",
              "</table>\n",
              "</div>\n",
              "      <button class=\"colab-df-convert\" onclick=\"convertToInteractive('df-0ea65c8f-488b-4d80-bcbf-76220b2cd9e0')\"\n",
              "              title=\"Convert this dataframe to an interactive table.\"\n",
              "              style=\"display:none;\">\n",
              "        \n",
              "  <svg xmlns=\"http://www.w3.org/2000/svg\" height=\"24px\"viewBox=\"0 0 24 24\"\n",
              "       width=\"24px\">\n",
              "    <path d=\"M0 0h24v24H0V0z\" fill=\"none\"/>\n",
              "    <path d=\"M18.56 5.44l.94 2.06.94-2.06 2.06-.94-2.06-.94-.94-2.06-.94 2.06-2.06.94zm-11 1L8.5 8.5l.94-2.06 2.06-.94-2.06-.94L8.5 2.5l-.94 2.06-2.06.94zm10 10l.94 2.06.94-2.06 2.06-.94-2.06-.94-.94-2.06-.94 2.06-2.06.94z\"/><path d=\"M17.41 7.96l-1.37-1.37c-.4-.4-.92-.59-1.43-.59-.52 0-1.04.2-1.43.59L10.3 9.45l-7.72 7.72c-.78.78-.78 2.05 0 2.83L4 21.41c.39.39.9.59 1.41.59.51 0 1.02-.2 1.41-.59l7.78-7.78 2.81-2.81c.8-.78.8-2.07 0-2.86zM5.41 20L4 18.59l7.72-7.72 1.47 1.35L5.41 20z\"/>\n",
              "  </svg>\n",
              "      </button>\n",
              "      \n",
              "  <style>\n",
              "    .colab-df-container {\n",
              "      display:flex;\n",
              "      flex-wrap:wrap;\n",
              "      gap: 12px;\n",
              "    }\n",
              "\n",
              "    .colab-df-convert {\n",
              "      background-color: #E8F0FE;\n",
              "      border: none;\n",
              "      border-radius: 50%;\n",
              "      cursor: pointer;\n",
              "      display: none;\n",
              "      fill: #1967D2;\n",
              "      height: 32px;\n",
              "      padding: 0 0 0 0;\n",
              "      width: 32px;\n",
              "    }\n",
              "\n",
              "    .colab-df-convert:hover {\n",
              "      background-color: #E2EBFA;\n",
              "      box-shadow: 0px 1px 2px rgba(60, 64, 67, 0.3), 0px 1px 3px 1px rgba(60, 64, 67, 0.15);\n",
              "      fill: #174EA6;\n",
              "    }\n",
              "\n",
              "    [theme=dark] .colab-df-convert {\n",
              "      background-color: #3B4455;\n",
              "      fill: #D2E3FC;\n",
              "    }\n",
              "\n",
              "    [theme=dark] .colab-df-convert:hover {\n",
              "      background-color: #434B5C;\n",
              "      box-shadow: 0px 1px 3px 1px rgba(0, 0, 0, 0.15);\n",
              "      filter: drop-shadow(0px 1px 2px rgba(0, 0, 0, 0.3));\n",
              "      fill: #FFFFFF;\n",
              "    }\n",
              "  </style>\n",
              "\n",
              "      <script>\n",
              "        const buttonEl =\n",
              "          document.querySelector('#df-0ea65c8f-488b-4d80-bcbf-76220b2cd9e0 button.colab-df-convert');\n",
              "        buttonEl.style.display =\n",
              "          google.colab.kernel.accessAllowed ? 'block' : 'none';\n",
              "\n",
              "        async function convertToInteractive(key) {\n",
              "          const element = document.querySelector('#df-0ea65c8f-488b-4d80-bcbf-76220b2cd9e0');\n",
              "          const dataTable =\n",
              "            await google.colab.kernel.invokeFunction('convertToInteractive',\n",
              "                                                     [key], {});\n",
              "          if (!dataTable) return;\n",
              "\n",
              "          const docLinkHtml = 'Like what you see? Visit the ' +\n",
              "            '<a target=\"_blank\" href=https://colab.research.google.com/notebooks/data_table.ipynb>data table notebook</a>'\n",
              "            + ' to learn more about interactive tables.';\n",
              "          element.innerHTML = '';\n",
              "          dataTable['output_type'] = 'display_data';\n",
              "          await google.colab.output.renderOutput(dataTable, element);\n",
              "          const docLink = document.createElement('div');\n",
              "          docLink.innerHTML = docLinkHtml;\n",
              "          element.appendChild(docLink);\n",
              "        }\n",
              "      </script>\n",
              "    </div>\n",
              "  </div>\n",
              "  "
            ]
          },
          "metadata": {},
          "execution_count": 102
        }
      ],
      "source": [
        "\n",
        "df.head()\n"
      ]
    },
    {
      "cell_type": "code",
      "execution_count": 103,
      "id": "984e6581",
      "metadata": {
        "colab": {
          "base_uri": "https://localhost:8080/",
          "height": 300
        },
        "id": "984e6581",
        "outputId": "9db7c78f-ebb0-4c80-c014-24d81fd698ca"
      },
      "outputs": [
        {
          "output_type": "execute_result",
          "data": {
            "text/plain": [
              "                 id  est_diameter_min  est_diameter_max  relative_velocity  \\\n",
              "count  9.083600e+04      90836.000000      90836.000000       90836.000000   \n",
              "mean   1.438288e+07          0.127432          0.284947       48066.918918   \n",
              "std    2.087202e+07          0.298511          0.667491       25293.296961   \n",
              "min    2.000433e+06          0.000609          0.001362         203.346433   \n",
              "25%    3.448110e+06          0.019256          0.043057       28619.020645   \n",
              "50%    3.748362e+06          0.048368          0.108153       44190.117890   \n",
              "75%    3.884023e+06          0.143402          0.320656       62923.604633   \n",
              "max    5.427591e+07         37.892650         84.730541      236990.128088   \n",
              "\n",
              "       miss_distance  absolute_magnitude          True  \n",
              "count   9.083600e+04        90836.000000  90836.000000  \n",
              "mean    3.706655e+07           23.527103      0.097318  \n",
              "std     2.235204e+07            2.894086      0.296392  \n",
              "min     6.745533e+03            9.230000      0.000000  \n",
              "25%     1.721082e+07           21.340000      0.000000  \n",
              "50%     3.784658e+07           23.700000      0.000000  \n",
              "75%     5.654900e+07           25.700000      0.000000  \n",
              "max     7.479865e+07           33.200000      1.000000  "
            ],
            "text/html": [
              "\n",
              "  <div id=\"df-36aa570d-f4ac-4c48-8ed4-5eda6d4a5207\">\n",
              "    <div class=\"colab-df-container\">\n",
              "      <div>\n",
              "<style scoped>\n",
              "    .dataframe tbody tr th:only-of-type {\n",
              "        vertical-align: middle;\n",
              "    }\n",
              "\n",
              "    .dataframe tbody tr th {\n",
              "        vertical-align: top;\n",
              "    }\n",
              "\n",
              "    .dataframe thead th {\n",
              "        text-align: right;\n",
              "    }\n",
              "</style>\n",
              "<table border=\"1\" class=\"dataframe\">\n",
              "  <thead>\n",
              "    <tr style=\"text-align: right;\">\n",
              "      <th></th>\n",
              "      <th>id</th>\n",
              "      <th>est_diameter_min</th>\n",
              "      <th>est_diameter_max</th>\n",
              "      <th>relative_velocity</th>\n",
              "      <th>miss_distance</th>\n",
              "      <th>absolute_magnitude</th>\n",
              "      <th>True</th>\n",
              "    </tr>\n",
              "  </thead>\n",
              "  <tbody>\n",
              "    <tr>\n",
              "      <th>count</th>\n",
              "      <td>9.083600e+04</td>\n",
              "      <td>90836.000000</td>\n",
              "      <td>90836.000000</td>\n",
              "      <td>90836.000000</td>\n",
              "      <td>9.083600e+04</td>\n",
              "      <td>90836.000000</td>\n",
              "      <td>90836.000000</td>\n",
              "    </tr>\n",
              "    <tr>\n",
              "      <th>mean</th>\n",
              "      <td>1.438288e+07</td>\n",
              "      <td>0.127432</td>\n",
              "      <td>0.284947</td>\n",
              "      <td>48066.918918</td>\n",
              "      <td>3.706655e+07</td>\n",
              "      <td>23.527103</td>\n",
              "      <td>0.097318</td>\n",
              "    </tr>\n",
              "    <tr>\n",
              "      <th>std</th>\n",
              "      <td>2.087202e+07</td>\n",
              "      <td>0.298511</td>\n",
              "      <td>0.667491</td>\n",
              "      <td>25293.296961</td>\n",
              "      <td>2.235204e+07</td>\n",
              "      <td>2.894086</td>\n",
              "      <td>0.296392</td>\n",
              "    </tr>\n",
              "    <tr>\n",
              "      <th>min</th>\n",
              "      <td>2.000433e+06</td>\n",
              "      <td>0.000609</td>\n",
              "      <td>0.001362</td>\n",
              "      <td>203.346433</td>\n",
              "      <td>6.745533e+03</td>\n",
              "      <td>9.230000</td>\n",
              "      <td>0.000000</td>\n",
              "    </tr>\n",
              "    <tr>\n",
              "      <th>25%</th>\n",
              "      <td>3.448110e+06</td>\n",
              "      <td>0.019256</td>\n",
              "      <td>0.043057</td>\n",
              "      <td>28619.020645</td>\n",
              "      <td>1.721082e+07</td>\n",
              "      <td>21.340000</td>\n",
              "      <td>0.000000</td>\n",
              "    </tr>\n",
              "    <tr>\n",
              "      <th>50%</th>\n",
              "      <td>3.748362e+06</td>\n",
              "      <td>0.048368</td>\n",
              "      <td>0.108153</td>\n",
              "      <td>44190.117890</td>\n",
              "      <td>3.784658e+07</td>\n",
              "      <td>23.700000</td>\n",
              "      <td>0.000000</td>\n",
              "    </tr>\n",
              "    <tr>\n",
              "      <th>75%</th>\n",
              "      <td>3.884023e+06</td>\n",
              "      <td>0.143402</td>\n",
              "      <td>0.320656</td>\n",
              "      <td>62923.604633</td>\n",
              "      <td>5.654900e+07</td>\n",
              "      <td>25.700000</td>\n",
              "      <td>0.000000</td>\n",
              "    </tr>\n",
              "    <tr>\n",
              "      <th>max</th>\n",
              "      <td>5.427591e+07</td>\n",
              "      <td>37.892650</td>\n",
              "      <td>84.730541</td>\n",
              "      <td>236990.128088</td>\n",
              "      <td>7.479865e+07</td>\n",
              "      <td>33.200000</td>\n",
              "      <td>1.000000</td>\n",
              "    </tr>\n",
              "  </tbody>\n",
              "</table>\n",
              "</div>\n",
              "      <button class=\"colab-df-convert\" onclick=\"convertToInteractive('df-36aa570d-f4ac-4c48-8ed4-5eda6d4a5207')\"\n",
              "              title=\"Convert this dataframe to an interactive table.\"\n",
              "              style=\"display:none;\">\n",
              "        \n",
              "  <svg xmlns=\"http://www.w3.org/2000/svg\" height=\"24px\"viewBox=\"0 0 24 24\"\n",
              "       width=\"24px\">\n",
              "    <path d=\"M0 0h24v24H0V0z\" fill=\"none\"/>\n",
              "    <path d=\"M18.56 5.44l.94 2.06.94-2.06 2.06-.94-2.06-.94-.94-2.06-.94 2.06-2.06.94zm-11 1L8.5 8.5l.94-2.06 2.06-.94-2.06-.94L8.5 2.5l-.94 2.06-2.06.94zm10 10l.94 2.06.94-2.06 2.06-.94-2.06-.94-.94-2.06-.94 2.06-2.06.94z\"/><path d=\"M17.41 7.96l-1.37-1.37c-.4-.4-.92-.59-1.43-.59-.52 0-1.04.2-1.43.59L10.3 9.45l-7.72 7.72c-.78.78-.78 2.05 0 2.83L4 21.41c.39.39.9.59 1.41.59.51 0 1.02-.2 1.41-.59l7.78-7.78 2.81-2.81c.8-.78.8-2.07 0-2.86zM5.41 20L4 18.59l7.72-7.72 1.47 1.35L5.41 20z\"/>\n",
              "  </svg>\n",
              "      </button>\n",
              "      \n",
              "  <style>\n",
              "    .colab-df-container {\n",
              "      display:flex;\n",
              "      flex-wrap:wrap;\n",
              "      gap: 12px;\n",
              "    }\n",
              "\n",
              "    .colab-df-convert {\n",
              "      background-color: #E8F0FE;\n",
              "      border: none;\n",
              "      border-radius: 50%;\n",
              "      cursor: pointer;\n",
              "      display: none;\n",
              "      fill: #1967D2;\n",
              "      height: 32px;\n",
              "      padding: 0 0 0 0;\n",
              "      width: 32px;\n",
              "    }\n",
              "\n",
              "    .colab-df-convert:hover {\n",
              "      background-color: #E2EBFA;\n",
              "      box-shadow: 0px 1px 2px rgba(60, 64, 67, 0.3), 0px 1px 3px 1px rgba(60, 64, 67, 0.15);\n",
              "      fill: #174EA6;\n",
              "    }\n",
              "\n",
              "    [theme=dark] .colab-df-convert {\n",
              "      background-color: #3B4455;\n",
              "      fill: #D2E3FC;\n",
              "    }\n",
              "\n",
              "    [theme=dark] .colab-df-convert:hover {\n",
              "      background-color: #434B5C;\n",
              "      box-shadow: 0px 1px 3px 1px rgba(0, 0, 0, 0.15);\n",
              "      filter: drop-shadow(0px 1px 2px rgba(0, 0, 0, 0.3));\n",
              "      fill: #FFFFFF;\n",
              "    }\n",
              "  </style>\n",
              "\n",
              "      <script>\n",
              "        const buttonEl =\n",
              "          document.querySelector('#df-36aa570d-f4ac-4c48-8ed4-5eda6d4a5207 button.colab-df-convert');\n",
              "        buttonEl.style.display =\n",
              "          google.colab.kernel.accessAllowed ? 'block' : 'none';\n",
              "\n",
              "        async function convertToInteractive(key) {\n",
              "          const element = document.querySelector('#df-36aa570d-f4ac-4c48-8ed4-5eda6d4a5207');\n",
              "          const dataTable =\n",
              "            await google.colab.kernel.invokeFunction('convertToInteractive',\n",
              "                                                     [key], {});\n",
              "          if (!dataTable) return;\n",
              "\n",
              "          const docLinkHtml = 'Like what you see? Visit the ' +\n",
              "            '<a target=\"_blank\" href=https://colab.research.google.com/notebooks/data_table.ipynb>data table notebook</a>'\n",
              "            + ' to learn more about interactive tables.';\n",
              "          element.innerHTML = '';\n",
              "          dataTable['output_type'] = 'display_data';\n",
              "          await google.colab.output.renderOutput(dataTable, element);\n",
              "          const docLink = document.createElement('div');\n",
              "          docLink.innerHTML = docLinkHtml;\n",
              "          element.appendChild(docLink);\n",
              "        }\n",
              "      </script>\n",
              "    </div>\n",
              "  </div>\n",
              "  "
            ]
          },
          "metadata": {},
          "execution_count": 103
        }
      ],
      "source": [
        "df.describe()\n"
      ]
    },
    {
      "cell_type": "markdown",
      "source": [
        "# Statistical analysation\n",
        "* Here the count attributes is same for all that means there is no missing values\n",
        "* As we can see the mean and standard deviation for 'est_diameter_max','relative_velocity','miss_distance','absolute_magnitude' is relatively high that means the data points vary higly from the mean , there is lots of inconsistency in the dataset , as id attribute is only a primary key in the dataset , we are not worry about its statiscal information , The variation maybe because of the outlier or maybe the data is largely scattered from the mean\n",
        "\n"
      ],
      "metadata": {
        "id": "lyseWxktYFjf"
      },
      "id": "lyseWxktYFjf"
    },
    {
      "cell_type": "markdown",
      "source": [
        "# Data visualization"
      ],
      "metadata": {
        "id": "O40C0qXSG1ZU"
      },
      "id": "O40C0qXSG1ZU"
    },
    {
      "cell_type": "code",
      "source": [
        "bx = df.plot(kind='scatter', x='relative_velocity',y= True ,color = 'Green',label ='f')"
      ],
      "metadata": {
        "colab": {
          "base_uri": "https://localhost:8080/",
          "height": 280
        },
        "id": "5rg-szGaHOCK",
        "outputId": "b741cd54-ad73-49eb-e9f3-e58ecea4588a"
      },
      "id": "5rg-szGaHOCK",
      "execution_count": 104,
      "outputs": [
        {
          "output_type": "display_data",
          "data": {
            "text/plain": [
              "<Figure size 432x288 with 1 Axes>"
            ],
            "image/png": "[encoded data removed]"
          },
          "metadata": {
            "needs_background": "light"
          }
        }
      ]
    },
    {
      "cell_type": "code",
      "source": [
        "s.distplot(df[\"relative_velocity\"])"
      ],
      "metadata": {
        "colab": {
          "base_uri": "https://localhost:8080/",
          "height": 363
        },
        "id": "6-vlZAfVR65H",
        "outputId": "ab63b972-cceb-48db-80c1-99788d861237"
      },
      "id": "6-vlZAfVR65H",
      "execution_count": 105,
      "outputs": [
        {
          "output_type": "stream",
          "name": "stderr",
          "text": [
            "/usr/local/lib/python3.7/dist-packages/seaborn/distributions.py:2619: FutureWarning: `distplot` is a deprecated function and will be removed in a future version. Please adapt your code to use either `displot` (a figure-level function with similar flexibility) or `histplot` (an axes-level function for histograms).\n",
            "  warnings.warn(msg, FutureWarning)\n"
          ]
        },
        {
          "output_type": "execute_result",
          "data": {
            "text/plain": [
              "<matplotlib.axes._subplots.AxesSubplot at 0x7f0cdcfbb810>"
            ]
          },
          "metadata": {},
          "execution_count": 105
        },
        {
          "output_type": "display_data",
          "data": {
            "text/plain": [
              "<Figure size 432x288 with 1 Axes>"
            ],
            "image/png": "[encoded data removed]"
          },
          "metadata": {
            "needs_background": "light"
          }
        }
      ]
    },
    {
      "cell_type": "markdown",
      "source": [
        "* With respect to our target variable the distribution of the relative_velocity attribute is quite satisfying as the data distribution is ok "
      ],
      "metadata": {
        "id": "zE4lHMwVIl3S"
      },
      "id": "zE4lHMwVIl3S"
    },
    {
      "cell_type": "code",
      "source": [
        "s.distplot(df[\"absolute_magnitude\"])"
      ],
      "metadata": {
        "colab": {
          "base_uri": "https://localhost:8080/",
          "height": 352
        },
        "id": "9gWRetiVSSOa",
        "outputId": "ac88f2a6-999c-46ce-ff69-ead3d0414117"
      },
      "id": "9gWRetiVSSOa",
      "execution_count": 106,
      "outputs": [
        {
          "output_type": "stream",
          "name": "stderr",
          "text": [
            "/usr/local/lib/python3.7/dist-packages/seaborn/distributions.py:2619: FutureWarning: `distplot` is a deprecated function and will be removed in a future version. Please adapt your code to use either `displot` (a figure-level function with similar flexibility) or `histplot` (an axes-level function for histograms).\n",
            "  warnings.warn(msg, FutureWarning)\n"
          ]
        },
        {
          "output_type": "execute_result",
          "data": {
            "text/plain": [
              "<matplotlib.axes._subplots.AxesSubplot at 0x7f0cdcf71b10>"
            ]
          },
          "metadata": {},
          "execution_count": 106
        },
        {
          "output_type": "display_data",
          "data": {
            "text/plain": [
              "<Figure size 432x288 with 1 Axes>"
            ],
            "image/png": "[encoded data removed]"
          },
          "metadata": {
            "needs_background": "light"
          }
        }
      ]
    },
    {
      "cell_type": "code",
      "source": [
        "print(s.boxplot(df[\"miss_distance\"]))\n"
      ],
      "metadata": {
        "colab": {
          "base_uri": "https://localhost:8080/",
          "height": 352
        },
        "id": "f86iU06_NRHT",
        "outputId": "c9bbb7f2-2925-4ff1-e91c-58f434aa492d"
      },
      "id": "f86iU06_NRHT",
      "execution_count": 107,
      "outputs": [
        {
          "output_type": "stream",
          "name": "stdout",
          "text": [
            "AxesSubplot(0.125,0.125;0.775x0.755)\n"
          ]
        },
        {
          "output_type": "stream",
          "name": "stderr",
          "text": [
            "/usr/local/lib/python3.7/dist-packages/seaborn/_decorators.py:43: FutureWarning: Pass the following variable as a keyword arg: x. From version 0.12, the only valid positional argument will be `data`, and passing other arguments without an explicit keyword will result in an error or misinterpretation.\n",
            "  FutureWarning\n"
          ]
        },
        {
          "output_type": "display_data",
          "data": {
            "text/plain": [
              "<Figure size 432x288 with 1 Axes>"
            ],
            "image/png": "[encoded data removed]"
          },
          "metadata": {
            "needs_background": "light"
          }
        }
      ]
    },
    {
      "cell_type": "code",
      "source": [
        "print(s.boxplot(df[\"relative_velocity\"]))\n"
      ],
      "metadata": {
        "colab": {
          "base_uri": "https://localhost:8080/",
          "height": 352
        },
        "id": "6ILLXXILLlfn",
        "outputId": "b68ca353-74a0-4089-f6dd-de3e0b2279b5"
      },
      "id": "6ILLXXILLlfn",
      "execution_count": 108,
      "outputs": [
        {
          "output_type": "stream",
          "name": "stderr",
          "text": [
            "/usr/local/lib/python3.7/dist-packages/seaborn/_decorators.py:43: FutureWarning: Pass the following variable as a keyword arg: x. From version 0.12, the only valid positional argument will be `data`, and passing other arguments without an explicit keyword will result in an error or misinterpretation.\n",
            "  FutureWarning\n"
          ]
        },
        {
          "output_type": "stream",
          "name": "stdout",
          "text": [
            "AxesSubplot(0.125,0.125;0.775x0.755)\n"
          ]
        },
        {
          "output_type": "display_data",
          "data": {
            "text/plain": [
              "<Figure size 432x288 with 1 Axes>"
            ],
            "image/png": "[encoded data removed]"
          },
          "metadata": {
            "needs_background": "light"
          }
        }
      ]
    },
    {
      "cell_type": "markdown",
      "source": [
        "* In relative_velocity as we can see there is lot of outliers far from the concetrated value points , that's there was variation of standard deviation from the mean"
      ],
      "metadata": {
        "id": "wjriGa7LN74W"
      },
      "id": "wjriGa7LN74W"
    },
    {
      "cell_type": "markdown",
      "source": [
        "* Here as we can see in the miss_distance attribute the data is not skewed "
      ],
      "metadata": {
        "id": "_3H0yQUAKxPv"
      },
      "id": "_3H0yQUAKxPv"
    },
    {
      "cell_type": "code",
      "source": [
        "print(s.boxplot(df[\"absolute_magnitude\"]))"
      ],
      "metadata": {
        "colab": {
          "base_uri": "https://localhost:8080/",
          "height": 352
        },
        "id": "5EPFksZwNX6J",
        "outputId": "2cc8713a-1e11-466a-9aca-5c7f0970d14c"
      },
      "id": "5EPFksZwNX6J",
      "execution_count": 109,
      "outputs": [
        {
          "output_type": "stream",
          "name": "stderr",
          "text": [
            "/usr/local/lib/python3.7/dist-packages/seaborn/_decorators.py:43: FutureWarning: Pass the following variable as a keyword arg: x. From version 0.12, the only valid positional argument will be `data`, and passing other arguments without an explicit keyword will result in an error or misinterpretation.\n",
            "  FutureWarning\n"
          ]
        },
        {
          "output_type": "stream",
          "name": "stdout",
          "text": [
            "AxesSubplot(0.125,0.125;0.775x0.755)\n"
          ]
        },
        {
          "output_type": "display_data",
          "data": {
            "text/plain": [
              "<Figure size 432x288 with 1 Axes>"
            ],
            "image/png": "[encoded data removed]"
          },
          "metadata": {
            "needs_background": "light"
          }
        }
      ]
    },
    {
      "cell_type": "markdown",
      "source": [
        "* In absolute_magnitude as we can see there is lot of outliers far from the concetrated value points"
      ],
      "metadata": {
        "id": "hqD_SkxMNsFC"
      },
      "id": "hqD_SkxMNsFC"
    },
    {
      "cell_type": "code",
      "source": [
        "df[\"relative_velocity\"].mean()"
      ],
      "metadata": {
        "colab": {
          "base_uri": "https://localhost:8080/"
        },
        "id": "KraRBy73OH7n",
        "outputId": "a4d7ca85-9d36-434f-c829-9d3e1505d96e"
      },
      "id": "KraRBy73OH7n",
      "execution_count": 110,
      "outputs": [
        {
          "output_type": "execute_result",
          "data": {
            "text/plain": [
              "48066.918917642935"
            ]
          },
          "metadata": {},
          "execution_count": 110
        }
      ]
    },
    {
      "cell_type": "code",
      "source": [
        "print(s.boxplot(df[\"relative_velocity\"]))\n"
      ],
      "metadata": {
        "colab": {
          "base_uri": "https://localhost:8080/",
          "height": 352
        },
        "id": "lpDTYSQ7OdE0",
        "outputId": "f9fb3ade-fcb8-49f4-d5f0-5deaf428c882"
      },
      "id": "lpDTYSQ7OdE0",
      "execution_count": 111,
      "outputs": [
        {
          "output_type": "stream",
          "name": "stderr",
          "text": [
            "/usr/local/lib/python3.7/dist-packages/seaborn/_decorators.py:43: FutureWarning: Pass the following variable as a keyword arg: x. From version 0.12, the only valid positional argument will be `data`, and passing other arguments without an explicit keyword will result in an error or misinterpretation.\n",
            "  FutureWarning\n"
          ]
        },
        {
          "output_type": "stream",
          "name": "stdout",
          "text": [
            "AxesSubplot(0.125,0.125;0.775x0.755)\n"
          ]
        },
        {
          "output_type": "display_data",
          "data": {
            "text/plain": [
              "<Figure size 432x288 with 1 Axes>"
            ],
            "image/png": "[encoded data removed]"
          },
          "metadata": {
            "needs_background": "light"
          }
        }
      ]
    },
    {
      "cell_type": "code",
      "source": [],
      "metadata": {
        "id": "GdTVY78hV_g8"
      },
      "id": "GdTVY78hV_g8",
      "execution_count": 111,
      "outputs": []
    },
    {
      "cell_type": "markdown",
      "source": [
        "# Spilting train and test values \n",
        "* with 70% test size"
      ],
      "metadata": {
        "id": "BTnC6xtrC4u9"
      },
      "id": "BTnC6xtrC4u9"
    },
    {
      "cell_type": "code",
      "execution_count": 114,
      "id": "29110bdb",
      "metadata": {
        "id": "29110bdb",
        "colab": {
          "base_uri": "https://localhost:8080/"
        },
        "outputId": "9e8e2810-568b-4b3c-9fda-8e5df476e9aa"
      },
      "outputs": [
        {
          "output_type": "stream",
          "name": "stdout",
          "text": [
            "(90836, 6)\n",
            "(90836,)\n"
          ]
        }
      ],
      "source": [
        "x = df.drop([True], axis = 1)\n",
        "y = df[True].astype(int)\n",
        "print(x.shape)\n",
        "print(y.shape)"
      ]
    },
    {
      "cell_type": "code",
      "execution_count": 115,
      "id": "2e869c04",
      "metadata": {
        "id": "2e869c04"
      },
      "outputs": [],
      "source": [
        "X_train, X_test, y_train, y_test = train_test_split(x, y, test_size=0.3, stratify=y, random_state=4) "
      ]
    },
    {
      "cell_type": "markdown",
      "source": [
        "# Support vector machine\n",
        "* Using linear kernel"
      ],
      "metadata": {
        "id": "Q8RRh-ryE_Je"
      },
      "id": "Q8RRh-ryE_Je"
    },
    {
      "cell_type": "code",
      "execution_count": 116,
      "id": "15ed1b1d",
      "metadata": {
        "id": "15ed1b1d"
      },
      "outputs": [],
      "source": [
        "from sklearn import svm\n",
        "classifier = svm.SVC(kernel = 'linear' , gamma = 'auto', C =2)\n",
        "\n",
        "# scaling the train and test variable as it will take lot of time to train \n",
        "from sklearn.preprocessing import StandardScaler\n",
        "sc = StandardScaler()\n",
        "X_train = sc.fit_transform(X_train)\n",
        "X_test = sc.transform(X_test)\n"
      ]
    },
    {
      "cell_type": "code",
      "source": [],
      "metadata": {
        "id": "NlUtEu9CI2HY"
      },
      "id": "NlUtEu9CI2HY",
      "execution_count": 116,
      "outputs": []
    },
    {
      "cell_type": "code",
      "execution_count": 117,
      "id": "e0118b69",
      "metadata": {
        "id": "e0118b69",
        "colab": {
          "base_uri": "https://localhost:8080/"
        },
        "outputId": "a6282307-169b-4e0f-dcc2-a599af690165"
      },
      "outputs": [
        {
          "output_type": "execute_result",
          "data": {
            "text/plain": [
              "SVC(C=2, gamma='auto', kernel='linear')"
            ]
          },
          "metadata": {},
          "execution_count": 117
        }
      ],
      "source": [
        "classifier.fit(X_train,y_train) # Training the svm model"
      ]
    },
    {
      "cell_type": "code",
      "execution_count": 118,
      "id": "5f5faf91",
      "metadata": {
        "id": "5f5faf91"
      },
      "outputs": [],
      "source": [
        "y_predict= classifier.predict(X_test)\n"
      ]
    },
    {
      "cell_type": "code",
      "source": [
        "print(X_train.shape)\n",
        "print(X_test.shape)"
      ],
      "metadata": {
        "colab": {
          "base_uri": "https://localhost:8080/"
        },
        "id": "d-sC61G1_yxs",
        "outputId": "d5f6a0d0-cb09-4ad0-cf09-d0ebebb98ee2"
      },
      "id": "d-sC61G1_yxs",
      "execution_count": 119,
      "outputs": [
        {
          "output_type": "stream",
          "name": "stdout",
          "text": [
            "(63585, 6)\n",
            "(27251, 6)\n"
          ]
        }
      ]
    },
    {
      "cell_type": "code",
      "execution_count": 120,
      "id": "5f8a91d6",
      "metadata": {
        "id": "5f8a91d6"
      },
      "outputs": [],
      "source": [
        "from sklearn.metrics import classification_report"
      ]
    },
    {
      "cell_type": "code",
      "execution_count": 121,
      "id": "8262e3c1",
      "metadata": {
        "id": "8262e3c1",
        "colab": {
          "base_uri": "https://localhost:8080/"
        },
        "outputId": "202e09f5-1280-4b32-e5ae-47127c4a66c8"
      },
      "outputs": [
        {
          "output_type": "stream",
          "name": "stdout",
          "text": [
            "              precision    recall  f1-score   support\n",
            "\n",
            "           0       0.90      1.00      0.95     24599\n",
            "           1       0.00      0.00      0.00      2652\n",
            "\n",
            "    accuracy                           0.90     27251\n",
            "   macro avg       0.45      0.50      0.47     27251\n",
            "weighted avg       0.81      0.90      0.86     27251\n",
            "\n",
            "0.9026824703680599\n"
          ]
        },
        {
          "output_type": "stream",
          "name": "stderr",
          "text": [
            "/usr/local/lib/python3.7/dist-packages/sklearn/metrics/_classification.py:1318: UndefinedMetricWarning: Precision and F-score are ill-defined and being set to 0.0 in labels with no predicted samples. Use `zero_division` parameter to control this behavior.\n",
            "  _warn_prf(average, modifier, msg_start, len(result))\n",
            "/usr/local/lib/python3.7/dist-packages/sklearn/metrics/_classification.py:1318: UndefinedMetricWarning: Precision and F-score are ill-defined and being set to 0.0 in labels with no predicted samples. Use `zero_division` parameter to control this behavior.\n",
            "  _warn_prf(average, modifier, msg_start, len(result))\n",
            "/usr/local/lib/python3.7/dist-packages/sklearn/metrics/_classification.py:1318: UndefinedMetricWarning: Precision and F-score are ill-defined and being set to 0.0 in labels with no predicted samples. Use `zero_division` parameter to control this behavior.\n",
            "  _warn_prf(average, modifier, msg_start, len(result))\n"
          ]
        }
      ],
      "source": [
        "print(classification_report(y_test,y_predict))\n",
        "from sklearn import metrics\n",
        "print(metrics.accuracy_score(y_test,y_predict))"
      ]
    },
    {
      "cell_type": "code",
      "source": [],
      "metadata": {
        "id": "SPwKxo4Xa0x8"
      },
      "id": "SPwKxo4Xa0x8",
      "execution_count": null,
      "outputs": []
    },
    {
      "cell_type": "markdown",
      "source": [
        "* Using rbf The radial kernel"
      ],
      "metadata": {
        "id": "9IXdfCPda1f2"
      },
      "id": "9IXdfCPda1f2"
    },
    {
      "cell_type": "code",
      "source": [
        "from sklearn.svm import SVC\n",
        "classifier=SVC(kernel=\"rbf\")\n",
        "classifier.fit(X_train,y_train)"
      ],
      "metadata": {
        "colab": {
          "base_uri": "https://localhost:8080/"
        },
        "id": "qNdDpUF4DIL4",
        "outputId": "c8dd6743-5e57-4c37-f89b-8c4fd7a081cd"
      },
      "id": "qNdDpUF4DIL4",
      "execution_count": 135,
      "outputs": [
        {
          "output_type": "execute_result",
          "data": {
            "text/plain": [
              "SVC()"
            ]
          },
          "metadata": {},
          "execution_count": 135
        }
      ]
    },
    {
      "cell_type": "code",
      "source": [
        "from sklearn.metrics import accuracy_score\n",
        "y_pred = classifier.predict(X_test)\n",
        "accuracy_score(y_test, y_pred)"
      ],
      "metadata": {
        "colab": {
          "base_uri": "https://localhost:8080/"
        },
        "id": "UI8_-RBPad5i",
        "outputId": "ce483a19-fc9a-407c-e34f-33dde3e56ed5"
      },
      "id": "UI8_-RBPad5i",
      "execution_count": 137,
      "outputs": [
        {
          "output_type": "execute_result",
          "data": {
            "text/plain": [
              "0.9108289604051227"
            ]
          },
          "metadata": {},
          "execution_count": 137
        }
      ]
    },
    {
      "cell_type": "code",
      "source": [
        "df.head()"
      ],
      "metadata": {
        "colab": {
          "base_uri": "https://localhost:8080/",
          "height": 206
        },
        "id": "h8GKM056adsV",
        "outputId": "b60a522a-d95e-4300-aca8-bb9d03d89588"
      },
      "id": "h8GKM056adsV",
      "execution_count": 138,
      "outputs": [
        {
          "output_type": "execute_result",
          "data": {
            "text/plain": [
              "        id  est_diameter_min  est_diameter_max  relative_velocity  \\\n",
              "0  2162635          1.198271          2.679415       13569.249224   \n",
              "1  2277475          0.265800          0.594347       73588.726663   \n",
              "2  2512244          0.722030          1.614507      114258.692129   \n",
              "3  3596030          0.096506          0.215794       24764.303138   \n",
              "4  3667127          0.255009          0.570217       42737.733765   \n",
              "\n",
              "   miss_distance  absolute_magnitude  True  \n",
              "0   5.483974e+07               16.73     0  \n",
              "1   6.143813e+07               20.00     1  \n",
              "2   4.979872e+07               17.83     0  \n",
              "3   2.543497e+07               22.20     0  \n",
              "4   4.627557e+07               20.09     1  "
            ],
            "text/html": [
              "\n",
              "  <div id=\"df-00f6a3a4-46dc-411f-8be2-d5630b68d7fb\">\n",
              "    <div class=\"colab-df-container\">\n",
              "      <div>\n",
              "<style scoped>\n",
              "    .dataframe tbody tr th:only-of-type {\n",
              "        vertical-align: middle;\n",
              "    }\n",
              "\n",
              "    .dataframe tbody tr th {\n",
              "        vertical-align: top;\n",
              "    }\n",
              "\n",
              "    .dataframe thead th {\n",
              "        text-align: right;\n",
              "    }\n",
              "</style>\n",
              "<table border=\"1\" class=\"dataframe\">\n",
              "  <thead>\n",
              "    <tr style=\"text-align: right;\">\n",
              "      <th></th>\n",
              "      <th>id</th>\n",
              "      <th>est_diameter_min</th>\n",
              "      <th>est_diameter_max</th>\n",
              "      <th>relative_velocity</th>\n",
              "      <th>miss_distance</th>\n",
              "      <th>absolute_magnitude</th>\n",
              "      <th>True</th>\n",
              "    </tr>\n",
              "  </thead>\n",
              "  <tbody>\n",
              "    <tr>\n",
              "      <th>0</th>\n",
              "      <td>2162635</td>\n",
              "      <td>1.198271</td>\n",
              "      <td>2.679415</td>\n",
              "      <td>13569.249224</td>\n",
              "      <td>5.483974e+07</td>\n",
              "      <td>16.73</td>\n",
              "      <td>0</td>\n",
              "    </tr>\n",
              "    <tr>\n",
              "      <th>1</th>\n",
              "      <td>2277475</td>\n",
              "      <td>0.265800</td>\n",
              "      <td>0.594347</td>\n",
              "      <td>73588.726663</td>\n",
              "      <td>6.143813e+07</td>\n",
              "      <td>20.00</td>\n",
              "      <td>1</td>\n",
              "    </tr>\n",
              "    <tr>\n",
              "      <th>2</th>\n",
              "      <td>2512244</td>\n",
              "      <td>0.722030</td>\n",
              "      <td>1.614507</td>\n",
              "      <td>114258.692129</td>\n",
              "      <td>4.979872e+07</td>\n",
              "      <td>17.83</td>\n",
              "      <td>0</td>\n",
              "    </tr>\n",
              "    <tr>\n",
              "      <th>3</th>\n",
              "      <td>3596030</td>\n",
              "      <td>0.096506</td>\n",
              "      <td>0.215794</td>\n",
              "      <td>24764.303138</td>\n",
              "      <td>2.543497e+07</td>\n",
              "      <td>22.20</td>\n",
              "      <td>0</td>\n",
              "    </tr>\n",
              "    <tr>\n",
              "      <th>4</th>\n",
              "      <td>3667127</td>\n",
              "      <td>0.255009</td>\n",
              "      <td>0.570217</td>\n",
              "      <td>42737.733765</td>\n",
              "      <td>4.627557e+07</td>\n",
              "      <td>20.09</td>\n",
              "      <td>1</td>\n",
              "    </tr>\n",
              "  </tbody>\n",
              "</table>\n",
              "</div>\n",
              "      <button class=\"colab-df-convert\" onclick=\"convertToInteractive('df-00f6a3a4-46dc-411f-8be2-d5630b68d7fb')\"\n",
              "              title=\"Convert this dataframe to an interactive table.\"\n",
              "              style=\"display:none;\">\n",
              "        \n",
              "  <svg xmlns=\"http://www.w3.org/2000/svg\" height=\"24px\"viewBox=\"0 0 24 24\"\n",
              "       width=\"24px\">\n",
              "    <path d=\"M0 0h24v24H0V0z\" fill=\"none\"/>\n",
              "    <path d=\"M18.56 5.44l.94 2.06.94-2.06 2.06-.94-2.06-.94-.94-2.06-.94 2.06-2.06.94zm-11 1L8.5 8.5l.94-2.06 2.06-.94-2.06-.94L8.5 2.5l-.94 2.06-2.06.94zm10 10l.94 2.06.94-2.06 2.06-.94-2.06-.94-.94-2.06-.94 2.06-2.06.94z\"/><path d=\"M17.41 7.96l-1.37-1.37c-.4-.4-.92-.59-1.43-.59-.52 0-1.04.2-1.43.59L10.3 9.45l-7.72 7.72c-.78.78-.78 2.05 0 2.83L4 21.41c.39.39.9.59 1.41.59.51 0 1.02-.2 1.41-.59l7.78-7.78 2.81-2.81c.8-.78.8-2.07 0-2.86zM5.41 20L4 18.59l7.72-7.72 1.47 1.35L5.41 20z\"/>\n",
              "  </svg>\n",
              "      </button>\n",
              "      \n",
              "  <style>\n",
              "    .colab-df-container {\n",
              "      display:flex;\n",
              "      flex-wrap:wrap;\n",
              "      gap: 12px;\n",
              "    }\n",
              "\n",
              "    .colab-df-convert {\n",
              "      background-color: #E8F0FE;\n",
              "      border: none;\n",
              "      border-radius: 50%;\n",
              "      cursor: pointer;\n",
              "      display: none;\n",
              "      fill: #1967D2;\n",
              "      height: 32px;\n",
              "      padding: 0 0 0 0;\n",
              "      width: 32px;\n",
              "    }\n",
              "\n",
              "    .colab-df-convert:hover {\n",
              "      background-color: #E2EBFA;\n",
              "      box-shadow: 0px 1px 2px rgba(60, 64, 67, 0.3), 0px 1px 3px 1px rgba(60, 64, 67, 0.15);\n",
              "      fill: #174EA6;\n",
              "    }\n",
              "\n",
              "    [theme=dark] .colab-df-convert {\n",
              "      background-color: #3B4455;\n",
              "      fill: #D2E3FC;\n",
              "    }\n",
              "\n",
              "    [theme=dark] .colab-df-convert:hover {\n",
              "      background-color: #434B5C;\n",
              "      box-shadow: 0px 1px 3px 1px rgba(0, 0, 0, 0.15);\n",
              "      filter: drop-shadow(0px 1px 2px rgba(0, 0, 0, 0.3));\n",
              "      fill: #FFFFFF;\n",
              "    }\n",
              "  </style>\n",
              "\n",
              "      <script>\n",
              "        const buttonEl =\n",
              "          document.querySelector('#df-00f6a3a4-46dc-411f-8be2-d5630b68d7fb button.colab-df-convert');\n",
              "        buttonEl.style.display =\n",
              "          google.colab.kernel.accessAllowed ? 'block' : 'none';\n",
              "\n",
              "        async function convertToInteractive(key) {\n",
              "          const element = document.querySelector('#df-00f6a3a4-46dc-411f-8be2-d5630b68d7fb');\n",
              "          const dataTable =\n",
              "            await google.colab.kernel.invokeFunction('convertToInteractive',\n",
              "                                                     [key], {});\n",
              "          if (!dataTable) return;\n",
              "\n",
              "          const docLinkHtml = 'Like what you see? Visit the ' +\n",
              "            '<a target=\"_blank\" href=https://colab.research.google.com/notebooks/data_table.ipynb>data table notebook</a>'\n",
              "            + ' to learn more about interactive tables.';\n",
              "          element.innerHTML = '';\n",
              "          dataTable['output_type'] = 'display_data';\n",
              "          await google.colab.output.renderOutput(dataTable, element);\n",
              "          const docLink = document.createElement('div');\n",
              "          docLink.innerHTML = docLinkHtml;\n",
              "          element.appendChild(docLink);\n",
              "        }\n",
              "      </script>\n",
              "    </div>\n",
              "  </div>\n",
              "  "
            ]
          },
          "metadata": {},
          "execution_count": 138
        }
      ]
    },
    {
      "cell_type": "code",
      "source": [
        "print(classification_report(y_test,y_predict))\n",
        "from sklearn import metrics\n",
        "print(metrics.accuracy_score(y_test,y_predict))"
      ],
      "metadata": {
        "colab": {
          "base_uri": "https://localhost:8080/"
        },
        "id": "iLD_PW0Badaq",
        "outputId": "7ae784eb-f86e-4a14-8963-f64035838685"
      },
      "id": "iLD_PW0Badaq",
      "execution_count": 139,
      "outputs": [
        {
          "output_type": "stream",
          "name": "stdout",
          "text": [
            "              precision    recall  f1-score   support\n",
            "\n",
            "           0       0.90      1.00      0.95     24599\n",
            "           1       0.00      0.00      0.00      2652\n",
            "\n",
            "    accuracy                           0.90     27251\n",
            "   macro avg       0.45      0.50      0.47     27251\n",
            "weighted avg       0.81      0.90      0.86     27251\n",
            "\n",
            "0.9026824703680599\n"
          ]
        },
        {
          "output_type": "stream",
          "name": "stderr",
          "text": [
            "/usr/local/lib/python3.7/dist-packages/sklearn/metrics/_classification.py:1318: UndefinedMetricWarning: Precision and F-score are ill-defined and being set to 0.0 in labels with no predicted samples. Use `zero_division` parameter to control this behavior.\n",
            "  _warn_prf(average, modifier, msg_start, len(result))\n",
            "/usr/local/lib/python3.7/dist-packages/sklearn/metrics/_classification.py:1318: UndefinedMetricWarning: Precision and F-score are ill-defined and being set to 0.0 in labels with no predicted samples. Use `zero_division` parameter to control this behavior.\n",
            "  _warn_prf(average, modifier, msg_start, len(result))\n",
            "/usr/local/lib/python3.7/dist-packages/sklearn/metrics/_classification.py:1318: UndefinedMetricWarning: Precision and F-score are ill-defined and being set to 0.0 in labels with no predicted samples. Use `zero_division` parameter to control this behavior.\n",
            "  _warn_prf(average, modifier, msg_start, len(result))\n"
          ]
        }
      ]
    },
    {
      "cell_type": "code",
      "source": [],
      "metadata": {
        "id": "njrxNt9cacl2"
      },
      "id": "njrxNt9cacl2",
      "execution_count": null,
      "outputs": []
    },
    {
      "cell_type": "markdown",
      "source": [
        "* Using polynomial kernel"
      ],
      "metadata": {
        "id": "vBKOUa-9a7fh"
      },
      "id": "vBKOUa-9a7fh"
    },
    {
      "cell_type": "code",
      "source": [],
      "metadata": {
        "id": "aCcs6eIFbCSV"
      },
      "id": "aCcs6eIFbCSV",
      "execution_count": null,
      "outputs": []
    },
    {
      "cell_type": "code",
      "source": [],
      "metadata": {
        "id": "XHH3EN86bCQw"
      },
      "id": "XHH3EN86bCQw",
      "execution_count": null,
      "outputs": []
    },
    {
      "cell_type": "code",
      "source": [],
      "metadata": {
        "id": "qeCumI5dbCLk"
      },
      "id": "qeCumI5dbCLk",
      "execution_count": null,
      "outputs": []
    },
    {
      "cell_type": "code",
      "source": [],
      "metadata": {
        "id": "Q7VRs9_lbCKB"
      },
      "id": "Q7VRs9_lbCKB",
      "execution_count": null,
      "outputs": []
    },
    {
      "cell_type": "code",
      "source": [],
      "metadata": {
        "id": "OnAdKiiFbCGr"
      },
      "id": "OnAdKiiFbCGr",
      "execution_count": null,
      "outputs": []
    },
    {
      "cell_type": "code",
      "source": [],
      "metadata": {
        "id": "nDRyvVVDbB2t"
      },
      "id": "nDRyvVVDbB2t",
      "execution_count": null,
      "outputs": []
    },
    {
      "cell_type": "markdown",
      "source": [
        "# TASK 2\n",
        "### BUILDING ARITIFICIAL NEURAL NETWORK"
      ],
      "metadata": {
        "id": "7nZL1CaEDaOg"
      },
      "id": "7nZL1CaEDaOg"
    },
    {
      "cell_type": "markdown",
      "source": [
        "* Using tensorflow and keras"
      ],
      "metadata": {
        "id": "W6SoK4QWDu-R"
      },
      "id": "W6SoK4QWDu-R"
    },
    {
      "cell_type": "code",
      "source": [
        "\n",
        "import tensorflow as tf\n",
        "from tensorflow import keras\n",
        "\n",
        "\n",
        "model = keras.Sequential([keras.layers.Dense(6, input_shape=(6,), activation='relu'),keras.layers.Dense(15, activation='relu'),keras.layers.Dense(1, activation='sigmoid')\n",
        "])\n",
        "\n",
        "model.compile(optimizer='adam',\n",
        "              loss='binary_crossentropy',\n",
        "              metrics=['accuracy'])\n",
        "model.fit(X_train, y_train, epochs=100)"
      ],
      "metadata": {
        "id": "2NZXALwnEnRo",
        "colab": {
          "base_uri": "https://localhost:8080/"
        },
        "outputId": "7c3cc7c2-8288-448a-a53f-85b7af0db181"
      },
      "id": "2NZXALwnEnRo",
      "execution_count": 122,
      "outputs": [
        {
          "output_type": "stream",
          "name": "stdout",
          "text": [
            "Epoch 1/100\n",
            "1988/1988 [==============================] - 4s 2ms/step - loss: 0.2362 - accuracy: 0.9015\n",
            "Epoch 2/100\n",
            "1988/1988 [==============================] - 3s 2ms/step - loss: 0.1959 - accuracy: 0.9077\n",
            "Epoch 3/100\n",
            "1988/1988 [==============================] - 3s 2ms/step - loss: 0.1899 - accuracy: 0.9109\n",
            "Epoch 4/100\n",
            "1988/1988 [==============================] - 3s 2ms/step - loss: 0.1883 - accuracy: 0.9115\n",
            "Epoch 5/100\n",
            "1988/1988 [==============================] - 4s 2ms/step - loss: 0.1877 - accuracy: 0.9119\n",
            "Epoch 6/100\n",
            "1988/1988 [==============================] - 3s 2ms/step - loss: 0.1874 - accuracy: 0.9121\n",
            "Epoch 7/100\n",
            "1988/1988 [==============================] - 3s 2ms/step - loss: 0.1870 - accuracy: 0.9120\n",
            "Epoch 8/100\n",
            "1988/1988 [==============================] - 4s 2ms/step - loss: 0.1868 - accuracy: 0.9116\n",
            "Epoch 9/100\n",
            "1988/1988 [==============================] - 3s 2ms/step - loss: 0.1865 - accuracy: 0.9121\n",
            "Epoch 10/100\n",
            "1988/1988 [==============================] - 3s 2ms/step - loss: 0.1863 - accuracy: 0.9120\n",
            "Epoch 11/100\n",
            "1988/1988 [==============================] - 3s 2ms/step - loss: 0.1861 - accuracy: 0.9123\n",
            "Epoch 12/100\n",
            "1988/1988 [==============================] - 3s 2ms/step - loss: 0.1859 - accuracy: 0.9122\n",
            "Epoch 13/100\n",
            "1988/1988 [==============================] - 3s 2ms/step - loss: 0.1857 - accuracy: 0.9125\n",
            "Epoch 14/100\n",
            "1988/1988 [==============================] - 3s 2ms/step - loss: 0.1857 - accuracy: 0.9121\n",
            "Epoch 15/100\n",
            "1988/1988 [==============================] - 3s 2ms/step - loss: 0.1856 - accuracy: 0.9121\n",
            "Epoch 16/100\n",
            "1988/1988 [==============================] - 3s 2ms/step - loss: 0.1856 - accuracy: 0.9122\n",
            "Epoch 17/100\n",
            "1988/1988 [==============================] - 3s 2ms/step - loss: 0.1855 - accuracy: 0.9124\n",
            "Epoch 18/100\n",
            "1988/1988 [==============================] - 3s 2ms/step - loss: 0.1854 - accuracy: 0.9124\n",
            "Epoch 19/100\n",
            "1988/1988 [==============================] - 3s 2ms/step - loss: 0.1853 - accuracy: 0.9129\n",
            "Epoch 20/100\n",
            "1988/1988 [==============================] - 3s 2ms/step - loss: 0.1851 - accuracy: 0.9125\n",
            "Epoch 21/100\n",
            "1988/1988 [==============================] - 3s 2ms/step - loss: 0.1852 - accuracy: 0.9126\n",
            "Epoch 22/100\n",
            "1988/1988 [==============================] - 3s 2ms/step - loss: 0.1851 - accuracy: 0.9127\n",
            "Epoch 23/100\n",
            "1988/1988 [==============================] - 3s 2ms/step - loss: 0.1850 - accuracy: 0.9125\n",
            "Epoch 24/100\n",
            "1988/1988 [==============================] - 3s 2ms/step - loss: 0.1848 - accuracy: 0.9125\n",
            "Epoch 25/100\n",
            "1988/1988 [==============================] - 4s 2ms/step - loss: 0.1847 - accuracy: 0.9126\n",
            "Epoch 26/100\n",
            "1988/1988 [==============================] - 3s 2ms/step - loss: 0.1843 - accuracy: 0.9127\n",
            "Epoch 27/100\n",
            "1988/1988 [==============================] - 3s 2ms/step - loss: 0.1841 - accuracy: 0.9127\n",
            "Epoch 28/100\n",
            "1988/1988 [==============================] - 3s 2ms/step - loss: 0.1839 - accuracy: 0.9125\n",
            "Epoch 29/100\n",
            "1988/1988 [==============================] - 3s 2ms/step - loss: 0.1836 - accuracy: 0.9121\n",
            "Epoch 30/100\n",
            "1988/1988 [==============================] - 3s 2ms/step - loss: 0.1835 - accuracy: 0.9124\n",
            "Epoch 31/100\n",
            "1988/1988 [==============================] - 3s 2ms/step - loss: 0.1834 - accuracy: 0.9123\n",
            "Epoch 32/100\n",
            "1988/1988 [==============================] - 3s 2ms/step - loss: 0.1833 - accuracy: 0.9123\n",
            "Epoch 33/100\n",
            "1988/1988 [==============================] - 3s 2ms/step - loss: 0.1833 - accuracy: 0.9129\n",
            "Epoch 34/100\n",
            "1988/1988 [==============================] - 3s 2ms/step - loss: 0.1831 - accuracy: 0.9125\n",
            "Epoch 35/100\n",
            "1988/1988 [==============================] - 3s 2ms/step - loss: 0.1832 - accuracy: 0.9126\n",
            "Epoch 36/100\n",
            "1988/1988 [==============================] - 3s 2ms/step - loss: 0.1831 - accuracy: 0.9123\n",
            "Epoch 37/100\n",
            "1988/1988 [==============================] - 3s 2ms/step - loss: 0.1830 - accuracy: 0.9125\n",
            "Epoch 38/100\n",
            "1988/1988 [==============================] - 3s 2ms/step - loss: 0.1829 - accuracy: 0.9124\n",
            "Epoch 39/100\n",
            "1988/1988 [==============================] - 3s 2ms/step - loss: 0.1827 - accuracy: 0.9126\n",
            "Epoch 40/100\n",
            "1988/1988 [==============================] - 3s 2ms/step - loss: 0.1828 - accuracy: 0.9126\n",
            "Epoch 41/100\n",
            "1988/1988 [==============================] - 3s 2ms/step - loss: 0.1826 - accuracy: 0.9128\n",
            "Epoch 42/100\n",
            "1988/1988 [==============================] - 3s 2ms/step - loss: 0.1826 - accuracy: 0.9128\n",
            "Epoch 43/100\n",
            "1988/1988 [==============================] - 3s 2ms/step - loss: 0.1825 - accuracy: 0.9127\n",
            "Epoch 44/100\n",
            "1988/1988 [==============================] - 3s 2ms/step - loss: 0.1826 - accuracy: 0.9127\n",
            "Epoch 45/100\n",
            "1988/1988 [==============================] - 3s 2ms/step - loss: 0.1825 - accuracy: 0.9126\n",
            "Epoch 46/100\n",
            "1988/1988 [==============================] - 3s 2ms/step - loss: 0.1826 - accuracy: 0.9127\n",
            "Epoch 47/100\n",
            "1988/1988 [==============================] - 3s 2ms/step - loss: 0.1825 - accuracy: 0.9127\n",
            "Epoch 48/100\n",
            "1988/1988 [==============================] - 3s 2ms/step - loss: 0.1823 - accuracy: 0.9130\n",
            "Epoch 49/100\n",
            "1988/1988 [==============================] - 3s 2ms/step - loss: 0.1823 - accuracy: 0.9126\n",
            "Epoch 50/100\n",
            "1988/1988 [==============================] - 3s 2ms/step - loss: 0.1822 - accuracy: 0.9127\n",
            "Epoch 51/100\n",
            "1988/1988 [==============================] - 4s 2ms/step - loss: 0.1823 - accuracy: 0.9126\n",
            "Epoch 52/100\n",
            "1988/1988 [==============================] - 4s 2ms/step - loss: 0.1823 - accuracy: 0.9127\n",
            "Epoch 53/100\n",
            "1988/1988 [==============================] - 3s 2ms/step - loss: 0.1823 - accuracy: 0.9125\n",
            "Epoch 54/100\n",
            "1988/1988 [==============================] - 3s 2ms/step - loss: 0.1821 - accuracy: 0.9130\n",
            "Epoch 55/100\n",
            "1988/1988 [==============================] - 3s 2ms/step - loss: 0.1823 - accuracy: 0.9126\n",
            "Epoch 56/100\n",
            "1988/1988 [==============================] - 3s 2ms/step - loss: 0.1823 - accuracy: 0.9126\n",
            "Epoch 57/100\n",
            "1988/1988 [==============================] - 3s 2ms/step - loss: 0.1821 - accuracy: 0.9125\n",
            "Epoch 58/100\n",
            "1988/1988 [==============================] - 5s 3ms/step - loss: 0.1821 - accuracy: 0.9125\n",
            "Epoch 59/100\n",
            "1988/1988 [==============================] - 4s 2ms/step - loss: 0.1821 - accuracy: 0.9126\n",
            "Epoch 60/100\n",
            "1988/1988 [==============================] - 3s 2ms/step - loss: 0.1820 - accuracy: 0.9130\n",
            "Epoch 61/100\n",
            "1988/1988 [==============================] - 3s 2ms/step - loss: 0.1821 - accuracy: 0.9125\n",
            "Epoch 62/100\n",
            "1988/1988 [==============================] - 3s 2ms/step - loss: 0.1821 - accuracy: 0.9127\n",
            "Epoch 63/100\n",
            "1988/1988 [==============================] - 3s 2ms/step - loss: 0.1821 - accuracy: 0.9129\n",
            "Epoch 64/100\n",
            "1988/1988 [==============================] - 3s 2ms/step - loss: 0.1818 - accuracy: 0.9133\n",
            "Epoch 65/100\n",
            "1988/1988 [==============================] - 3s 2ms/step - loss: 0.1819 - accuracy: 0.9129\n",
            "Epoch 66/100\n",
            "1988/1988 [==============================] - 3s 2ms/step - loss: 0.1819 - accuracy: 0.9130\n",
            "Epoch 67/100\n",
            "1988/1988 [==============================] - 3s 2ms/step - loss: 0.1819 - accuracy: 0.9129\n",
            "Epoch 68/100\n",
            "1988/1988 [==============================] - 4s 2ms/step - loss: 0.1821 - accuracy: 0.9130\n",
            "Epoch 69/100\n",
            "1988/1988 [==============================] - 4s 2ms/step - loss: 0.1818 - accuracy: 0.9131\n",
            "Epoch 70/100\n",
            "1988/1988 [==============================] - 3s 2ms/step - loss: 0.1818 - accuracy: 0.9130\n",
            "Epoch 71/100\n",
            "1988/1988 [==============================] - 3s 2ms/step - loss: 0.1818 - accuracy: 0.9127\n",
            "Epoch 72/100\n",
            "1988/1988 [==============================] - 3s 2ms/step - loss: 0.1817 - accuracy: 0.9130\n",
            "Epoch 73/100\n",
            "1988/1988 [==============================] - 4s 2ms/step - loss: 0.1818 - accuracy: 0.9132\n",
            "Epoch 74/100\n",
            "1988/1988 [==============================] - 4s 2ms/step - loss: 0.1816 - accuracy: 0.9133\n",
            "Epoch 75/100\n",
            "1988/1988 [==============================] - 4s 2ms/step - loss: 0.1818 - accuracy: 0.9130\n",
            "Epoch 76/100\n",
            "1988/1988 [==============================] - 3s 2ms/step - loss: 0.1814 - accuracy: 0.9130\n",
            "Epoch 77/100\n",
            "1988/1988 [==============================] - 3s 2ms/step - loss: 0.1817 - accuracy: 0.9133\n",
            "Epoch 78/100\n",
            "1988/1988 [==============================] - 4s 2ms/step - loss: 0.1814 - accuracy: 0.9130\n",
            "Epoch 79/100\n",
            "1988/1988 [==============================] - 3s 2ms/step - loss: 0.1814 - accuracy: 0.9129\n",
            "Epoch 80/100\n",
            "1988/1988 [==============================] - 3s 2ms/step - loss: 0.1814 - accuracy: 0.9130\n",
            "Epoch 81/100\n",
            "1988/1988 [==============================] - 4s 2ms/step - loss: 0.1814 - accuracy: 0.9131\n",
            "Epoch 82/100\n",
            "1988/1988 [==============================] - 3s 2ms/step - loss: 0.1813 - accuracy: 0.9130\n",
            "Epoch 83/100\n",
            "1988/1988 [==============================] - 3s 2ms/step - loss: 0.1814 - accuracy: 0.9133\n",
            "Epoch 84/100\n",
            "1988/1988 [==============================] - 4s 2ms/step - loss: 0.1812 - accuracy: 0.9137\n",
            "Epoch 85/100\n",
            "1988/1988 [==============================] - 4s 2ms/step - loss: 0.1811 - accuracy: 0.9134\n",
            "Epoch 86/100\n",
            "1988/1988 [==============================] - 4s 2ms/step - loss: 0.1811 - accuracy: 0.9134\n",
            "Epoch 87/100\n",
            "1988/1988 [==============================] - 4s 2ms/step - loss: 0.1811 - accuracy: 0.9132\n",
            "Epoch 88/100\n",
            "1988/1988 [==============================] - 4s 2ms/step - loss: 0.1810 - accuracy: 0.9131\n",
            "Epoch 89/100\n",
            "1988/1988 [==============================] - 4s 2ms/step - loss: 0.1810 - accuracy: 0.9133\n",
            "Epoch 90/100\n",
            "1988/1988 [==============================] - 4s 2ms/step - loss: 0.1809 - accuracy: 0.9137\n",
            "Epoch 91/100\n",
            "1988/1988 [==============================] - 4s 2ms/step - loss: 0.1805 - accuracy: 0.9138\n",
            "Epoch 92/100\n",
            "1988/1988 [==============================] - 4s 2ms/step - loss: 0.1805 - accuracy: 0.9132\n",
            "Epoch 93/100\n",
            "1988/1988 [==============================] - 4s 2ms/step - loss: 0.1805 - accuracy: 0.9136\n",
            "Epoch 94/100\n",
            "1988/1988 [==============================] - 4s 2ms/step - loss: 0.1802 - accuracy: 0.9134\n",
            "Epoch 95/100\n",
            "1988/1988 [==============================] - 4s 2ms/step - loss: 0.1798 - accuracy: 0.9135\n",
            "Epoch 96/100\n",
            "1988/1988 [==============================] - 4s 2ms/step - loss: 0.1797 - accuracy: 0.9138\n",
            "Epoch 97/100\n",
            "1988/1988 [==============================] - 4s 2ms/step - loss: 0.1796 - accuracy: 0.9139\n",
            "Epoch 98/100\n",
            "1988/1988 [==============================] - 4s 2ms/step - loss: 0.1795 - accuracy: 0.9139\n",
            "Epoch 99/100\n",
            "1988/1988 [==============================] - 4s 2ms/step - loss: 0.1791 - accuracy: 0.9143\n",
            "Epoch 100/100\n",
            "1988/1988 [==============================] - 4s 2ms/step - loss: 0.1792 - accuracy: 0.9143\n"
          ]
        },
        {
          "output_type": "execute_result",
          "data": {
            "text/plain": [
              "<keras.callbacks.History at 0x7f0c79aa0e90>"
            ]
          },
          "metadata": {},
          "execution_count": 122
        }
      ]
    },
    {
      "cell_type": "code",
      "execution_count": 123,
      "id": "6c126466",
      "metadata": {
        "id": "6c126466",
        "colab": {
          "base_uri": "https://localhost:8080/"
        },
        "outputId": "2e8efd6b-e2f5-49f0-d5dc-09a012943170"
      },
      "outputs": [
        {
          "output_type": "stream",
          "name": "stdout",
          "text": [
            "852/852 [==============================] - 1s 1ms/step - loss: 0.1798 - accuracy: 0.9139\n"
          ]
        },
        {
          "output_type": "execute_result",
          "data": {
            "text/plain": [
              "[0.17977727949619293, 0.913948118686676]"
            ]
          },
          "metadata": {},
          "execution_count": 123
        }
      ],
      "source": [
        "model.evaluate(X_test, y_test)"
      ]
    },
    {
      "cell_type": "markdown",
      "source": [
        "# predicting the test values "
      ],
      "metadata": {
        "id": "ygrtmJZlfw0-"
      },
      "id": "ygrtmJZlfw0-"
    },
    {
      "cell_type": "code",
      "execution_count": 124,
      "id": "02f10b19",
      "metadata": {
        "id": "02f10b19",
        "colab": {
          "base_uri": "https://localhost:8080/"
        },
        "outputId": "81675d51-0f5b-4eea-d788-2e7203b377a7"
      },
      "outputs": [
        {
          "output_type": "execute_result",
          "data": {
            "text/plain": [
              "array([[1.2128205e-20],\n",
              "       [3.3440515e-09],\n",
              "       [1.3912562e-24],\n",
              "       [3.5809121e-01],\n",
              "       [2.5779536e-01]], dtype=float32)"
            ]
          },
          "metadata": {},
          "execution_count": 124
        }
      ],
      "source": [
        "yp = model.predict(X_test)\n",
        "yp[:5]"
      ]
    },
    {
      "cell_type": "code",
      "execution_count": 125,
      "id": "56945777",
      "metadata": {
        "id": "56945777"
      },
      "outputs": [],
      "source": [
        "y_pred = [] # making an empty list \n",
        "for element in yp:\n",
        "    if element > 0.5:\n",
        "        y_pred.append(1)\n",
        "    else:\n",
        "        y_pred.append(0)"
      ]
    },
    {
      "cell_type": "code",
      "execution_count": 126,
      "id": "fc5797c1",
      "metadata": {
        "id": "fc5797c1",
        "colab": {
          "base_uri": "https://localhost:8080/"
        },
        "outputId": "bc7ee930-c238-43b5-9f27-376f8f7537c2"
      },
      "outputs": [
        {
          "output_type": "execute_result",
          "data": {
            "text/plain": [
              "[0, 0, 0, 0, 0, 0, 0, 0, 0, 0]"
            ]
          },
          "metadata": {},
          "execution_count": 126
        }
      ],
      "source": [
        "y_pred[:10]"
      ]
    },
    {
      "cell_type": "code",
      "execution_count": 127,
      "id": "94e73ddb",
      "metadata": {
        "id": "94e73ddb",
        "colab": {
          "base_uri": "https://localhost:8080/"
        },
        "outputId": "acb4ecbc-aa64-4259-9a88-fe4de70a2c06"
      },
      "outputs": [
        {
          "output_type": "execute_result",
          "data": {
            "text/plain": [
              "67434    0\n",
              "33984    0\n",
              "82717    0\n",
              "16614    0\n",
              "8987     0\n",
              "15658    0\n",
              "81429    0\n",
              "50064    0\n",
              "41365    1\n",
              "42953    0\n",
              "Name: True, dtype: int64"
            ]
          },
          "metadata": {},
          "execution_count": 127
        }
      ],
      "source": [
        "y_test[:10]"
      ]
    },
    {
      "cell_type": "code",
      "execution_count": 128,
      "id": "a073d22d",
      "metadata": {
        "id": "a073d22d",
        "colab": {
          "base_uri": "https://localhost:8080/"
        },
        "outputId": "e7d61ec7-3926-4f5b-fd8c-50783519ad5a"
      },
      "outputs": [
        {
          "output_type": "stream",
          "name": "stdout",
          "text": [
            "              precision    recall  f1-score   support\n",
            "\n",
            "           0       0.92      0.99      0.95     24599\n",
            "           1       0.72      0.19      0.30      2652\n",
            "\n",
            "    accuracy                           0.91     27251\n",
            "   macro avg       0.82      0.59      0.63     27251\n",
            "weighted avg       0.90      0.91      0.89     27251\n",
            "\n"
          ]
        }
      ],
      "source": [
        "from sklearn.metrics import confusion_matrix , classification_report\n",
        "\n",
        "print(classification_report(y_test,y_pred))"
      ]
    },
    {
      "cell_type": "code",
      "source": [
        "import seaborn as sn\n",
        "cm = tf.math.confusion_matrix(labels=y_test,predictions=y_pred)\n",
        "\n",
        "m.figure(figsize = (10,7))\n",
        "s.heatmap(cm, annot=True, fmt='d')\n",
        "m.xlabel('Predicted')\n",
        "m.ylabel('Truth')"
      ],
      "metadata": {
        "colab": {
          "base_uri": "https://localhost:8080/",
          "height": 459
        },
        "id": "fnwiw9A-Cba_",
        "outputId": "520692fa-3ac1-4c5e-d194-3c2a718decee"
      },
      "id": "fnwiw9A-Cba_",
      "execution_count": 129,
      "outputs": [
        {
          "output_type": "execute_result",
          "data": {
            "text/plain": [
              "Text(69.0, 0.5, 'Truth')"
            ]
          },
          "metadata": {},
          "execution_count": 129
        },
        {
          "output_type": "display_data",
          "data": {
            "text/plain": [
              "<Figure size 720x504 with 2 Axes>"
            ],
            "image/png": "[encoded data removed]"
          },
          "metadata": {
            "needs_background": "light"
          }
        }
      ]
    },
    {
      "cell_type": "markdown",
      "source": [
        "# Accuracy test score"
      ],
      "metadata": {
        "id": "7x8dyY1-GWQ0"
      },
      "id": "7x8dyY1-GWQ0"
    },
    {
      "cell_type": "code",
      "source": [
        "round((24484+391)/(24484+391+2261+115),2)"
      ],
      "metadata": {
        "colab": {
          "base_uri": "https://localhost:8080/"
        },
        "id": "nqKPwgeVCikV",
        "outputId": "861a29f6-7d09-41a8-db10-1e8b370feebd"
      },
      "id": "nqKPwgeVCikV",
      "execution_count": 130,
      "outputs": [
        {
          "output_type": "execute_result",
          "data": {
            "text/plain": [
              "0.91"
            ]
          },
          "metadata": {},
          "execution_count": 130
        }
      ]
    },
    {
      "cell_type": "markdown",
      "source": [
        "# Precision for not hazardous object"
      ],
      "metadata": {
        "id": "pw93OcRFGbRy"
      },
      "id": "pw93OcRFGbRy"
    },
    {
      "cell_type": "code",
      "source": [
        "round(24484/(24484+2261),2)"
      ],
      "metadata": {
        "colab": {
          "base_uri": "https://localhost:8080/"
        },
        "id": "fDIAr95xC89W",
        "outputId": "d74e6afb-405f-4f23-8979-ce89117e5c32"
      },
      "id": "fDIAr95xC89W",
      "execution_count": 131,
      "outputs": [
        {
          "output_type": "execute_result",
          "data": {
            "text/plain": [
              "0.92"
            ]
          },
          "metadata": {},
          "execution_count": 131
        }
      ]
    },
    {
      "cell_type": "markdown",
      "source": [
        "# Precision for hazardous object"
      ],
      "metadata": {
        "id": "QRov8lwiHHFV"
      },
      "id": "QRov8lwiHHFV"
    },
    {
      "cell_type": "code",
      "source": [
        "round(391/(391+115),2)"
      ],
      "metadata": {
        "colab": {
          "base_uri": "https://localhost:8080/"
        },
        "id": "_zXuVp0AGml6",
        "outputId": "2137d3f5-4acf-4027-a627-9eaaaa4392de"
      },
      "id": "_zXuVp0AGml6",
      "execution_count": 132,
      "outputs": [
        {
          "output_type": "execute_result",
          "data": {
            "text/plain": [
              "0.77"
            ]
          },
          "metadata": {},
          "execution_count": 132
        }
      ]
    },
    {
      "cell_type": "markdown",
      "source": [
        "# Recall for not hazarous object"
      ],
      "metadata": {
        "id": "0b4-au64HzpK"
      },
      "id": "0b4-au64HzpK"
    },
    {
      "cell_type": "code",
      "source": [
        "round(24484/(24484+115),2)"
      ],
      "metadata": {
        "colab": {
          "base_uri": "https://localhost:8080/"
        },
        "id": "3UmBqzWFHvAJ",
        "outputId": "be2d810e-bd74-469a-e1be-62e1b20afd23"
      },
      "id": "3UmBqzWFHvAJ",
      "execution_count": 133,
      "outputs": [
        {
          "output_type": "execute_result",
          "data": {
            "text/plain": [
              "1.0"
            ]
          },
          "metadata": {},
          "execution_count": 133
        }
      ]
    },
    {
      "cell_type": "markdown",
      "source": [
        "# Recall for hazarous object"
      ],
      "metadata": {
        "id": "LH65QFpZIDP1"
      },
      "id": "LH65QFpZIDP1"
    },
    {
      "cell_type": "code",
      "source": [
        "round(391/(391+2261),2)"
      ],
      "metadata": {
        "colab": {
          "base_uri": "https://localhost:8080/"
        },
        "id": "0FxV9EaDIAux",
        "outputId": "afb76647-733a-4b89-9b37-ac53de7c50fd"
      },
      "id": "0FxV9EaDIAux",
      "execution_count": 134,
      "outputs": [
        {
          "output_type": "execute_result",
          "data": {
            "text/plain": [
              "0.15"
            ]
          },
          "metadata": {},
          "execution_count": 134
        }
      ]
    },
    {
      "cell_type": "code",
      "source": [],
      "metadata": {
        "id": "6wE8InANISXF"
      },
      "id": "6wE8InANISXF",
      "execution_count": 134,
      "outputs": []
    },
    {
      "cell_type": "code",
      "source": [],
      "metadata": {
        "id": "biswCC1rI9BR"
      },
      "id": "biswCC1rI9BR",
      "execution_count": 134,
      "outputs": []
    },
    {
      "cell_type": "code",
      "source": [],
      "metadata": {
        "id": "zFVl7pCLJMcx"
      },
      "id": "zFVl7pCLJMcx",
      "execution_count": null,
      "outputs": []
    }
  ],
  "metadata": {
    "kernelspec": {
      "display_name": "Python 3 (ipykernel)",
      "language": "python",
      "name": "python3"
    },
    "language_info": {
      "codemirror_mode": {
        "name": "ipython",
        "version": 3
      },
      "file_extension": ".py",
      "mimetype": "text/x-python",
      "name": "python",
      "nbconvert_exporter": "python",
      "pygments_lexer": "ipython3",
      "version": "3.9.12"
    },
    "colab": {
      "name": "Iosd.ipynb",
      "provenance": [],
      "collapsed_sections": [],
      "include_colab_link": true
    }
  },
  "nbformat": 4,
  "nbformat_minor": 5
}